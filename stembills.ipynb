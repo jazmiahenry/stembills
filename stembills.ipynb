{
 "cells": [
  {
   "cell_type": "code",
   "execution_count": 2,
   "metadata": {},
   "outputs": [],
   "source": [
    "import plotly.graph_objects as go\n",
    "\n",
    "import pandas as pd\n",
    "\n",
    "import seaborn as sns\n",
    "\n",
    "import matplotlib.pyplot as plt\n",
    "\n",
    "import plotly.figure_factory as ff\n",
    "\n",
    "from chart_studio.plotly import iplot"
   ]
  },
  {
   "cell_type": "code",
   "execution_count": 3,
   "metadata": {},
   "outputs": [],
   "source": [
    "df = pd.read_csv(\"stembillsus.csv\")"
   ]
  },
  {
   "cell_type": "code",
   "execution_count": 4,
   "metadata": {},
   "outputs": [
    {
     "data": {
      "text/plain": [
       "0     116th_congress_2019_2021\n",
       "1     115th_congress_2017_2019\n",
       "2     114th_congress_2015_2017\n",
       "3     113th_congress_2013_2015\n",
       "4     112th_congress_2011_2013\n",
       "5     111th_congress_2009_2010\n",
       "6     110th_congress_2007_2009\n",
       "7     109th_congress_2005_2006\n",
       "8     108th_congress_2003_2004\n",
       "9     107th_congress_2001_2002\n",
       "10    106th_congress_1999_2000\n",
       "11    105th_congress_1997_1998\n",
       "12    104th_congress_1995_1996\n",
       "13    103rd_congress_1993_1994\n",
       "14    102nd_congress_1991_1992\n",
       "15    101st_congress_1989_1990\n",
       "16    100th_congress_1987_1988\n",
       "17     99th_congress_1985_1986\n",
       "18     98th_congress_1983_1984\n",
       "19     97th_congress_1981_1982\n",
       "20     96th_congress_1979_1980\n",
       "21     95th_congress_1977_1978\n",
       "22     94th_congress_1975_1976\n",
       "23     93rd_congress_1973_1974\n",
       "Name: congress, dtype: object"
      ]
     },
     "execution_count": 4,
     "metadata": {},
     "output_type": "execute_result"
    }
   ],
   "source": [
    "df.congress"
   ]
  },
  {
   "cell_type": "code",
   "execution_count": 5,
   "metadata": {},
   "outputs": [],
   "source": [
    "congress = df['congress']\n",
    "congress = ['116th Congress (2019-2021)', '115th Congress (2017-2019)', '114th Congress (2015-2017)'\n",
    "            , '113th Congress (2013-2015)', '112th Congress (2011-2013)', '111th Congress (2009-2010)'\n",
    "            , '110th Congress (2007-2009)', '109th Congress (2005-2006)', '108th Congress (2003-2004)'\n",
    "            , '107th Congress (2001-2002)', '106th Congress (1999-2000)', '105th Congress (1997-1998)'\n",
    "            , '104th Congress (1995-1996)', '103rd Congress (1993-1994)', '102nd Congress (1991-1992)' \n",
    "            , '101st Congress (1989-1990)', '100th Congress (1987-1988)', '99th Congress (1985-1986)'\n",
    "            , '98th Congress (1983-1984)', '97th Congress (1981-1982)', '96th Congress (1979-1980)', '95th Congress (1977-1978)'\n",
    "            , '94th Congress (1975-1976)', '93rd Congress (1973-1974)']\n",
    "        \n"
   ]
  },
  {
   "cell_type": "code",
   "execution_count": 6,
   "metadata": {},
   "outputs": [
    {
     "data": {
      "text/plain": [
       "['116th Congress (2019-2021)',\n",
       " '115th Congress (2017-2019)',\n",
       " '114th Congress (2015-2017)',\n",
       " '113th Congress (2013-2015)',\n",
       " '112th Congress (2011-2013)',\n",
       " '111th Congress (2009-2010)',\n",
       " '110th Congress (2007-2009)',\n",
       " '109th Congress (2005-2006)',\n",
       " '108th Congress (2003-2004)',\n",
       " '107th Congress (2001-2002)',\n",
       " '106th Congress (1999-2000)',\n",
       " '105th Congress (1997-1998)',\n",
       " '104th Congress (1995-1996)',\n",
       " '103rd Congress (1993-1994)',\n",
       " '102nd Congress (1991-1992)',\n",
       " '101st Congress (1989-1990)',\n",
       " '100th Congress (1987-1988)',\n",
       " '99th Congress (1985-1986)',\n",
       " '98th Congress (1983-1984)',\n",
       " '97th Congress (1981-1982)',\n",
       " '96th Congress (1979-1980)',\n",
       " '95th Congress (1977-1978)',\n",
       " '94th Congress (1975-1976)',\n",
       " '93rd Congress (1973-1974)']"
      ]
     },
     "execution_count": 6,
     "metadata": {},
     "output_type": "execute_result"
    }
   ],
   "source": [
    "congress"
   ]
  },
  {
   "cell_type": "code",
   "execution_count": 7,
   "metadata": {},
   "outputs": [
    {
     "data": {
      "text/html": [
       "<div>\n",
       "<style scoped>\n",
       "    .dataframe tbody tr th:only-of-type {\n",
       "        vertical-align: middle;\n",
       "    }\n",
       "\n",
       "    .dataframe tbody tr th {\n",
       "        vertical-align: top;\n",
       "    }\n",
       "\n",
       "    .dataframe thead th {\n",
       "        text-align: right;\n",
       "    }\n",
       "</style>\n",
       "<table border=\"1\" class=\"dataframe\">\n",
       "  <thead>\n",
       "    <tr style=\"text-align: right;\">\n",
       "      <th></th>\n",
       "      <th>congress</th>\n",
       "      <th>Intro_bills</th>\n",
       "      <th>passed_house</th>\n",
       "      <th>paassed_senate</th>\n",
       "      <th>enacted_signed_by_pres</th>\n",
       "      <th>enacted_included_in_other_bill</th>\n",
       "      <th>Split_Gov</th>\n",
       "    </tr>\n",
       "  </thead>\n",
       "  <tbody>\n",
       "    <tr>\n",
       "      <th>0</th>\n",
       "      <td>116th_congress_2019_2021</td>\n",
       "      <td>421</td>\n",
       "      <td>33</td>\n",
       "      <td>14</td>\n",
       "      <td>12</td>\n",
       "      <td>32</td>\n",
       "      <td>0</td>\n",
       "    </tr>\n",
       "    <tr>\n",
       "      <th>1</th>\n",
       "      <td>115th_congress_2017_2019</td>\n",
       "      <td>297</td>\n",
       "      <td>36</td>\n",
       "      <td>15</td>\n",
       "      <td>16</td>\n",
       "      <td>41</td>\n",
       "      <td>1</td>\n",
       "    </tr>\n",
       "    <tr>\n",
       "      <th>2</th>\n",
       "      <td>114th_congress_2015_2017</td>\n",
       "      <td>169</td>\n",
       "      <td>28</td>\n",
       "      <td>3</td>\n",
       "      <td>4</td>\n",
       "      <td>10</td>\n",
       "      <td>0</td>\n",
       "    </tr>\n",
       "    <tr>\n",
       "      <th>3</th>\n",
       "      <td>113th_congress_2013_2015</td>\n",
       "      <td>148</td>\n",
       "      <td>15</td>\n",
       "      <td>2</td>\n",
       "      <td>6</td>\n",
       "      <td>11</td>\n",
       "      <td>0</td>\n",
       "    </tr>\n",
       "    <tr>\n",
       "      <th>4</th>\n",
       "      <td>112th_congress_2011_2013</td>\n",
       "      <td>124</td>\n",
       "      <td>8</td>\n",
       "      <td>1</td>\n",
       "      <td>3</td>\n",
       "      <td>4</td>\n",
       "      <td>0</td>\n",
       "    </tr>\n",
       "    <tr>\n",
       "      <th>5</th>\n",
       "      <td>111th_congress_2009_2010</td>\n",
       "      <td>147</td>\n",
       "      <td>15</td>\n",
       "      <td>3</td>\n",
       "      <td>14</td>\n",
       "      <td>20</td>\n",
       "      <td>1</td>\n",
       "    </tr>\n",
       "    <tr>\n",
       "      <th>6</th>\n",
       "      <td>110th_congress_2007_2009</td>\n",
       "      <td>1850</td>\n",
       "      <td>196</td>\n",
       "      <td>34</td>\n",
       "      <td>89</td>\n",
       "      <td>161</td>\n",
       "      <td>1</td>\n",
       "    </tr>\n",
       "    <tr>\n",
       "      <th>7</th>\n",
       "      <td>109th_congress_2005_2006</td>\n",
       "      <td>2004</td>\n",
       "      <td>106</td>\n",
       "      <td>46</td>\n",
       "      <td>100</td>\n",
       "      <td>117</td>\n",
       "      <td>0</td>\n",
       "    </tr>\n",
       "    <tr>\n",
       "      <th>8</th>\n",
       "      <td>108th_congress_2003_2004</td>\n",
       "      <td>1744</td>\n",
       "      <td>109</td>\n",
       "      <td>88</td>\n",
       "      <td>128</td>\n",
       "      <td>150</td>\n",
       "      <td>0</td>\n",
       "    </tr>\n",
       "    <tr>\n",
       "      <th>9</th>\n",
       "      <td>107th_congress_2001_2002</td>\n",
       "      <td>1805</td>\n",
       "      <td>101</td>\n",
       "      <td>58</td>\n",
       "      <td>97</td>\n",
       "      <td>116</td>\n",
       "      <td>0</td>\n",
       "    </tr>\n",
       "    <tr>\n",
       "      <th>10</th>\n",
       "      <td>106th_congress_1999_2000</td>\n",
       "      <td>1782</td>\n",
       "      <td>105</td>\n",
       "      <td>65</td>\n",
       "      <td>149</td>\n",
       "      <td>185</td>\n",
       "      <td>1</td>\n",
       "    </tr>\n",
       "    <tr>\n",
       "      <th>11</th>\n",
       "      <td>105th_congress_1997_1998</td>\n",
       "      <td>1360</td>\n",
       "      <td>86</td>\n",
       "      <td>59</td>\n",
       "      <td>125</td>\n",
       "      <td>150</td>\n",
       "      <td>1</td>\n",
       "    </tr>\n",
       "    <tr>\n",
       "      <th>12</th>\n",
       "      <td>104th_congress_1995_1996</td>\n",
       "      <td>1039</td>\n",
       "      <td>83</td>\n",
       "      <td>29</td>\n",
       "      <td>94</td>\n",
       "      <td>111</td>\n",
       "      <td>1</td>\n",
       "    </tr>\n",
       "    <tr>\n",
       "      <th>13</th>\n",
       "      <td>103rd_congress_1993_1994</td>\n",
       "      <td>526</td>\n",
       "      <td>78</td>\n",
       "      <td>37</td>\n",
       "      <td>91</td>\n",
       "      <td>104</td>\n",
       "      <td>0</td>\n",
       "    </tr>\n",
       "    <tr>\n",
       "      <th>14</th>\n",
       "      <td>102nd_congress_1991_1992</td>\n",
       "      <td>118</td>\n",
       "      <td>18</td>\n",
       "      <td>14</td>\n",
       "      <td>31</td>\n",
       "      <td>33</td>\n",
       "      <td>1</td>\n",
       "    </tr>\n",
       "    <tr>\n",
       "      <th>15</th>\n",
       "      <td>101st_congress_1989_1990</td>\n",
       "      <td>88</td>\n",
       "      <td>13</td>\n",
       "      <td>13</td>\n",
       "      <td>20</td>\n",
       "      <td>26</td>\n",
       "      <td>1</td>\n",
       "    </tr>\n",
       "    <tr>\n",
       "      <th>16</th>\n",
       "      <td>100th_congress_1987_1988</td>\n",
       "      <td>111</td>\n",
       "      <td>6</td>\n",
       "      <td>2</td>\n",
       "      <td>21</td>\n",
       "      <td>24</td>\n",
       "      <td>1</td>\n",
       "    </tr>\n",
       "    <tr>\n",
       "      <th>17</th>\n",
       "      <td>99th_congress_1985_1986</td>\n",
       "      <td>122</td>\n",
       "      <td>4</td>\n",
       "      <td>5</td>\n",
       "      <td>18</td>\n",
       "      <td>21</td>\n",
       "      <td>0</td>\n",
       "    </tr>\n",
       "    <tr>\n",
       "      <th>18</th>\n",
       "      <td>98th_congress_1983_1984</td>\n",
       "      <td>176</td>\n",
       "      <td>7</td>\n",
       "      <td>8</td>\n",
       "      <td>14</td>\n",
       "      <td>15</td>\n",
       "      <td>0</td>\n",
       "    </tr>\n",
       "    <tr>\n",
       "      <th>19</th>\n",
       "      <td>97th_congress_1981_1982</td>\n",
       "      <td>132</td>\n",
       "      <td>12</td>\n",
       "      <td>9</td>\n",
       "      <td>6</td>\n",
       "      <td>6</td>\n",
       "      <td>0</td>\n",
       "    </tr>\n",
       "    <tr>\n",
       "      <th>20</th>\n",
       "      <td>96th_congress_1979_1980</td>\n",
       "      <td>146</td>\n",
       "      <td>10</td>\n",
       "      <td>6</td>\n",
       "      <td>21</td>\n",
       "      <td>25</td>\n",
       "      <td>0</td>\n",
       "    </tr>\n",
       "    <tr>\n",
       "      <th>21</th>\n",
       "      <td>95th_congress_1977_1978</td>\n",
       "      <td>308</td>\n",
       "      <td>3</td>\n",
       "      <td>2</td>\n",
       "      <td>13</td>\n",
       "      <td>14</td>\n",
       "      <td>0</td>\n",
       "    </tr>\n",
       "    <tr>\n",
       "      <th>22</th>\n",
       "      <td>94th_congress_1975_1976</td>\n",
       "      <td>215</td>\n",
       "      <td>2</td>\n",
       "      <td>2</td>\n",
       "      <td>11</td>\n",
       "      <td>12</td>\n",
       "      <td>1</td>\n",
       "    </tr>\n",
       "    <tr>\n",
       "      <th>23</th>\n",
       "      <td>93rd_congress_1973_1974</td>\n",
       "      <td>384</td>\n",
       "      <td>2</td>\n",
       "      <td>2</td>\n",
       "      <td>9</td>\n",
       "      <td>14</td>\n",
       "      <td>1</td>\n",
       "    </tr>\n",
       "  </tbody>\n",
       "</table>\n",
       "</div>"
      ],
      "text/plain": [
       "                    congress  Intro_bills  passed_house  paassed_senate  \\\n",
       "0   116th_congress_2019_2021          421            33              14   \n",
       "1   115th_congress_2017_2019          297            36              15   \n",
       "2   114th_congress_2015_2017          169            28               3   \n",
       "3   113th_congress_2013_2015          148            15               2   \n",
       "4   112th_congress_2011_2013          124             8               1   \n",
       "5   111th_congress_2009_2010          147            15               3   \n",
       "6   110th_congress_2007_2009         1850           196              34   \n",
       "7   109th_congress_2005_2006         2004           106              46   \n",
       "8   108th_congress_2003_2004         1744           109              88   \n",
       "9   107th_congress_2001_2002         1805           101              58   \n",
       "10  106th_congress_1999_2000         1782           105              65   \n",
       "11  105th_congress_1997_1998         1360            86              59   \n",
       "12  104th_congress_1995_1996         1039            83              29   \n",
       "13  103rd_congress_1993_1994          526            78              37   \n",
       "14  102nd_congress_1991_1992          118            18              14   \n",
       "15  101st_congress_1989_1990           88            13              13   \n",
       "16  100th_congress_1987_1988          111             6               2   \n",
       "17   99th_congress_1985_1986          122             4               5   \n",
       "18   98th_congress_1983_1984          176             7               8   \n",
       "19   97th_congress_1981_1982          132            12               9   \n",
       "20   96th_congress_1979_1980          146            10               6   \n",
       "21   95th_congress_1977_1978          308             3               2   \n",
       "22   94th_congress_1975_1976          215             2               2   \n",
       "23   93rd_congress_1973_1974          384             2               2   \n",
       "\n",
       "    enacted_signed_by_pres  enacted_included_in_other_bill  Split_Gov  \n",
       "0                       12                              32          0  \n",
       "1                       16                              41          1  \n",
       "2                        4                              10          0  \n",
       "3                        6                              11          0  \n",
       "4                        3                               4          0  \n",
       "5                       14                              20          1  \n",
       "6                       89                             161          1  \n",
       "7                      100                             117          0  \n",
       "8                      128                             150          0  \n",
       "9                       97                             116          0  \n",
       "10                     149                             185          1  \n",
       "11                     125                             150          1  \n",
       "12                      94                             111          1  \n",
       "13                      91                             104          0  \n",
       "14                      31                              33          1  \n",
       "15                      20                              26          1  \n",
       "16                      21                              24          1  \n",
       "17                      18                              21          0  \n",
       "18                      14                              15          0  \n",
       "19                       6                               6          0  \n",
       "20                      21                              25          0  \n",
       "21                      13                              14          0  \n",
       "22                      11                              12          1  \n",
       "23                       9                              14          1  "
      ]
     },
     "execution_count": 7,
     "metadata": {},
     "output_type": "execute_result"
    }
   ],
   "source": [
    "df"
   ]
  },
  {
   "cell_type": "code",
   "execution_count": 33,
   "metadata": {},
   "outputs": [
    {
     "data": {
      "application/vnd.plotly.v1+json": {
       "config": {
        "plotlyServerURL": "https://plotly.com"
       },
       "data": [
        {
         "alignmentgroup": "True",
         "hovertemplate": "color=116th Congress (2019-2021)<br>animation_frame=116th Congress (2019-2021)<br>x=%{x}<br>value=%{y}<extra></extra>",
         "legendgroup": "116th Congress (2019-2021)",
         "marker": {
          "color": "#636efa"
         },
         "name": "116th Congress (2019-2021)",
         "offsetgroup": "116th Congress (2019-2021)",
         "orientation": "v",
         "showlegend": true,
         "textposition": "auto",
         "type": "bar",
         "x": [
          "116th Congress (2019-2021)"
         ],
         "xaxis": "x",
         "y": [
          421
         ],
         "yaxis": "y"
        }
       ],
       "frames": [
        {
         "data": [
          {
           "alignmentgroup": "True",
           "hovertemplate": "color=116th Congress (2019-2021)<br>animation_frame=116th Congress (2019-2021)<br>x=%{x}<br>value=%{y}<extra></extra>",
           "legendgroup": "116th Congress (2019-2021)",
           "marker": {
            "color": "#636efa"
           },
           "name": "116th Congress (2019-2021)",
           "offsetgroup": "116th Congress (2019-2021)",
           "orientation": "v",
           "showlegend": true,
           "textposition": "auto",
           "type": "bar",
           "x": [
            "116th Congress (2019-2021)"
           ],
           "xaxis": "x",
           "y": [
            421
           ],
           "yaxis": "y"
          }
         ],
         "name": "116th Congress (2019-2021)"
        },
        {
         "data": [
          {
           "alignmentgroup": "True",
           "hovertemplate": "color=115th Congress (2017-2019)<br>animation_frame=115th Congress (2017-2019)<br>x=%{x}<br>value=%{y}<extra></extra>",
           "legendgroup": "115th Congress (2017-2019)",
           "marker": {
            "color": "#EF553B"
           },
           "name": "115th Congress (2017-2019)",
           "offsetgroup": "115th Congress (2017-2019)",
           "orientation": "v",
           "showlegend": true,
           "textposition": "auto",
           "type": "bar",
           "x": [
            "115th Congress (2017-2019)"
           ],
           "xaxis": "x",
           "y": [
            297
           ],
           "yaxis": "y"
          }
         ],
         "name": "115th Congress (2017-2019)"
        },
        {
         "data": [
          {
           "alignmentgroup": "True",
           "hovertemplate": "color=114th Congress (2015-2017)<br>animation_frame=114th Congress (2015-2017)<br>x=%{x}<br>value=%{y}<extra></extra>",
           "legendgroup": "114th Congress (2015-2017)",
           "marker": {
            "color": "#00cc96"
           },
           "name": "114th Congress (2015-2017)",
           "offsetgroup": "114th Congress (2015-2017)",
           "orientation": "v",
           "showlegend": true,
           "textposition": "auto",
           "type": "bar",
           "x": [
            "114th Congress (2015-2017)"
           ],
           "xaxis": "x",
           "y": [
            169
           ],
           "yaxis": "y"
          }
         ],
         "name": "114th Congress (2015-2017)"
        },
        {
         "data": [
          {
           "alignmentgroup": "True",
           "hovertemplate": "color=113th Congress (2013-2015)<br>animation_frame=113th Congress (2013-2015)<br>x=%{x}<br>value=%{y}<extra></extra>",
           "legendgroup": "113th Congress (2013-2015)",
           "marker": {
            "color": "#ab63fa"
           },
           "name": "113th Congress (2013-2015)",
           "offsetgroup": "113th Congress (2013-2015)",
           "orientation": "v",
           "showlegend": true,
           "textposition": "auto",
           "type": "bar",
           "x": [
            "113th Congress (2013-2015)"
           ],
           "xaxis": "x",
           "y": [
            148
           ],
           "yaxis": "y"
          }
         ],
         "name": "113th Congress (2013-2015)"
        },
        {
         "data": [
          {
           "alignmentgroup": "True",
           "hovertemplate": "color=112th Congress (2011-2013)<br>animation_frame=112th Congress (2011-2013)<br>x=%{x}<br>value=%{y}<extra></extra>",
           "legendgroup": "112th Congress (2011-2013)",
           "marker": {
            "color": "#FFA15A"
           },
           "name": "112th Congress (2011-2013)",
           "offsetgroup": "112th Congress (2011-2013)",
           "orientation": "v",
           "showlegend": true,
           "textposition": "auto",
           "type": "bar",
           "x": [
            "112th Congress (2011-2013)"
           ],
           "xaxis": "x",
           "y": [
            124
           ],
           "yaxis": "y"
          }
         ],
         "name": "112th Congress (2011-2013)"
        },
        {
         "data": [
          {
           "alignmentgroup": "True",
           "hovertemplate": "color=111th Congress (2009-2010)<br>animation_frame=111th Congress (2009-2010)<br>x=%{x}<br>value=%{y}<extra></extra>",
           "legendgroup": "111th Congress (2009-2010)",
           "marker": {
            "color": "#19d3f3"
           },
           "name": "111th Congress (2009-2010)",
           "offsetgroup": "111th Congress (2009-2010)",
           "orientation": "v",
           "showlegend": true,
           "textposition": "auto",
           "type": "bar",
           "x": [
            "111th Congress (2009-2010)"
           ],
           "xaxis": "x",
           "y": [
            147
           ],
           "yaxis": "y"
          }
         ],
         "name": "111th Congress (2009-2010)"
        },
        {
         "data": [
          {
           "alignmentgroup": "True",
           "hovertemplate": "color=110th Congress (2007-2009)<br>animation_frame=110th Congress (2007-2009)<br>x=%{x}<br>value=%{y}<extra></extra>",
           "legendgroup": "110th Congress (2007-2009)",
           "marker": {
            "color": "#FF6692"
           },
           "name": "110th Congress (2007-2009)",
           "offsetgroup": "110th Congress (2007-2009)",
           "orientation": "v",
           "showlegend": true,
           "textposition": "auto",
           "type": "bar",
           "x": [
            "110th Congress (2007-2009)"
           ],
           "xaxis": "x",
           "y": [
            1850
           ],
           "yaxis": "y"
          }
         ],
         "name": "110th Congress (2007-2009)"
        },
        {
         "data": [
          {
           "alignmentgroup": "True",
           "hovertemplate": "color=109th Congress (2005-2006)<br>animation_frame=109th Congress (2005-2006)<br>x=%{x}<br>value=%{y}<extra></extra>",
           "legendgroup": "109th Congress (2005-2006)",
           "marker": {
            "color": "#B6E880"
           },
           "name": "109th Congress (2005-2006)",
           "offsetgroup": "109th Congress (2005-2006)",
           "orientation": "v",
           "showlegend": true,
           "textposition": "auto",
           "type": "bar",
           "x": [
            "109th Congress (2005-2006)"
           ],
           "xaxis": "x",
           "y": [
            2004
           ],
           "yaxis": "y"
          }
         ],
         "name": "109th Congress (2005-2006)"
        },
        {
         "data": [
          {
           "alignmentgroup": "True",
           "hovertemplate": "color=108th Congress (2003-2004)<br>animation_frame=108th Congress (2003-2004)<br>x=%{x}<br>value=%{y}<extra></extra>",
           "legendgroup": "108th Congress (2003-2004)",
           "marker": {
            "color": "#FF97FF"
           },
           "name": "108th Congress (2003-2004)",
           "offsetgroup": "108th Congress (2003-2004)",
           "orientation": "v",
           "showlegend": true,
           "textposition": "auto",
           "type": "bar",
           "x": [
            "108th Congress (2003-2004)"
           ],
           "xaxis": "x",
           "y": [
            1744
           ],
           "yaxis": "y"
          }
         ],
         "name": "108th Congress (2003-2004)"
        },
        {
         "data": [
          {
           "alignmentgroup": "True",
           "hovertemplate": "color=107th Congress (2001-2002)<br>animation_frame=107th Congress (2001-2002)<br>x=%{x}<br>value=%{y}<extra></extra>",
           "legendgroup": "107th Congress (2001-2002)",
           "marker": {
            "color": "#FECB52"
           },
           "name": "107th Congress (2001-2002)",
           "offsetgroup": "107th Congress (2001-2002)",
           "orientation": "v",
           "showlegend": true,
           "textposition": "auto",
           "type": "bar",
           "x": [
            "107th Congress (2001-2002)"
           ],
           "xaxis": "x",
           "y": [
            1805
           ],
           "yaxis": "y"
          }
         ],
         "name": "107th Congress (2001-2002)"
        },
        {
         "data": [
          {
           "alignmentgroup": "True",
           "hovertemplate": "color=106th Congress (1999-2000)<br>animation_frame=106th Congress (1999-2000)<br>x=%{x}<br>value=%{y}<extra></extra>",
           "legendgroup": "106th Congress (1999-2000)",
           "marker": {
            "color": "#636efa"
           },
           "name": "106th Congress (1999-2000)",
           "offsetgroup": "106th Congress (1999-2000)",
           "orientation": "v",
           "showlegend": true,
           "textposition": "auto",
           "type": "bar",
           "x": [
            "106th Congress (1999-2000)"
           ],
           "xaxis": "x",
           "y": [
            1782
           ],
           "yaxis": "y"
          }
         ],
         "name": "106th Congress (1999-2000)"
        },
        {
         "data": [
          {
           "alignmentgroup": "True",
           "hovertemplate": "color=105th Congress (1997-1998)<br>animation_frame=105th Congress (1997-1998)<br>x=%{x}<br>value=%{y}<extra></extra>",
           "legendgroup": "105th Congress (1997-1998)",
           "marker": {
            "color": "#EF553B"
           },
           "name": "105th Congress (1997-1998)",
           "offsetgroup": "105th Congress (1997-1998)",
           "orientation": "v",
           "showlegend": true,
           "textposition": "auto",
           "type": "bar",
           "x": [
            "105th Congress (1997-1998)"
           ],
           "xaxis": "x",
           "y": [
            1360
           ],
           "yaxis": "y"
          }
         ],
         "name": "105th Congress (1997-1998)"
        },
        {
         "data": [
          {
           "alignmentgroup": "True",
           "hovertemplate": "color=104th Congress (1995-1996)<br>animation_frame=104th Congress (1995-1996)<br>x=%{x}<br>value=%{y}<extra></extra>",
           "legendgroup": "104th Congress (1995-1996)",
           "marker": {
            "color": "#00cc96"
           },
           "name": "104th Congress (1995-1996)",
           "offsetgroup": "104th Congress (1995-1996)",
           "orientation": "v",
           "showlegend": true,
           "textposition": "auto",
           "type": "bar",
           "x": [
            "104th Congress (1995-1996)"
           ],
           "xaxis": "x",
           "y": [
            1039
           ],
           "yaxis": "y"
          }
         ],
         "name": "104th Congress (1995-1996)"
        },
        {
         "data": [
          {
           "alignmentgroup": "True",
           "hovertemplate": "color=103rd Congress (1993-1994)<br>animation_frame=103rd Congress (1993-1994)<br>x=%{x}<br>value=%{y}<extra></extra>",
           "legendgroup": "103rd Congress (1993-1994)",
           "marker": {
            "color": "#ab63fa"
           },
           "name": "103rd Congress (1993-1994)",
           "offsetgroup": "103rd Congress (1993-1994)",
           "orientation": "v",
           "showlegend": true,
           "textposition": "auto",
           "type": "bar",
           "x": [
            "103rd Congress (1993-1994)"
           ],
           "xaxis": "x",
           "y": [
            526
           ],
           "yaxis": "y"
          }
         ],
         "name": "103rd Congress (1993-1994)"
        },
        {
         "data": [
          {
           "alignmentgroup": "True",
           "hovertemplate": "color=102nd Congress (1991-1992)<br>animation_frame=102nd Congress (1991-1992)<br>x=%{x}<br>value=%{y}<extra></extra>",
           "legendgroup": "102nd Congress (1991-1992)",
           "marker": {
            "color": "#FFA15A"
           },
           "name": "102nd Congress (1991-1992)",
           "offsetgroup": "102nd Congress (1991-1992)",
           "orientation": "v",
           "showlegend": true,
           "textposition": "auto",
           "type": "bar",
           "x": [
            "102nd Congress (1991-1992)"
           ],
           "xaxis": "x",
           "y": [
            118
           ],
           "yaxis": "y"
          }
         ],
         "name": "102nd Congress (1991-1992)"
        },
        {
         "data": [
          {
           "alignmentgroup": "True",
           "hovertemplate": "color=101st Congress (1989-1990)<br>animation_frame=101st Congress (1989-1990)<br>x=%{x}<br>value=%{y}<extra></extra>",
           "legendgroup": "101st Congress (1989-1990)",
           "marker": {
            "color": "#19d3f3"
           },
           "name": "101st Congress (1989-1990)",
           "offsetgroup": "101st Congress (1989-1990)",
           "orientation": "v",
           "showlegend": true,
           "textposition": "auto",
           "type": "bar",
           "x": [
            "101st Congress (1989-1990)"
           ],
           "xaxis": "x",
           "y": [
            88
           ],
           "yaxis": "y"
          }
         ],
         "name": "101st Congress (1989-1990)"
        },
        {
         "data": [
          {
           "alignmentgroup": "True",
           "hovertemplate": "color=100th Congress (1987-1988)<br>animation_frame=100th Congress (1987-1988)<br>x=%{x}<br>value=%{y}<extra></extra>",
           "legendgroup": "100th Congress (1987-1988)",
           "marker": {
            "color": "#FF6692"
           },
           "name": "100th Congress (1987-1988)",
           "offsetgroup": "100th Congress (1987-1988)",
           "orientation": "v",
           "showlegend": true,
           "textposition": "auto",
           "type": "bar",
           "x": [
            "100th Congress (1987-1988)"
           ],
           "xaxis": "x",
           "y": [
            111
           ],
           "yaxis": "y"
          }
         ],
         "name": "100th Congress (1987-1988)"
        },
        {
         "data": [
          {
           "alignmentgroup": "True",
           "hovertemplate": "color=99th Congress (1985-1986)<br>animation_frame=99th Congress (1985-1986)<br>x=%{x}<br>value=%{y}<extra></extra>",
           "legendgroup": "99th Congress (1985-1986)",
           "marker": {
            "color": "#B6E880"
           },
           "name": "99th Congress (1985-1986)",
           "offsetgroup": "99th Congress (1985-1986)",
           "orientation": "v",
           "showlegend": true,
           "textposition": "auto",
           "type": "bar",
           "x": [
            "99th Congress (1985-1986)"
           ],
           "xaxis": "x",
           "y": [
            122
           ],
           "yaxis": "y"
          }
         ],
         "name": "99th Congress (1985-1986)"
        },
        {
         "data": [
          {
           "alignmentgroup": "True",
           "hovertemplate": "color=98th Congress (1983-1984)<br>animation_frame=98th Congress (1983-1984)<br>x=%{x}<br>value=%{y}<extra></extra>",
           "legendgroup": "98th Congress (1983-1984)",
           "marker": {
            "color": "#FF97FF"
           },
           "name": "98th Congress (1983-1984)",
           "offsetgroup": "98th Congress (1983-1984)",
           "orientation": "v",
           "showlegend": true,
           "textposition": "auto",
           "type": "bar",
           "x": [
            "98th Congress (1983-1984)"
           ],
           "xaxis": "x",
           "y": [
            176
           ],
           "yaxis": "y"
          }
         ],
         "name": "98th Congress (1983-1984)"
        },
        {
         "data": [
          {
           "alignmentgroup": "True",
           "hovertemplate": "color=97th Congress (1981-1982)<br>animation_frame=97th Congress (1981-1982)<br>x=%{x}<br>value=%{y}<extra></extra>",
           "legendgroup": "97th Congress (1981-1982)",
           "marker": {
            "color": "#FECB52"
           },
           "name": "97th Congress (1981-1982)",
           "offsetgroup": "97th Congress (1981-1982)",
           "orientation": "v",
           "showlegend": true,
           "textposition": "auto",
           "type": "bar",
           "x": [
            "97th Congress (1981-1982)"
           ],
           "xaxis": "x",
           "y": [
            132
           ],
           "yaxis": "y"
          }
         ],
         "name": "97th Congress (1981-1982)"
        },
        {
         "data": [
          {
           "alignmentgroup": "True",
           "hovertemplate": "color=96th Congress (1979-1980)<br>animation_frame=96th Congress (1979-1980)<br>x=%{x}<br>value=%{y}<extra></extra>",
           "legendgroup": "96th Congress (1979-1980)",
           "marker": {
            "color": "#636efa"
           },
           "name": "96th Congress (1979-1980)",
           "offsetgroup": "96th Congress (1979-1980)",
           "orientation": "v",
           "showlegend": true,
           "textposition": "auto",
           "type": "bar",
           "x": [
            "96th Congress (1979-1980)"
           ],
           "xaxis": "x",
           "y": [
            146
           ],
           "yaxis": "y"
          }
         ],
         "name": "96th Congress (1979-1980)"
        },
        {
         "data": [
          {
           "alignmentgroup": "True",
           "hovertemplate": "color=95th Congress (1977-1978)<br>animation_frame=95th Congress (1977-1978)<br>x=%{x}<br>value=%{y}<extra></extra>",
           "legendgroup": "95th Congress (1977-1978)",
           "marker": {
            "color": "#EF553B"
           },
           "name": "95th Congress (1977-1978)",
           "offsetgroup": "95th Congress (1977-1978)",
           "orientation": "v",
           "showlegend": true,
           "textposition": "auto",
           "type": "bar",
           "x": [
            "95th Congress (1977-1978)"
           ],
           "xaxis": "x",
           "y": [
            308
           ],
           "yaxis": "y"
          }
         ],
         "name": "95th Congress (1977-1978)"
        },
        {
         "data": [
          {
           "alignmentgroup": "True",
           "hovertemplate": "color=94th Congress (1975-1976)<br>animation_frame=94th Congress (1975-1976)<br>x=%{x}<br>value=%{y}<extra></extra>",
           "legendgroup": "94th Congress (1975-1976)",
           "marker": {
            "color": "#00cc96"
           },
           "name": "94th Congress (1975-1976)",
           "offsetgroup": "94th Congress (1975-1976)",
           "orientation": "v",
           "showlegend": true,
           "textposition": "auto",
           "type": "bar",
           "x": [
            "94th Congress (1975-1976)"
           ],
           "xaxis": "x",
           "y": [
            215
           ],
           "yaxis": "y"
          }
         ],
         "name": "94th Congress (1975-1976)"
        },
        {
         "data": [
          {
           "alignmentgroup": "True",
           "hovertemplate": "color=93rd Congress (1973-1974)<br>animation_frame=93rd Congress (1973-1974)<br>x=%{x}<br>value=%{y}<extra></extra>",
           "legendgroup": "93rd Congress (1973-1974)",
           "marker": {
            "color": "#ab63fa"
           },
           "name": "93rd Congress (1973-1974)",
           "offsetgroup": "93rd Congress (1973-1974)",
           "orientation": "v",
           "showlegend": true,
           "textposition": "auto",
           "type": "bar",
           "x": [
            "93rd Congress (1973-1974)"
           ],
           "xaxis": "x",
           "y": [
            384
           ],
           "yaxis": "y"
          }
         ],
         "name": "93rd Congress (1973-1974)"
        }
       ],
       "layout": {
        "barmode": "group",
        "legend": {
         "title": {
          "text": "color"
         },
         "tracegroupgap": 0
        },
        "margin": {
         "t": 60
        },
        "sliders": [
         {
          "active": 0,
          "currentvalue": {
           "prefix": "animation_frame="
          },
          "len": 0.9,
          "pad": {
           "b": 10,
           "t": 60
          },
          "steps": [
           {
            "args": [
             [
              "116th Congress (2019-2021)"
             ],
             {
              "frame": {
               "duration": 0,
               "redraw": true
              },
              "fromcurrent": true,
              "mode": "immediate",
              "transition": {
               "duration": 0,
               "easing": "linear"
              }
             }
            ],
            "label": "116th Congress (2019-2021)",
            "method": "animate"
           },
           {
            "args": [
             [
              "115th Congress (2017-2019)"
             ],
             {
              "frame": {
               "duration": 0,
               "redraw": true
              },
              "fromcurrent": true,
              "mode": "immediate",
              "transition": {
               "duration": 0,
               "easing": "linear"
              }
             }
            ],
            "label": "115th Congress (2017-2019)",
            "method": "animate"
           },
           {
            "args": [
             [
              "114th Congress (2015-2017)"
             ],
             {
              "frame": {
               "duration": 0,
               "redraw": true
              },
              "fromcurrent": true,
              "mode": "immediate",
              "transition": {
               "duration": 0,
               "easing": "linear"
              }
             }
            ],
            "label": "114th Congress (2015-2017)",
            "method": "animate"
           },
           {
            "args": [
             [
              "113th Congress (2013-2015)"
             ],
             {
              "frame": {
               "duration": 0,
               "redraw": true
              },
              "fromcurrent": true,
              "mode": "immediate",
              "transition": {
               "duration": 0,
               "easing": "linear"
              }
             }
            ],
            "label": "113th Congress (2013-2015)",
            "method": "animate"
           },
           {
            "args": [
             [
              "112th Congress (2011-2013)"
             ],
             {
              "frame": {
               "duration": 0,
               "redraw": true
              },
              "fromcurrent": true,
              "mode": "immediate",
              "transition": {
               "duration": 0,
               "easing": "linear"
              }
             }
            ],
            "label": "112th Congress (2011-2013)",
            "method": "animate"
           },
           {
            "args": [
             [
              "111th Congress (2009-2010)"
             ],
             {
              "frame": {
               "duration": 0,
               "redraw": true
              },
              "fromcurrent": true,
              "mode": "immediate",
              "transition": {
               "duration": 0,
               "easing": "linear"
              }
             }
            ],
            "label": "111th Congress (2009-2010)",
            "method": "animate"
           },
           {
            "args": [
             [
              "110th Congress (2007-2009)"
             ],
             {
              "frame": {
               "duration": 0,
               "redraw": true
              },
              "fromcurrent": true,
              "mode": "immediate",
              "transition": {
               "duration": 0,
               "easing": "linear"
              }
             }
            ],
            "label": "110th Congress (2007-2009)",
            "method": "animate"
           },
           {
            "args": [
             [
              "109th Congress (2005-2006)"
             ],
             {
              "frame": {
               "duration": 0,
               "redraw": true
              },
              "fromcurrent": true,
              "mode": "immediate",
              "transition": {
               "duration": 0,
               "easing": "linear"
              }
             }
            ],
            "label": "109th Congress (2005-2006)",
            "method": "animate"
           },
           {
            "args": [
             [
              "108th Congress (2003-2004)"
             ],
             {
              "frame": {
               "duration": 0,
               "redraw": true
              },
              "fromcurrent": true,
              "mode": "immediate",
              "transition": {
               "duration": 0,
               "easing": "linear"
              }
             }
            ],
            "label": "108th Congress (2003-2004)",
            "method": "animate"
           },
           {
            "args": [
             [
              "107th Congress (2001-2002)"
             ],
             {
              "frame": {
               "duration": 0,
               "redraw": true
              },
              "fromcurrent": true,
              "mode": "immediate",
              "transition": {
               "duration": 0,
               "easing": "linear"
              }
             }
            ],
            "label": "107th Congress (2001-2002)",
            "method": "animate"
           },
           {
            "args": [
             [
              "106th Congress (1999-2000)"
             ],
             {
              "frame": {
               "duration": 0,
               "redraw": true
              },
              "fromcurrent": true,
              "mode": "immediate",
              "transition": {
               "duration": 0,
               "easing": "linear"
              }
             }
            ],
            "label": "106th Congress (1999-2000)",
            "method": "animate"
           },
           {
            "args": [
             [
              "105th Congress (1997-1998)"
             ],
             {
              "frame": {
               "duration": 0,
               "redraw": true
              },
              "fromcurrent": true,
              "mode": "immediate",
              "transition": {
               "duration": 0,
               "easing": "linear"
              }
             }
            ],
            "label": "105th Congress (1997-1998)",
            "method": "animate"
           },
           {
            "args": [
             [
              "104th Congress (1995-1996)"
             ],
             {
              "frame": {
               "duration": 0,
               "redraw": true
              },
              "fromcurrent": true,
              "mode": "immediate",
              "transition": {
               "duration": 0,
               "easing": "linear"
              }
             }
            ],
            "label": "104th Congress (1995-1996)",
            "method": "animate"
           },
           {
            "args": [
             [
              "103rd Congress (1993-1994)"
             ],
             {
              "frame": {
               "duration": 0,
               "redraw": true
              },
              "fromcurrent": true,
              "mode": "immediate",
              "transition": {
               "duration": 0,
               "easing": "linear"
              }
             }
            ],
            "label": "103rd Congress (1993-1994)",
            "method": "animate"
           },
           {
            "args": [
             [
              "102nd Congress (1991-1992)"
             ],
             {
              "frame": {
               "duration": 0,
               "redraw": true
              },
              "fromcurrent": true,
              "mode": "immediate",
              "transition": {
               "duration": 0,
               "easing": "linear"
              }
             }
            ],
            "label": "102nd Congress (1991-1992)",
            "method": "animate"
           },
           {
            "args": [
             [
              "101st Congress (1989-1990)"
             ],
             {
              "frame": {
               "duration": 0,
               "redraw": true
              },
              "fromcurrent": true,
              "mode": "immediate",
              "transition": {
               "duration": 0,
               "easing": "linear"
              }
             }
            ],
            "label": "101st Congress (1989-1990)",
            "method": "animate"
           },
           {
            "args": [
             [
              "100th Congress (1987-1988)"
             ],
             {
              "frame": {
               "duration": 0,
               "redraw": true
              },
              "fromcurrent": true,
              "mode": "immediate",
              "transition": {
               "duration": 0,
               "easing": "linear"
              }
             }
            ],
            "label": "100th Congress (1987-1988)",
            "method": "animate"
           },
           {
            "args": [
             [
              "99th Congress (1985-1986)"
             ],
             {
              "frame": {
               "duration": 0,
               "redraw": true
              },
              "fromcurrent": true,
              "mode": "immediate",
              "transition": {
               "duration": 0,
               "easing": "linear"
              }
             }
            ],
            "label": "99th Congress (1985-1986)",
            "method": "animate"
           },
           {
            "args": [
             [
              "98th Congress (1983-1984)"
             ],
             {
              "frame": {
               "duration": 0,
               "redraw": true
              },
              "fromcurrent": true,
              "mode": "immediate",
              "transition": {
               "duration": 0,
               "easing": "linear"
              }
             }
            ],
            "label": "98th Congress (1983-1984)",
            "method": "animate"
           },
           {
            "args": [
             [
              "97th Congress (1981-1982)"
             ],
             {
              "frame": {
               "duration": 0,
               "redraw": true
              },
              "fromcurrent": true,
              "mode": "immediate",
              "transition": {
               "duration": 0,
               "easing": "linear"
              }
             }
            ],
            "label": "97th Congress (1981-1982)",
            "method": "animate"
           },
           {
            "args": [
             [
              "96th Congress (1979-1980)"
             ],
             {
              "frame": {
               "duration": 0,
               "redraw": true
              },
              "fromcurrent": true,
              "mode": "immediate",
              "transition": {
               "duration": 0,
               "easing": "linear"
              }
             }
            ],
            "label": "96th Congress (1979-1980)",
            "method": "animate"
           },
           {
            "args": [
             [
              "95th Congress (1977-1978)"
             ],
             {
              "frame": {
               "duration": 0,
               "redraw": true
              },
              "fromcurrent": true,
              "mode": "immediate",
              "transition": {
               "duration": 0,
               "easing": "linear"
              }
             }
            ],
            "label": "95th Congress (1977-1978)",
            "method": "animate"
           },
           {
            "args": [
             [
              "94th Congress (1975-1976)"
             ],
             {
              "frame": {
               "duration": 0,
               "redraw": true
              },
              "fromcurrent": true,
              "mode": "immediate",
              "transition": {
               "duration": 0,
               "easing": "linear"
              }
             }
            ],
            "label": "94th Congress (1975-1976)",
            "method": "animate"
           },
           {
            "args": [
             [
              "93rd Congress (1973-1974)"
             ],
             {
              "frame": {
               "duration": 0,
               "redraw": true
              },
              "fromcurrent": true,
              "mode": "immediate",
              "transition": {
               "duration": 0,
               "easing": "linear"
              }
             }
            ],
            "label": "93rd Congress (1973-1974)",
            "method": "animate"
           }
          ],
          "x": 0.1,
          "xanchor": "left",
          "y": 0,
          "yanchor": "top"
         }
        ],
        "template": {
         "data": {
          "bar": [
           {
            "error_x": {
             "color": "#f2f5fa"
            },
            "error_y": {
             "color": "#f2f5fa"
            },
            "marker": {
             "line": {
              "color": "rgb(17,17,17)",
              "width": 0.5
             }
            },
            "type": "bar"
           }
          ],
          "barpolar": [
           {
            "marker": {
             "line": {
              "color": "rgb(17,17,17)",
              "width": 0.5
             }
            },
            "type": "barpolar"
           }
          ],
          "carpet": [
           {
            "aaxis": {
             "endlinecolor": "#A2B1C6",
             "gridcolor": "#506784",
             "linecolor": "#506784",
             "minorgridcolor": "#506784",
             "startlinecolor": "#A2B1C6"
            },
            "baxis": {
             "endlinecolor": "#A2B1C6",
             "gridcolor": "#506784",
             "linecolor": "#506784",
             "minorgridcolor": "#506784",
             "startlinecolor": "#A2B1C6"
            },
            "type": "carpet"
           }
          ],
          "choropleth": [
           {
            "colorbar": {
             "outlinewidth": 0,
             "ticks": ""
            },
            "type": "choropleth"
           }
          ],
          "contour": [
           {
            "colorbar": {
             "outlinewidth": 0,
             "ticks": ""
            },
            "colorscale": [
             [
              0,
              "#0d0887"
             ],
             [
              0.1111111111111111,
              "#46039f"
             ],
             [
              0.2222222222222222,
              "#7201a8"
             ],
             [
              0.3333333333333333,
              "#9c179e"
             ],
             [
              0.4444444444444444,
              "#bd3786"
             ],
             [
              0.5555555555555556,
              "#d8576b"
             ],
             [
              0.6666666666666666,
              "#ed7953"
             ],
             [
              0.7777777777777778,
              "#fb9f3a"
             ],
             [
              0.8888888888888888,
              "#fdca26"
             ],
             [
              1,
              "#f0f921"
             ]
            ],
            "type": "contour"
           }
          ],
          "contourcarpet": [
           {
            "colorbar": {
             "outlinewidth": 0,
             "ticks": ""
            },
            "type": "contourcarpet"
           }
          ],
          "heatmap": [
           {
            "colorbar": {
             "outlinewidth": 0,
             "ticks": ""
            },
            "colorscale": [
             [
              0,
              "#0d0887"
             ],
             [
              0.1111111111111111,
              "#46039f"
             ],
             [
              0.2222222222222222,
              "#7201a8"
             ],
             [
              0.3333333333333333,
              "#9c179e"
             ],
             [
              0.4444444444444444,
              "#bd3786"
             ],
             [
              0.5555555555555556,
              "#d8576b"
             ],
             [
              0.6666666666666666,
              "#ed7953"
             ],
             [
              0.7777777777777778,
              "#fb9f3a"
             ],
             [
              0.8888888888888888,
              "#fdca26"
             ],
             [
              1,
              "#f0f921"
             ]
            ],
            "type": "heatmap"
           }
          ],
          "heatmapgl": [
           {
            "colorbar": {
             "outlinewidth": 0,
             "ticks": ""
            },
            "colorscale": [
             [
              0,
              "#0d0887"
             ],
             [
              0.1111111111111111,
              "#46039f"
             ],
             [
              0.2222222222222222,
              "#7201a8"
             ],
             [
              0.3333333333333333,
              "#9c179e"
             ],
             [
              0.4444444444444444,
              "#bd3786"
             ],
             [
              0.5555555555555556,
              "#d8576b"
             ],
             [
              0.6666666666666666,
              "#ed7953"
             ],
             [
              0.7777777777777778,
              "#fb9f3a"
             ],
             [
              0.8888888888888888,
              "#fdca26"
             ],
             [
              1,
              "#f0f921"
             ]
            ],
            "type": "heatmapgl"
           }
          ],
          "histogram": [
           {
            "marker": {
             "colorbar": {
              "outlinewidth": 0,
              "ticks": ""
             }
            },
            "type": "histogram"
           }
          ],
          "histogram2d": [
           {
            "colorbar": {
             "outlinewidth": 0,
             "ticks": ""
            },
            "colorscale": [
             [
              0,
              "#0d0887"
             ],
             [
              0.1111111111111111,
              "#46039f"
             ],
             [
              0.2222222222222222,
              "#7201a8"
             ],
             [
              0.3333333333333333,
              "#9c179e"
             ],
             [
              0.4444444444444444,
              "#bd3786"
             ],
             [
              0.5555555555555556,
              "#d8576b"
             ],
             [
              0.6666666666666666,
              "#ed7953"
             ],
             [
              0.7777777777777778,
              "#fb9f3a"
             ],
             [
              0.8888888888888888,
              "#fdca26"
             ],
             [
              1,
              "#f0f921"
             ]
            ],
            "type": "histogram2d"
           }
          ],
          "histogram2dcontour": [
           {
            "colorbar": {
             "outlinewidth": 0,
             "ticks": ""
            },
            "colorscale": [
             [
              0,
              "#0d0887"
             ],
             [
              0.1111111111111111,
              "#46039f"
             ],
             [
              0.2222222222222222,
              "#7201a8"
             ],
             [
              0.3333333333333333,
              "#9c179e"
             ],
             [
              0.4444444444444444,
              "#bd3786"
             ],
             [
              0.5555555555555556,
              "#d8576b"
             ],
             [
              0.6666666666666666,
              "#ed7953"
             ],
             [
              0.7777777777777778,
              "#fb9f3a"
             ],
             [
              0.8888888888888888,
              "#fdca26"
             ],
             [
              1,
              "#f0f921"
             ]
            ],
            "type": "histogram2dcontour"
           }
          ],
          "mesh3d": [
           {
            "colorbar": {
             "outlinewidth": 0,
             "ticks": ""
            },
            "type": "mesh3d"
           }
          ],
          "parcoords": [
           {
            "line": {
             "colorbar": {
              "outlinewidth": 0,
              "ticks": ""
             }
            },
            "type": "parcoords"
           }
          ],
          "pie": [
           {
            "automargin": true,
            "type": "pie"
           }
          ],
          "scatter": [
           {
            "marker": {
             "line": {
              "color": "#283442"
             }
            },
            "type": "scatter"
           }
          ],
          "scatter3d": [
           {
            "line": {
             "colorbar": {
              "outlinewidth": 0,
              "ticks": ""
             }
            },
            "marker": {
             "colorbar": {
              "outlinewidth": 0,
              "ticks": ""
             }
            },
            "type": "scatter3d"
           }
          ],
          "scattercarpet": [
           {
            "marker": {
             "colorbar": {
              "outlinewidth": 0,
              "ticks": ""
             }
            },
            "type": "scattercarpet"
           }
          ],
          "scattergeo": [
           {
            "marker": {
             "colorbar": {
              "outlinewidth": 0,
              "ticks": ""
             }
            },
            "type": "scattergeo"
           }
          ],
          "scattergl": [
           {
            "marker": {
             "line": {
              "color": "#283442"
             }
            },
            "type": "scattergl"
           }
          ],
          "scattermapbox": [
           {
            "marker": {
             "colorbar": {
              "outlinewidth": 0,
              "ticks": ""
             }
            },
            "type": "scattermapbox"
           }
          ],
          "scatterpolar": [
           {
            "marker": {
             "colorbar": {
              "outlinewidth": 0,
              "ticks": ""
             }
            },
            "type": "scatterpolar"
           }
          ],
          "scatterpolargl": [
           {
            "marker": {
             "colorbar": {
              "outlinewidth": 0,
              "ticks": ""
             }
            },
            "type": "scatterpolargl"
           }
          ],
          "scatterternary": [
           {
            "marker": {
             "colorbar": {
              "outlinewidth": 0,
              "ticks": ""
             }
            },
            "type": "scatterternary"
           }
          ],
          "surface": [
           {
            "colorbar": {
             "outlinewidth": 0,
             "ticks": ""
            },
            "colorscale": [
             [
              0,
              "#0d0887"
             ],
             [
              0.1111111111111111,
              "#46039f"
             ],
             [
              0.2222222222222222,
              "#7201a8"
             ],
             [
              0.3333333333333333,
              "#9c179e"
             ],
             [
              0.4444444444444444,
              "#bd3786"
             ],
             [
              0.5555555555555556,
              "#d8576b"
             ],
             [
              0.6666666666666666,
              "#ed7953"
             ],
             [
              0.7777777777777778,
              "#fb9f3a"
             ],
             [
              0.8888888888888888,
              "#fdca26"
             ],
             [
              1,
              "#f0f921"
             ]
            ],
            "type": "surface"
           }
          ],
          "table": [
           {
            "cells": {
             "fill": {
              "color": "#506784"
             },
             "line": {
              "color": "rgb(17,17,17)"
             }
            },
            "header": {
             "fill": {
              "color": "#2a3f5f"
             },
             "line": {
              "color": "rgb(17,17,17)"
             }
            },
            "type": "table"
           }
          ]
         },
         "layout": {
          "annotationdefaults": {
           "arrowcolor": "#f2f5fa",
           "arrowhead": 0,
           "arrowwidth": 1
          },
          "coloraxis": {
           "colorbar": {
            "outlinewidth": 0,
            "ticks": ""
           }
          },
          "colorscale": {
           "diverging": [
            [
             0,
             "#8e0152"
            ],
            [
             0.1,
             "#c51b7d"
            ],
            [
             0.2,
             "#de77ae"
            ],
            [
             0.3,
             "#f1b6da"
            ],
            [
             0.4,
             "#fde0ef"
            ],
            [
             0.5,
             "#f7f7f7"
            ],
            [
             0.6,
             "#e6f5d0"
            ],
            [
             0.7,
             "#b8e186"
            ],
            [
             0.8,
             "#7fbc41"
            ],
            [
             0.9,
             "#4d9221"
            ],
            [
             1,
             "#276419"
            ]
           ],
           "sequential": [
            [
             0,
             "#0d0887"
            ],
            [
             0.1111111111111111,
             "#46039f"
            ],
            [
             0.2222222222222222,
             "#7201a8"
            ],
            [
             0.3333333333333333,
             "#9c179e"
            ],
            [
             0.4444444444444444,
             "#bd3786"
            ],
            [
             0.5555555555555556,
             "#d8576b"
            ],
            [
             0.6666666666666666,
             "#ed7953"
            ],
            [
             0.7777777777777778,
             "#fb9f3a"
            ],
            [
             0.8888888888888888,
             "#fdca26"
            ],
            [
             1,
             "#f0f921"
            ]
           ],
           "sequentialminus": [
            [
             0,
             "#0d0887"
            ],
            [
             0.1111111111111111,
             "#46039f"
            ],
            [
             0.2222222222222222,
             "#7201a8"
            ],
            [
             0.3333333333333333,
             "#9c179e"
            ],
            [
             0.4444444444444444,
             "#bd3786"
            ],
            [
             0.5555555555555556,
             "#d8576b"
            ],
            [
             0.6666666666666666,
             "#ed7953"
            ],
            [
             0.7777777777777778,
             "#fb9f3a"
            ],
            [
             0.8888888888888888,
             "#fdca26"
            ],
            [
             1,
             "#f0f921"
            ]
           ]
          },
          "colorway": [
           "#636efa",
           "#EF553B",
           "#00cc96",
           "#ab63fa",
           "#FFA15A",
           "#19d3f3",
           "#FF6692",
           "#B6E880",
           "#FF97FF",
           "#FECB52"
          ],
          "font": {
           "color": "#f2f5fa"
          },
          "geo": {
           "bgcolor": "rgb(17,17,17)",
           "lakecolor": "rgb(17,17,17)",
           "landcolor": "rgb(17,17,17)",
           "showlakes": true,
           "showland": true,
           "subunitcolor": "#506784"
          },
          "hoverlabel": {
           "align": "left"
          },
          "hovermode": "closest",
          "mapbox": {
           "style": "dark"
          },
          "paper_bgcolor": "rgb(17,17,17)",
          "plot_bgcolor": "rgb(17,17,17)",
          "polar": {
           "angularaxis": {
            "gridcolor": "#506784",
            "linecolor": "#506784",
            "ticks": ""
           },
           "bgcolor": "rgb(17,17,17)",
           "radialaxis": {
            "gridcolor": "#506784",
            "linecolor": "#506784",
            "ticks": ""
           }
          },
          "scene": {
           "xaxis": {
            "backgroundcolor": "rgb(17,17,17)",
            "gridcolor": "#506784",
            "gridwidth": 2,
            "linecolor": "#506784",
            "showbackground": true,
            "ticks": "",
            "zerolinecolor": "#C8D4E3"
           },
           "yaxis": {
            "backgroundcolor": "rgb(17,17,17)",
            "gridcolor": "#506784",
            "gridwidth": 2,
            "linecolor": "#506784",
            "showbackground": true,
            "ticks": "",
            "zerolinecolor": "#C8D4E3"
           },
           "zaxis": {
            "backgroundcolor": "rgb(17,17,17)",
            "gridcolor": "#506784",
            "gridwidth": 2,
            "linecolor": "#506784",
            "showbackground": true,
            "ticks": "",
            "zerolinecolor": "#C8D4E3"
           }
          },
          "shapedefaults": {
           "line": {
            "color": "#f2f5fa"
           }
          },
          "sliderdefaults": {
           "bgcolor": "#C8D4E3",
           "bordercolor": "rgb(17,17,17)",
           "borderwidth": 1,
           "tickwidth": 0
          },
          "ternary": {
           "aaxis": {
            "gridcolor": "#506784",
            "linecolor": "#506784",
            "ticks": ""
           },
           "baxis": {
            "gridcolor": "#506784",
            "linecolor": "#506784",
            "ticks": ""
           },
           "bgcolor": "rgb(17,17,17)",
           "caxis": {
            "gridcolor": "#506784",
            "linecolor": "#506784",
            "ticks": ""
           }
          },
          "title": {
           "x": 0.05
          },
          "updatemenudefaults": {
           "bgcolor": "#506784",
           "borderwidth": 0
          },
          "xaxis": {
           "automargin": true,
           "gridcolor": "#283442",
           "linecolor": "#506784",
           "ticks": "",
           "title": {
            "standoff": 15
           },
           "zerolinecolor": "#283442",
           "zerolinewidth": 2
          },
          "yaxis": {
           "automargin": true,
           "gridcolor": "#283442",
           "linecolor": "#506784",
           "ticks": "",
           "title": {
            "standoff": 15
           },
           "zerolinecolor": "#283442",
           "zerolinewidth": 2
          }
         }
        },
        "updatemenus": [
         {
          "buttons": [
           {
            "args": [
             null,
             {
              "frame": {
               "duration": 500,
               "redraw": true
              },
              "fromcurrent": true,
              "mode": "immediate",
              "transition": {
               "duration": 500,
               "easing": "linear"
              }
             }
            ],
            "label": "&#9654;",
            "method": "animate"
           },
           {
            "args": [
             [
              null
             ],
             {
              "frame": {
               "duration": 0,
               "redraw": true
              },
              "fromcurrent": true,
              "mode": "immediate",
              "transition": {
               "duration": 0,
               "easing": "linear"
              }
             }
            ],
            "label": "&#9724;",
            "method": "animate"
           }
          ],
          "direction": "left",
          "pad": {
           "r": 10,
           "t": 70
          },
          "showactive": false,
          "type": "buttons",
          "x": 0.1,
          "xanchor": "right",
          "y": 0,
          "yanchor": "top"
         }
        ],
        "xaxis": {
         "anchor": "y",
         "domain": [
          0,
          1
         ],
         "title": {
          "text": "Congress"
         }
        },
        "yaxis": {
         "anchor": "x",
         "domain": [
          0,
          1
         ],
         "range": [
          100,
          2500
         ],
         "title": {
          "text": "Bills Introduced"
         }
        }
       }
      },
      "text/html": [
       "<div>                            <div id=\"c24fc9f4-5ba7-4e43-b477-4db9d6a28586\" class=\"plotly-graph-div\" style=\"height:525px; width:100%;\"></div>            <script type=\"text/javascript\">                require([\"plotly\"], function(Plotly) {                    window.PLOTLYENV=window.PLOTLYENV || {};                                    if (document.getElementById(\"c24fc9f4-5ba7-4e43-b477-4db9d6a28586\")) {                    Plotly.newPlot(                        \"c24fc9f4-5ba7-4e43-b477-4db9d6a28586\",                        [{\"alignmentgroup\": \"True\", \"hovertemplate\": \"color=116th Congress (2019-2021)<br>animation_frame=116th Congress (2019-2021)<br>x=%{x}<br>value=%{y}<extra></extra>\", \"legendgroup\": \"116th Congress (2019-2021)\", \"marker\": {\"color\": \"#636efa\"}, \"name\": \"116th Congress (2019-2021)\", \"offsetgroup\": \"116th Congress (2019-2021)\", \"orientation\": \"v\", \"showlegend\": true, \"textposition\": \"auto\", \"type\": \"bar\", \"x\": [\"116th Congress (2019-2021)\"], \"xaxis\": \"x\", \"y\": [421], \"yaxis\": \"y\"}],                        {\"barmode\": \"group\", \"legend\": {\"title\": {\"text\": \"color\"}, \"tracegroupgap\": 0}, \"margin\": {\"t\": 60}, \"sliders\": [{\"active\": 0, \"currentvalue\": {\"prefix\": \"animation_frame=\"}, \"len\": 0.9, \"pad\": {\"b\": 10, \"t\": 60}, \"steps\": [{\"args\": [[\"116th Congress (2019-2021)\"], {\"frame\": {\"duration\": 0, \"redraw\": true}, \"fromcurrent\": true, \"mode\": \"immediate\", \"transition\": {\"duration\": 0, \"easing\": \"linear\"}}], \"label\": \"116th Congress (2019-2021)\", \"method\": \"animate\"}, {\"args\": [[\"115th Congress (2017-2019)\"], {\"frame\": {\"duration\": 0, \"redraw\": true}, \"fromcurrent\": true, \"mode\": \"immediate\", \"transition\": {\"duration\": 0, \"easing\": \"linear\"}}], \"label\": \"115th Congress (2017-2019)\", \"method\": \"animate\"}, {\"args\": [[\"114th Congress (2015-2017)\"], {\"frame\": {\"duration\": 0, \"redraw\": true}, \"fromcurrent\": true, \"mode\": \"immediate\", \"transition\": {\"duration\": 0, \"easing\": \"linear\"}}], \"label\": \"114th Congress (2015-2017)\", \"method\": \"animate\"}, {\"args\": [[\"113th Congress (2013-2015)\"], {\"frame\": {\"duration\": 0, \"redraw\": true}, \"fromcurrent\": true, \"mode\": \"immediate\", \"transition\": {\"duration\": 0, \"easing\": \"linear\"}}], \"label\": \"113th Congress (2013-2015)\", \"method\": \"animate\"}, {\"args\": [[\"112th Congress (2011-2013)\"], {\"frame\": {\"duration\": 0, \"redraw\": true}, \"fromcurrent\": true, \"mode\": \"immediate\", \"transition\": {\"duration\": 0, \"easing\": \"linear\"}}], \"label\": \"112th Congress (2011-2013)\", \"method\": \"animate\"}, {\"args\": [[\"111th Congress (2009-2010)\"], {\"frame\": {\"duration\": 0, \"redraw\": true}, \"fromcurrent\": true, \"mode\": \"immediate\", \"transition\": {\"duration\": 0, \"easing\": \"linear\"}}], \"label\": \"111th Congress (2009-2010)\", \"method\": \"animate\"}, {\"args\": [[\"110th Congress (2007-2009)\"], {\"frame\": {\"duration\": 0, \"redraw\": true}, \"fromcurrent\": true, \"mode\": \"immediate\", \"transition\": {\"duration\": 0, \"easing\": \"linear\"}}], \"label\": \"110th Congress (2007-2009)\", \"method\": \"animate\"}, {\"args\": [[\"109th Congress (2005-2006)\"], {\"frame\": {\"duration\": 0, \"redraw\": true}, \"fromcurrent\": true, \"mode\": \"immediate\", \"transition\": {\"duration\": 0, \"easing\": \"linear\"}}], \"label\": \"109th Congress (2005-2006)\", \"method\": \"animate\"}, {\"args\": [[\"108th Congress (2003-2004)\"], {\"frame\": {\"duration\": 0, \"redraw\": true}, \"fromcurrent\": true, \"mode\": \"immediate\", \"transition\": {\"duration\": 0, \"easing\": \"linear\"}}], \"label\": \"108th Congress (2003-2004)\", \"method\": \"animate\"}, {\"args\": [[\"107th Congress (2001-2002)\"], {\"frame\": {\"duration\": 0, \"redraw\": true}, \"fromcurrent\": true, \"mode\": \"immediate\", \"transition\": {\"duration\": 0, \"easing\": \"linear\"}}], \"label\": \"107th Congress (2001-2002)\", \"method\": \"animate\"}, {\"args\": [[\"106th Congress (1999-2000)\"], {\"frame\": {\"duration\": 0, \"redraw\": true}, \"fromcurrent\": true, \"mode\": \"immediate\", \"transition\": {\"duration\": 0, \"easing\": \"linear\"}}], \"label\": \"106th Congress (1999-2000)\", \"method\": \"animate\"}, {\"args\": [[\"105th Congress (1997-1998)\"], {\"frame\": {\"duration\": 0, \"redraw\": true}, \"fromcurrent\": true, \"mode\": \"immediate\", \"transition\": {\"duration\": 0, \"easing\": \"linear\"}}], \"label\": \"105th Congress (1997-1998)\", \"method\": \"animate\"}, {\"args\": [[\"104th Congress (1995-1996)\"], {\"frame\": {\"duration\": 0, \"redraw\": true}, \"fromcurrent\": true, \"mode\": \"immediate\", \"transition\": {\"duration\": 0, \"easing\": \"linear\"}}], \"label\": \"104th Congress (1995-1996)\", \"method\": \"animate\"}, {\"args\": [[\"103rd Congress (1993-1994)\"], {\"frame\": {\"duration\": 0, \"redraw\": true}, \"fromcurrent\": true, \"mode\": \"immediate\", \"transition\": {\"duration\": 0, \"easing\": \"linear\"}}], \"label\": \"103rd Congress (1993-1994)\", \"method\": \"animate\"}, {\"args\": [[\"102nd Congress (1991-1992)\"], {\"frame\": {\"duration\": 0, \"redraw\": true}, \"fromcurrent\": true, \"mode\": \"immediate\", \"transition\": {\"duration\": 0, \"easing\": \"linear\"}}], \"label\": \"102nd Congress (1991-1992)\", \"method\": \"animate\"}, {\"args\": [[\"101st Congress (1989-1990)\"], {\"frame\": {\"duration\": 0, \"redraw\": true}, \"fromcurrent\": true, \"mode\": \"immediate\", \"transition\": {\"duration\": 0, \"easing\": \"linear\"}}], \"label\": \"101st Congress (1989-1990)\", \"method\": \"animate\"}, {\"args\": [[\"100th Congress (1987-1988)\"], {\"frame\": {\"duration\": 0, \"redraw\": true}, \"fromcurrent\": true, \"mode\": \"immediate\", \"transition\": {\"duration\": 0, \"easing\": \"linear\"}}], \"label\": \"100th Congress (1987-1988)\", \"method\": \"animate\"}, {\"args\": [[\"99th Congress (1985-1986)\"], {\"frame\": {\"duration\": 0, \"redraw\": true}, \"fromcurrent\": true, \"mode\": \"immediate\", \"transition\": {\"duration\": 0, \"easing\": \"linear\"}}], \"label\": \"99th Congress (1985-1986)\", \"method\": \"animate\"}, {\"args\": [[\"98th Congress (1983-1984)\"], {\"frame\": {\"duration\": 0, \"redraw\": true}, \"fromcurrent\": true, \"mode\": \"immediate\", \"transition\": {\"duration\": 0, \"easing\": \"linear\"}}], \"label\": \"98th Congress (1983-1984)\", \"method\": \"animate\"}, {\"args\": [[\"97th Congress (1981-1982)\"], {\"frame\": {\"duration\": 0, \"redraw\": true}, \"fromcurrent\": true, \"mode\": \"immediate\", \"transition\": {\"duration\": 0, \"easing\": \"linear\"}}], \"label\": \"97th Congress (1981-1982)\", \"method\": \"animate\"}, {\"args\": [[\"96th Congress (1979-1980)\"], {\"frame\": {\"duration\": 0, \"redraw\": true}, \"fromcurrent\": true, \"mode\": \"immediate\", \"transition\": {\"duration\": 0, \"easing\": \"linear\"}}], \"label\": \"96th Congress (1979-1980)\", \"method\": \"animate\"}, {\"args\": [[\"95th Congress (1977-1978)\"], {\"frame\": {\"duration\": 0, \"redraw\": true}, \"fromcurrent\": true, \"mode\": \"immediate\", \"transition\": {\"duration\": 0, \"easing\": \"linear\"}}], \"label\": \"95th Congress (1977-1978)\", \"method\": \"animate\"}, {\"args\": [[\"94th Congress (1975-1976)\"], {\"frame\": {\"duration\": 0, \"redraw\": true}, \"fromcurrent\": true, \"mode\": \"immediate\", \"transition\": {\"duration\": 0, \"easing\": \"linear\"}}], \"label\": \"94th Congress (1975-1976)\", \"method\": \"animate\"}, {\"args\": [[\"93rd Congress (1973-1974)\"], {\"frame\": {\"duration\": 0, \"redraw\": true}, \"fromcurrent\": true, \"mode\": \"immediate\", \"transition\": {\"duration\": 0, \"easing\": \"linear\"}}], \"label\": \"93rd Congress (1973-1974)\", \"method\": \"animate\"}], \"x\": 0.1, \"xanchor\": \"left\", \"y\": 0, \"yanchor\": \"top\"}], \"template\": {\"data\": {\"bar\": [{\"error_x\": {\"color\": \"#f2f5fa\"}, \"error_y\": {\"color\": \"#f2f5fa\"}, \"marker\": {\"line\": {\"color\": \"rgb(17,17,17)\", \"width\": 0.5}}, \"type\": \"bar\"}], \"barpolar\": [{\"marker\": {\"line\": {\"color\": \"rgb(17,17,17)\", \"width\": 0.5}}, \"type\": \"barpolar\"}], \"carpet\": [{\"aaxis\": {\"endlinecolor\": \"#A2B1C6\", \"gridcolor\": \"#506784\", \"linecolor\": \"#506784\", \"minorgridcolor\": \"#506784\", \"startlinecolor\": \"#A2B1C6\"}, \"baxis\": {\"endlinecolor\": \"#A2B1C6\", \"gridcolor\": \"#506784\", \"linecolor\": \"#506784\", \"minorgridcolor\": \"#506784\", \"startlinecolor\": \"#A2B1C6\"}, \"type\": \"carpet\"}], \"choropleth\": [{\"colorbar\": {\"outlinewidth\": 0, \"ticks\": \"\"}, \"type\": \"choropleth\"}], \"contour\": [{\"colorbar\": {\"outlinewidth\": 0, \"ticks\": \"\"}, \"colorscale\": [[0.0, \"#0d0887\"], [0.1111111111111111, \"#46039f\"], [0.2222222222222222, \"#7201a8\"], [0.3333333333333333, \"#9c179e\"], [0.4444444444444444, \"#bd3786\"], [0.5555555555555556, \"#d8576b\"], [0.6666666666666666, \"#ed7953\"], [0.7777777777777778, \"#fb9f3a\"], [0.8888888888888888, \"#fdca26\"], [1.0, \"#f0f921\"]], \"type\": \"contour\"}], \"contourcarpet\": [{\"colorbar\": {\"outlinewidth\": 0, \"ticks\": \"\"}, \"type\": \"contourcarpet\"}], \"heatmap\": [{\"colorbar\": {\"outlinewidth\": 0, \"ticks\": \"\"}, \"colorscale\": [[0.0, \"#0d0887\"], [0.1111111111111111, \"#46039f\"], [0.2222222222222222, \"#7201a8\"], [0.3333333333333333, \"#9c179e\"], [0.4444444444444444, \"#bd3786\"], [0.5555555555555556, \"#d8576b\"], [0.6666666666666666, \"#ed7953\"], [0.7777777777777778, \"#fb9f3a\"], [0.8888888888888888, \"#fdca26\"], [1.0, \"#f0f921\"]], \"type\": \"heatmap\"}], \"heatmapgl\": [{\"colorbar\": {\"outlinewidth\": 0, \"ticks\": \"\"}, \"colorscale\": [[0.0, \"#0d0887\"], [0.1111111111111111, \"#46039f\"], [0.2222222222222222, \"#7201a8\"], [0.3333333333333333, \"#9c179e\"], [0.4444444444444444, \"#bd3786\"], [0.5555555555555556, \"#d8576b\"], [0.6666666666666666, \"#ed7953\"], [0.7777777777777778, \"#fb9f3a\"], [0.8888888888888888, \"#fdca26\"], [1.0, \"#f0f921\"]], \"type\": \"heatmapgl\"}], \"histogram\": [{\"marker\": {\"colorbar\": {\"outlinewidth\": 0, \"ticks\": \"\"}}, \"type\": \"histogram\"}], \"histogram2d\": [{\"colorbar\": {\"outlinewidth\": 0, \"ticks\": \"\"}, \"colorscale\": [[0.0, \"#0d0887\"], [0.1111111111111111, \"#46039f\"], [0.2222222222222222, \"#7201a8\"], [0.3333333333333333, \"#9c179e\"], [0.4444444444444444, \"#bd3786\"], [0.5555555555555556, \"#d8576b\"], [0.6666666666666666, \"#ed7953\"], [0.7777777777777778, \"#fb9f3a\"], [0.8888888888888888, \"#fdca26\"], [1.0, \"#f0f921\"]], \"type\": \"histogram2d\"}], \"histogram2dcontour\": [{\"colorbar\": {\"outlinewidth\": 0, \"ticks\": \"\"}, \"colorscale\": [[0.0, \"#0d0887\"], [0.1111111111111111, \"#46039f\"], [0.2222222222222222, \"#7201a8\"], [0.3333333333333333, \"#9c179e\"], [0.4444444444444444, \"#bd3786\"], [0.5555555555555556, \"#d8576b\"], [0.6666666666666666, \"#ed7953\"], [0.7777777777777778, \"#fb9f3a\"], [0.8888888888888888, \"#fdca26\"], [1.0, \"#f0f921\"]], \"type\": \"histogram2dcontour\"}], \"mesh3d\": [{\"colorbar\": {\"outlinewidth\": 0, \"ticks\": \"\"}, \"type\": \"mesh3d\"}], \"parcoords\": [{\"line\": {\"colorbar\": {\"outlinewidth\": 0, \"ticks\": \"\"}}, \"type\": \"parcoords\"}], \"pie\": [{\"automargin\": true, \"type\": \"pie\"}], \"scatter\": [{\"marker\": {\"line\": {\"color\": \"#283442\"}}, \"type\": \"scatter\"}], \"scatter3d\": [{\"line\": {\"colorbar\": {\"outlinewidth\": 0, \"ticks\": \"\"}}, \"marker\": {\"colorbar\": {\"outlinewidth\": 0, \"ticks\": \"\"}}, \"type\": \"scatter3d\"}], \"scattercarpet\": [{\"marker\": {\"colorbar\": {\"outlinewidth\": 0, \"ticks\": \"\"}}, \"type\": \"scattercarpet\"}], \"scattergeo\": [{\"marker\": {\"colorbar\": {\"outlinewidth\": 0, \"ticks\": \"\"}}, \"type\": \"scattergeo\"}], \"scattergl\": [{\"marker\": {\"line\": {\"color\": \"#283442\"}}, \"type\": \"scattergl\"}], \"scattermapbox\": [{\"marker\": {\"colorbar\": {\"outlinewidth\": 0, \"ticks\": \"\"}}, \"type\": \"scattermapbox\"}], \"scatterpolar\": [{\"marker\": {\"colorbar\": {\"outlinewidth\": 0, \"ticks\": \"\"}}, \"type\": \"scatterpolar\"}], \"scatterpolargl\": [{\"marker\": {\"colorbar\": {\"outlinewidth\": 0, \"ticks\": \"\"}}, \"type\": \"scatterpolargl\"}], \"scatterternary\": [{\"marker\": {\"colorbar\": {\"outlinewidth\": 0, \"ticks\": \"\"}}, \"type\": \"scatterternary\"}], \"surface\": [{\"colorbar\": {\"outlinewidth\": 0, \"ticks\": \"\"}, \"colorscale\": [[0.0, \"#0d0887\"], [0.1111111111111111, \"#46039f\"], [0.2222222222222222, \"#7201a8\"], [0.3333333333333333, \"#9c179e\"], [0.4444444444444444, \"#bd3786\"], [0.5555555555555556, \"#d8576b\"], [0.6666666666666666, \"#ed7953\"], [0.7777777777777778, \"#fb9f3a\"], [0.8888888888888888, \"#fdca26\"], [1.0, \"#f0f921\"]], \"type\": \"surface\"}], \"table\": [{\"cells\": {\"fill\": {\"color\": \"#506784\"}, \"line\": {\"color\": \"rgb(17,17,17)\"}}, \"header\": {\"fill\": {\"color\": \"#2a3f5f\"}, \"line\": {\"color\": \"rgb(17,17,17)\"}}, \"type\": \"table\"}]}, \"layout\": {\"annotationdefaults\": {\"arrowcolor\": \"#f2f5fa\", \"arrowhead\": 0, \"arrowwidth\": 1}, \"coloraxis\": {\"colorbar\": {\"outlinewidth\": 0, \"ticks\": \"\"}}, \"colorscale\": {\"diverging\": [[0, \"#8e0152\"], [0.1, \"#c51b7d\"], [0.2, \"#de77ae\"], [0.3, \"#f1b6da\"], [0.4, \"#fde0ef\"], [0.5, \"#f7f7f7\"], [0.6, \"#e6f5d0\"], [0.7, \"#b8e186\"], [0.8, \"#7fbc41\"], [0.9, \"#4d9221\"], [1, \"#276419\"]], \"sequential\": [[0.0, \"#0d0887\"], [0.1111111111111111, \"#46039f\"], [0.2222222222222222, \"#7201a8\"], [0.3333333333333333, \"#9c179e\"], [0.4444444444444444, \"#bd3786\"], [0.5555555555555556, \"#d8576b\"], [0.6666666666666666, \"#ed7953\"], [0.7777777777777778, \"#fb9f3a\"], [0.8888888888888888, \"#fdca26\"], [1.0, \"#f0f921\"]], \"sequentialminus\": [[0.0, \"#0d0887\"], [0.1111111111111111, \"#46039f\"], [0.2222222222222222, \"#7201a8\"], [0.3333333333333333, \"#9c179e\"], [0.4444444444444444, \"#bd3786\"], [0.5555555555555556, \"#d8576b\"], [0.6666666666666666, \"#ed7953\"], [0.7777777777777778, \"#fb9f3a\"], [0.8888888888888888, \"#fdca26\"], [1.0, \"#f0f921\"]]}, \"colorway\": [\"#636efa\", \"#EF553B\", \"#00cc96\", \"#ab63fa\", \"#FFA15A\", \"#19d3f3\", \"#FF6692\", \"#B6E880\", \"#FF97FF\", \"#FECB52\"], \"font\": {\"color\": \"#f2f5fa\"}, \"geo\": {\"bgcolor\": \"rgb(17,17,17)\", \"lakecolor\": \"rgb(17,17,17)\", \"landcolor\": \"rgb(17,17,17)\", \"showlakes\": true, \"showland\": true, \"subunitcolor\": \"#506784\"}, \"hoverlabel\": {\"align\": \"left\"}, \"hovermode\": \"closest\", \"mapbox\": {\"style\": \"dark\"}, \"paper_bgcolor\": \"rgb(17,17,17)\", \"plot_bgcolor\": \"rgb(17,17,17)\", \"polar\": {\"angularaxis\": {\"gridcolor\": \"#506784\", \"linecolor\": \"#506784\", \"ticks\": \"\"}, \"bgcolor\": \"rgb(17,17,17)\", \"radialaxis\": {\"gridcolor\": \"#506784\", \"linecolor\": \"#506784\", \"ticks\": \"\"}}, \"scene\": {\"xaxis\": {\"backgroundcolor\": \"rgb(17,17,17)\", \"gridcolor\": \"#506784\", \"gridwidth\": 2, \"linecolor\": \"#506784\", \"showbackground\": true, \"ticks\": \"\", \"zerolinecolor\": \"#C8D4E3\"}, \"yaxis\": {\"backgroundcolor\": \"rgb(17,17,17)\", \"gridcolor\": \"#506784\", \"gridwidth\": 2, \"linecolor\": \"#506784\", \"showbackground\": true, \"ticks\": \"\", \"zerolinecolor\": \"#C8D4E3\"}, \"zaxis\": {\"backgroundcolor\": \"rgb(17,17,17)\", \"gridcolor\": \"#506784\", \"gridwidth\": 2, \"linecolor\": \"#506784\", \"showbackground\": true, \"ticks\": \"\", \"zerolinecolor\": \"#C8D4E3\"}}, \"shapedefaults\": {\"line\": {\"color\": \"#f2f5fa\"}}, \"sliderdefaults\": {\"bgcolor\": \"#C8D4E3\", \"bordercolor\": \"rgb(17,17,17)\", \"borderwidth\": 1, \"tickwidth\": 0}, \"ternary\": {\"aaxis\": {\"gridcolor\": \"#506784\", \"linecolor\": \"#506784\", \"ticks\": \"\"}, \"baxis\": {\"gridcolor\": \"#506784\", \"linecolor\": \"#506784\", \"ticks\": \"\"}, \"bgcolor\": \"rgb(17,17,17)\", \"caxis\": {\"gridcolor\": \"#506784\", \"linecolor\": \"#506784\", \"ticks\": \"\"}}, \"title\": {\"x\": 0.05}, \"updatemenudefaults\": {\"bgcolor\": \"#506784\", \"borderwidth\": 0}, \"xaxis\": {\"automargin\": true, \"gridcolor\": \"#283442\", \"linecolor\": \"#506784\", \"ticks\": \"\", \"title\": {\"standoff\": 15}, \"zerolinecolor\": \"#283442\", \"zerolinewidth\": 2}, \"yaxis\": {\"automargin\": true, \"gridcolor\": \"#283442\", \"linecolor\": \"#506784\", \"ticks\": \"\", \"title\": {\"standoff\": 15}, \"zerolinecolor\": \"#283442\", \"zerolinewidth\": 2}}}, \"updatemenus\": [{\"buttons\": [{\"args\": [null, {\"frame\": {\"duration\": 500, \"redraw\": true}, \"fromcurrent\": true, \"mode\": \"immediate\", \"transition\": {\"duration\": 500, \"easing\": \"linear\"}}], \"label\": \"&#9654;\", \"method\": \"animate\"}, {\"args\": [[null], {\"frame\": {\"duration\": 0, \"redraw\": true}, \"fromcurrent\": true, \"mode\": \"immediate\", \"transition\": {\"duration\": 0, \"easing\": \"linear\"}}], \"label\": \"&#9724;\", \"method\": \"animate\"}], \"direction\": \"left\", \"pad\": {\"r\": 10, \"t\": 70}, \"showactive\": false, \"type\": \"buttons\", \"x\": 0.1, \"xanchor\": \"right\", \"y\": 0, \"yanchor\": \"top\"}], \"xaxis\": {\"anchor\": \"y\", \"domain\": [0.0, 1.0], \"title\": {\"text\": \"Congress\"}}, \"yaxis\": {\"anchor\": \"x\", \"domain\": [0.0, 1.0], \"range\": [100, 2500], \"title\": {\"text\": \"Bills Introduced\"}}},                        {\"responsive\": true}                    ).then(function(){\n",
       "                            Plotly.addFrames('c24fc9f4-5ba7-4e43-b477-4db9d6a28586', [{\"data\": [{\"alignmentgroup\": \"True\", \"hovertemplate\": \"color=116th Congress (2019-2021)<br>animation_frame=116th Congress (2019-2021)<br>x=%{x}<br>value=%{y}<extra></extra>\", \"legendgroup\": \"116th Congress (2019-2021)\", \"marker\": {\"color\": \"#636efa\"}, \"name\": \"116th Congress (2019-2021)\", \"offsetgroup\": \"116th Congress (2019-2021)\", \"orientation\": \"v\", \"showlegend\": true, \"textposition\": \"auto\", \"x\": [\"116th Congress (2019-2021)\"], \"xaxis\": \"x\", \"y\": [421], \"yaxis\": \"y\", \"type\": \"bar\"}], \"name\": \"116th Congress (2019-2021)\"}, {\"data\": [{\"alignmentgroup\": \"True\", \"hovertemplate\": \"color=115th Congress (2017-2019)<br>animation_frame=115th Congress (2017-2019)<br>x=%{x}<br>value=%{y}<extra></extra>\", \"legendgroup\": \"115th Congress (2017-2019)\", \"marker\": {\"color\": \"#EF553B\"}, \"name\": \"115th Congress (2017-2019)\", \"offsetgroup\": \"115th Congress (2017-2019)\", \"orientation\": \"v\", \"showlegend\": true, \"textposition\": \"auto\", \"x\": [\"115th Congress (2017-2019)\"], \"xaxis\": \"x\", \"y\": [297], \"yaxis\": \"y\", \"type\": \"bar\"}], \"name\": \"115th Congress (2017-2019)\"}, {\"data\": [{\"alignmentgroup\": \"True\", \"hovertemplate\": \"color=114th Congress (2015-2017)<br>animation_frame=114th Congress (2015-2017)<br>x=%{x}<br>value=%{y}<extra></extra>\", \"legendgroup\": \"114th Congress (2015-2017)\", \"marker\": {\"color\": \"#00cc96\"}, \"name\": \"114th Congress (2015-2017)\", \"offsetgroup\": \"114th Congress (2015-2017)\", \"orientation\": \"v\", \"showlegend\": true, \"textposition\": \"auto\", \"x\": [\"114th Congress (2015-2017)\"], \"xaxis\": \"x\", \"y\": [169], \"yaxis\": \"y\", \"type\": \"bar\"}], \"name\": \"114th Congress (2015-2017)\"}, {\"data\": [{\"alignmentgroup\": \"True\", \"hovertemplate\": \"color=113th Congress (2013-2015)<br>animation_frame=113th Congress (2013-2015)<br>x=%{x}<br>value=%{y}<extra></extra>\", \"legendgroup\": \"113th Congress (2013-2015)\", \"marker\": {\"color\": \"#ab63fa\"}, \"name\": \"113th Congress (2013-2015)\", \"offsetgroup\": \"113th Congress (2013-2015)\", \"orientation\": \"v\", \"showlegend\": true, \"textposition\": \"auto\", \"x\": [\"113th Congress (2013-2015)\"], \"xaxis\": \"x\", \"y\": [148], \"yaxis\": \"y\", \"type\": \"bar\"}], \"name\": \"113th Congress (2013-2015)\"}, {\"data\": [{\"alignmentgroup\": \"True\", \"hovertemplate\": \"color=112th Congress (2011-2013)<br>animation_frame=112th Congress (2011-2013)<br>x=%{x}<br>value=%{y}<extra></extra>\", \"legendgroup\": \"112th Congress (2011-2013)\", \"marker\": {\"color\": \"#FFA15A\"}, \"name\": \"112th Congress (2011-2013)\", \"offsetgroup\": \"112th Congress (2011-2013)\", \"orientation\": \"v\", \"showlegend\": true, \"textposition\": \"auto\", \"x\": [\"112th Congress (2011-2013)\"], \"xaxis\": \"x\", \"y\": [124], \"yaxis\": \"y\", \"type\": \"bar\"}], \"name\": \"112th Congress (2011-2013)\"}, {\"data\": [{\"alignmentgroup\": \"True\", \"hovertemplate\": \"color=111th Congress (2009-2010)<br>animation_frame=111th Congress (2009-2010)<br>x=%{x}<br>value=%{y}<extra></extra>\", \"legendgroup\": \"111th Congress (2009-2010)\", \"marker\": {\"color\": \"#19d3f3\"}, \"name\": \"111th Congress (2009-2010)\", \"offsetgroup\": \"111th Congress (2009-2010)\", \"orientation\": \"v\", \"showlegend\": true, \"textposition\": \"auto\", \"x\": [\"111th Congress (2009-2010)\"], \"xaxis\": \"x\", \"y\": [147], \"yaxis\": \"y\", \"type\": \"bar\"}], \"name\": \"111th Congress (2009-2010)\"}, {\"data\": [{\"alignmentgroup\": \"True\", \"hovertemplate\": \"color=110th Congress (2007-2009)<br>animation_frame=110th Congress (2007-2009)<br>x=%{x}<br>value=%{y}<extra></extra>\", \"legendgroup\": \"110th Congress (2007-2009)\", \"marker\": {\"color\": \"#FF6692\"}, \"name\": \"110th Congress (2007-2009)\", \"offsetgroup\": \"110th Congress (2007-2009)\", \"orientation\": \"v\", \"showlegend\": true, \"textposition\": \"auto\", \"x\": [\"110th Congress (2007-2009)\"], \"xaxis\": \"x\", \"y\": [1850], \"yaxis\": \"y\", \"type\": \"bar\"}], \"name\": \"110th Congress (2007-2009)\"}, {\"data\": [{\"alignmentgroup\": \"True\", \"hovertemplate\": \"color=109th Congress (2005-2006)<br>animation_frame=109th Congress (2005-2006)<br>x=%{x}<br>value=%{y}<extra></extra>\", \"legendgroup\": \"109th Congress (2005-2006)\", \"marker\": {\"color\": \"#B6E880\"}, \"name\": \"109th Congress (2005-2006)\", \"offsetgroup\": \"109th Congress (2005-2006)\", \"orientation\": \"v\", \"showlegend\": true, \"textposition\": \"auto\", \"x\": [\"109th Congress (2005-2006)\"], \"xaxis\": \"x\", \"y\": [2004], \"yaxis\": \"y\", \"type\": \"bar\"}], \"name\": \"109th Congress (2005-2006)\"}, {\"data\": [{\"alignmentgroup\": \"True\", \"hovertemplate\": \"color=108th Congress (2003-2004)<br>animation_frame=108th Congress (2003-2004)<br>x=%{x}<br>value=%{y}<extra></extra>\", \"legendgroup\": \"108th Congress (2003-2004)\", \"marker\": {\"color\": \"#FF97FF\"}, \"name\": \"108th Congress (2003-2004)\", \"offsetgroup\": \"108th Congress (2003-2004)\", \"orientation\": \"v\", \"showlegend\": true, \"textposition\": \"auto\", \"x\": [\"108th Congress (2003-2004)\"], \"xaxis\": \"x\", \"y\": [1744], \"yaxis\": \"y\", \"type\": \"bar\"}], \"name\": \"108th Congress (2003-2004)\"}, {\"data\": [{\"alignmentgroup\": \"True\", \"hovertemplate\": \"color=107th Congress (2001-2002)<br>animation_frame=107th Congress (2001-2002)<br>x=%{x}<br>value=%{y}<extra></extra>\", \"legendgroup\": \"107th Congress (2001-2002)\", \"marker\": {\"color\": \"#FECB52\"}, \"name\": \"107th Congress (2001-2002)\", \"offsetgroup\": \"107th Congress (2001-2002)\", \"orientation\": \"v\", \"showlegend\": true, \"textposition\": \"auto\", \"x\": [\"107th Congress (2001-2002)\"], \"xaxis\": \"x\", \"y\": [1805], \"yaxis\": \"y\", \"type\": \"bar\"}], \"name\": \"107th Congress (2001-2002)\"}, {\"data\": [{\"alignmentgroup\": \"True\", \"hovertemplate\": \"color=106th Congress (1999-2000)<br>animation_frame=106th Congress (1999-2000)<br>x=%{x}<br>value=%{y}<extra></extra>\", \"legendgroup\": \"106th Congress (1999-2000)\", \"marker\": {\"color\": \"#636efa\"}, \"name\": \"106th Congress (1999-2000)\", \"offsetgroup\": \"106th Congress (1999-2000)\", \"orientation\": \"v\", \"showlegend\": true, \"textposition\": \"auto\", \"x\": [\"106th Congress (1999-2000)\"], \"xaxis\": \"x\", \"y\": [1782], \"yaxis\": \"y\", \"type\": \"bar\"}], \"name\": \"106th Congress (1999-2000)\"}, {\"data\": [{\"alignmentgroup\": \"True\", \"hovertemplate\": \"color=105th Congress (1997-1998)<br>animation_frame=105th Congress (1997-1998)<br>x=%{x}<br>value=%{y}<extra></extra>\", \"legendgroup\": \"105th Congress (1997-1998)\", \"marker\": {\"color\": \"#EF553B\"}, \"name\": \"105th Congress (1997-1998)\", \"offsetgroup\": \"105th Congress (1997-1998)\", \"orientation\": \"v\", \"showlegend\": true, \"textposition\": \"auto\", \"x\": [\"105th Congress (1997-1998)\"], \"xaxis\": \"x\", \"y\": [1360], \"yaxis\": \"y\", \"type\": \"bar\"}], \"name\": \"105th Congress (1997-1998)\"}, {\"data\": [{\"alignmentgroup\": \"True\", \"hovertemplate\": \"color=104th Congress (1995-1996)<br>animation_frame=104th Congress (1995-1996)<br>x=%{x}<br>value=%{y}<extra></extra>\", \"legendgroup\": \"104th Congress (1995-1996)\", \"marker\": {\"color\": \"#00cc96\"}, \"name\": \"104th Congress (1995-1996)\", \"offsetgroup\": \"104th Congress (1995-1996)\", \"orientation\": \"v\", \"showlegend\": true, \"textposition\": \"auto\", \"x\": [\"104th Congress (1995-1996)\"], \"xaxis\": \"x\", \"y\": [1039], \"yaxis\": \"y\", \"type\": \"bar\"}], \"name\": \"104th Congress (1995-1996)\"}, {\"data\": [{\"alignmentgroup\": \"True\", \"hovertemplate\": \"color=103rd Congress (1993-1994)<br>animation_frame=103rd Congress (1993-1994)<br>x=%{x}<br>value=%{y}<extra></extra>\", \"legendgroup\": \"103rd Congress (1993-1994)\", \"marker\": {\"color\": \"#ab63fa\"}, \"name\": \"103rd Congress (1993-1994)\", \"offsetgroup\": \"103rd Congress (1993-1994)\", \"orientation\": \"v\", \"showlegend\": true, \"textposition\": \"auto\", \"x\": [\"103rd Congress (1993-1994)\"], \"xaxis\": \"x\", \"y\": [526], \"yaxis\": \"y\", \"type\": \"bar\"}], \"name\": \"103rd Congress (1993-1994)\"}, {\"data\": [{\"alignmentgroup\": \"True\", \"hovertemplate\": \"color=102nd Congress (1991-1992)<br>animation_frame=102nd Congress (1991-1992)<br>x=%{x}<br>value=%{y}<extra></extra>\", \"legendgroup\": \"102nd Congress (1991-1992)\", \"marker\": {\"color\": \"#FFA15A\"}, \"name\": \"102nd Congress (1991-1992)\", \"offsetgroup\": \"102nd Congress (1991-1992)\", \"orientation\": \"v\", \"showlegend\": true, \"textposition\": \"auto\", \"x\": [\"102nd Congress (1991-1992)\"], \"xaxis\": \"x\", \"y\": [118], \"yaxis\": \"y\", \"type\": \"bar\"}], \"name\": \"102nd Congress (1991-1992)\"}, {\"data\": [{\"alignmentgroup\": \"True\", \"hovertemplate\": \"color=101st Congress (1989-1990)<br>animation_frame=101st Congress (1989-1990)<br>x=%{x}<br>value=%{y}<extra></extra>\", \"legendgroup\": \"101st Congress (1989-1990)\", \"marker\": {\"color\": \"#19d3f3\"}, \"name\": \"101st Congress (1989-1990)\", \"offsetgroup\": \"101st Congress (1989-1990)\", \"orientation\": \"v\", \"showlegend\": true, \"textposition\": \"auto\", \"x\": [\"101st Congress (1989-1990)\"], \"xaxis\": \"x\", \"y\": [88], \"yaxis\": \"y\", \"type\": \"bar\"}], \"name\": \"101st Congress (1989-1990)\"}, {\"data\": [{\"alignmentgroup\": \"True\", \"hovertemplate\": \"color=100th Congress (1987-1988)<br>animation_frame=100th Congress (1987-1988)<br>x=%{x}<br>value=%{y}<extra></extra>\", \"legendgroup\": \"100th Congress (1987-1988)\", \"marker\": {\"color\": \"#FF6692\"}, \"name\": \"100th Congress (1987-1988)\", \"offsetgroup\": \"100th Congress (1987-1988)\", \"orientation\": \"v\", \"showlegend\": true, \"textposition\": \"auto\", \"x\": [\"100th Congress (1987-1988)\"], \"xaxis\": \"x\", \"y\": [111], \"yaxis\": \"y\", \"type\": \"bar\"}], \"name\": \"100th Congress (1987-1988)\"}, {\"data\": [{\"alignmentgroup\": \"True\", \"hovertemplate\": \"color=99th Congress (1985-1986)<br>animation_frame=99th Congress (1985-1986)<br>x=%{x}<br>value=%{y}<extra></extra>\", \"legendgroup\": \"99th Congress (1985-1986)\", \"marker\": {\"color\": \"#B6E880\"}, \"name\": \"99th Congress (1985-1986)\", \"offsetgroup\": \"99th Congress (1985-1986)\", \"orientation\": \"v\", \"showlegend\": true, \"textposition\": \"auto\", \"x\": [\"99th Congress (1985-1986)\"], \"xaxis\": \"x\", \"y\": [122], \"yaxis\": \"y\", \"type\": \"bar\"}], \"name\": \"99th Congress (1985-1986)\"}, {\"data\": [{\"alignmentgroup\": \"True\", \"hovertemplate\": \"color=98th Congress (1983-1984)<br>animation_frame=98th Congress (1983-1984)<br>x=%{x}<br>value=%{y}<extra></extra>\", \"legendgroup\": \"98th Congress (1983-1984)\", \"marker\": {\"color\": \"#FF97FF\"}, \"name\": \"98th Congress (1983-1984)\", \"offsetgroup\": \"98th Congress (1983-1984)\", \"orientation\": \"v\", \"showlegend\": true, \"textposition\": \"auto\", \"x\": [\"98th Congress (1983-1984)\"], \"xaxis\": \"x\", \"y\": [176], \"yaxis\": \"y\", \"type\": \"bar\"}], \"name\": \"98th Congress (1983-1984)\"}, {\"data\": [{\"alignmentgroup\": \"True\", \"hovertemplate\": \"color=97th Congress (1981-1982)<br>animation_frame=97th Congress (1981-1982)<br>x=%{x}<br>value=%{y}<extra></extra>\", \"legendgroup\": \"97th Congress (1981-1982)\", \"marker\": {\"color\": \"#FECB52\"}, \"name\": \"97th Congress (1981-1982)\", \"offsetgroup\": \"97th Congress (1981-1982)\", \"orientation\": \"v\", \"showlegend\": true, \"textposition\": \"auto\", \"x\": [\"97th Congress (1981-1982)\"], \"xaxis\": \"x\", \"y\": [132], \"yaxis\": \"y\", \"type\": \"bar\"}], \"name\": \"97th Congress (1981-1982)\"}, {\"data\": [{\"alignmentgroup\": \"True\", \"hovertemplate\": \"color=96th Congress (1979-1980)<br>animation_frame=96th Congress (1979-1980)<br>x=%{x}<br>value=%{y}<extra></extra>\", \"legendgroup\": \"96th Congress (1979-1980)\", \"marker\": {\"color\": \"#636efa\"}, \"name\": \"96th Congress (1979-1980)\", \"offsetgroup\": \"96th Congress (1979-1980)\", \"orientation\": \"v\", \"showlegend\": true, \"textposition\": \"auto\", \"x\": [\"96th Congress (1979-1980)\"], \"xaxis\": \"x\", \"y\": [146], \"yaxis\": \"y\", \"type\": \"bar\"}], \"name\": \"96th Congress (1979-1980)\"}, {\"data\": [{\"alignmentgroup\": \"True\", \"hovertemplate\": \"color=95th Congress (1977-1978)<br>animation_frame=95th Congress (1977-1978)<br>x=%{x}<br>value=%{y}<extra></extra>\", \"legendgroup\": \"95th Congress (1977-1978)\", \"marker\": {\"color\": \"#EF553B\"}, \"name\": \"95th Congress (1977-1978)\", \"offsetgroup\": \"95th Congress (1977-1978)\", \"orientation\": \"v\", \"showlegend\": true, \"textposition\": \"auto\", \"x\": [\"95th Congress (1977-1978)\"], \"xaxis\": \"x\", \"y\": [308], \"yaxis\": \"y\", \"type\": \"bar\"}], \"name\": \"95th Congress (1977-1978)\"}, {\"data\": [{\"alignmentgroup\": \"True\", \"hovertemplate\": \"color=94th Congress (1975-1976)<br>animation_frame=94th Congress (1975-1976)<br>x=%{x}<br>value=%{y}<extra></extra>\", \"legendgroup\": \"94th Congress (1975-1976)\", \"marker\": {\"color\": \"#00cc96\"}, \"name\": \"94th Congress (1975-1976)\", \"offsetgroup\": \"94th Congress (1975-1976)\", \"orientation\": \"v\", \"showlegend\": true, \"textposition\": \"auto\", \"x\": [\"94th Congress (1975-1976)\"], \"xaxis\": \"x\", \"y\": [215], \"yaxis\": \"y\", \"type\": \"bar\"}], \"name\": \"94th Congress (1975-1976)\"}, {\"data\": [{\"alignmentgroup\": \"True\", \"hovertemplate\": \"color=93rd Congress (1973-1974)<br>animation_frame=93rd Congress (1973-1974)<br>x=%{x}<br>value=%{y}<extra></extra>\", \"legendgroup\": \"93rd Congress (1973-1974)\", \"marker\": {\"color\": \"#ab63fa\"}, \"name\": \"93rd Congress (1973-1974)\", \"offsetgroup\": \"93rd Congress (1973-1974)\", \"orientation\": \"v\", \"showlegend\": true, \"textposition\": \"auto\", \"x\": [\"93rd Congress (1973-1974)\"], \"xaxis\": \"x\", \"y\": [384], \"yaxis\": \"y\", \"type\": \"bar\"}], \"name\": \"93rd Congress (1973-1974)\"}]);\n",
       "                        }).then(function(){\n",
       "                            \n",
       "var gd = document.getElementById('c24fc9f4-5ba7-4e43-b477-4db9d6a28586');\n",
       "var x = new MutationObserver(function (mutations, observer) {{\n",
       "        var display = window.getComputedStyle(gd).display;\n",
       "        if (!display || display === 'none') {{\n",
       "            console.log([gd, 'removed!']);\n",
       "            Plotly.purge(gd);\n",
       "            observer.disconnect();\n",
       "        }}\n",
       "}});\n",
       "\n",
       "// Listen for the removal of the full notebook cells\n",
       "var notebookContainer = gd.closest('#notebook-container');\n",
       "if (notebookContainer) {{\n",
       "    x.observe(notebookContainer, {childList: true});\n",
       "}}\n",
       "\n",
       "// Listen for the clearing of the current output cell\n",
       "var outputEl = gd.closest('.output');\n",
       "if (outputEl) {{\n",
       "    x.observe(outputEl, {childList: true});\n",
       "}}\n",
       "\n",
       "                        })                };                });            </script>        </div>"
      ]
     },
     "metadata": {},
     "output_type": "display_data"
    }
   ],
   "source": [
    "import plotly.express as px\n",
    "\n",
    "fig1 = px.bar(df, x=congress, y=[\"Intro_bills\"], color=congress,\n",
    "  animation_frame=congress, barmode = 'group', range_y=[100,2500])\n",
    "fig1.update_layout(xaxis_title = \"Congress\", yaxis_title = \"Bills Introduced\")\n",
    "fig1.update_layout(template = 'plotly_dark')\n",
    "fig1.show()"
   ]
  },
  {
   "cell_type": "code",
   "execution_count": 9,
   "metadata": {},
   "outputs": [],
   "source": [
    "df['Split_Gov'] = df['Split_Gov'].replace([0,1], ['No', 'Yes'])"
   ]
  },
  {
   "cell_type": "code",
   "execution_count": 41,
   "metadata": {
    "scrolled": true
   },
   "outputs": [
    {
     "data": {
      "application/vnd.plotly.v1+json": {
       "config": {
        "plotlyServerURL": "https://plotly.com"
       },
       "data": [
        {
         "alignmentgroup": "True",
         "bingroup": "x",
         "histfunc": "sum",
         "hovertemplate": "Split_Gov=No<br>x=%{x}<br>sum of enacted_signed_by_pres=%{y}<extra></extra>",
         "legendgroup": "No",
         "marker": {
          "color": "#636efa"
         },
         "name": "No",
         "offsetgroup": "No",
         "orientation": "v",
         "showlegend": true,
         "type": "histogram",
         "x": [
          "116th Congress (2019-2021)",
          "114th Congress (2015-2017)",
          "113th Congress (2013-2015)",
          "112th Congress (2011-2013)",
          "109th Congress (2005-2006)",
          "108th Congress (2003-2004)",
          "107th Congress (2001-2002)",
          "103rd Congress (1993-1994)",
          "99th Congress (1985-1986)",
          "98th Congress (1983-1984)",
          "97th Congress (1981-1982)",
          "96th Congress (1979-1980)",
          "95th Congress (1977-1978)"
         ],
         "xaxis": "x",
         "y": [
          12,
          4,
          6,
          3,
          100,
          128,
          97,
          91,
          18,
          14,
          6,
          21,
          13
         ],
         "yaxis": "y"
        },
        {
         "alignmentgroup": "True",
         "customdata": [
          [
           "116th_congress_2019_2021",
           421,
           33,
           14,
           12,
           32,
           "No"
          ],
          [
           "114th_congress_2015_2017",
           169,
           28,
           3,
           4,
           10,
           "No"
          ],
          [
           "113th_congress_2013_2015",
           148,
           15,
           2,
           6,
           11,
           "No"
          ],
          [
           "112th_congress_2011_2013",
           124,
           8,
           1,
           3,
           4,
           "No"
          ],
          [
           "109th_congress_2005_2006",
           2004,
           106,
           46,
           100,
           117,
           "No"
          ],
          [
           "108th_congress_2003_2004",
           1744,
           109,
           88,
           128,
           150,
           "No"
          ],
          [
           "107th_congress_2001_2002",
           1805,
           101,
           58,
           97,
           116,
           "No"
          ],
          [
           "103rd_congress_1993_1994",
           526,
           78,
           37,
           91,
           104,
           "No"
          ],
          [
           "99th_congress_1985_1986",
           122,
           4,
           5,
           18,
           21,
           "No"
          ],
          [
           "98th_congress_1983_1984",
           176,
           7,
           8,
           14,
           15,
           "No"
          ],
          [
           "97th_congress_1981_1982",
           132,
           12,
           9,
           6,
           6,
           "No"
          ],
          [
           "96th_congress_1979_1980",
           146,
           10,
           6,
           21,
           25,
           "No"
          ],
          [
           "95th_congress_1977_1978",
           308,
           3,
           2,
           13,
           14,
           "No"
          ]
         ],
         "hovertemplate": "Split_Gov=%{customdata[6]}<br>x=%{x}<br>congress=%{customdata[0]}<br>Intro_bills=%{customdata[1]}<br>passed_house=%{customdata[2]}<br>paassed_senate=%{customdata[3]}<br>enacted_signed_by_pres=%{customdata[4]}<br>enacted_included_in_other_bill=%{customdata[5]}<extra></extra>",
         "legendgroup": "No",
         "marker": {
          "color": "#636efa"
         },
         "name": "No",
         "notched": true,
         "offsetgroup": "No",
         "showlegend": false,
         "type": "box",
         "x": [
          "116th Congress (2019-2021)",
          "114th Congress (2015-2017)",
          "113th Congress (2013-2015)",
          "112th Congress (2011-2013)",
          "109th Congress (2005-2006)",
          "108th Congress (2003-2004)",
          "107th Congress (2001-2002)",
          "103rd Congress (1993-1994)",
          "99th Congress (1985-1986)",
          "98th Congress (1983-1984)",
          "97th Congress (1981-1982)",
          "96th Congress (1979-1980)",
          "95th Congress (1977-1978)"
         ],
         "xaxis": "x2",
         "yaxis": "y2"
        },
        {
         "alignmentgroup": "True",
         "bingroup": "x",
         "histfunc": "sum",
         "hovertemplate": "Split_Gov=Yes<br>x=%{x}<br>sum of enacted_signed_by_pres=%{y}<extra></extra>",
         "legendgroup": "Yes",
         "marker": {
          "color": "#EF553B"
         },
         "name": "Yes",
         "offsetgroup": "Yes",
         "orientation": "v",
         "showlegend": true,
         "type": "histogram",
         "x": [
          "115th Congress (2017-2019)",
          "111th Congress (2009-2010)",
          "110th Congress (2007-2009)",
          "106th Congress (1999-2000)",
          "105th Congress (1997-1998)",
          "104th Congress (1995-1996)",
          "102nd Congress (1991-1992)",
          "101st Congress (1989-1990)",
          "100th Congress (1987-1988)",
          "94th Congress (1975-1976)",
          "93rd Congress (1973-1974)"
         ],
         "xaxis": "x",
         "y": [
          16,
          14,
          89,
          149,
          125,
          94,
          31,
          20,
          21,
          11,
          9
         ],
         "yaxis": "y"
        },
        {
         "alignmentgroup": "True",
         "customdata": [
          [
           "115th_congress_2017_2019",
           297,
           36,
           15,
           16,
           41,
           "Yes"
          ],
          [
           "111th_congress_2009_2010",
           147,
           15,
           3,
           14,
           20,
           "Yes"
          ],
          [
           "110th_congress_2007_2009",
           1850,
           196,
           34,
           89,
           161,
           "Yes"
          ],
          [
           "106th_congress_1999_2000",
           1782,
           105,
           65,
           149,
           185,
           "Yes"
          ],
          [
           "105th_congress_1997_1998",
           1360,
           86,
           59,
           125,
           150,
           "Yes"
          ],
          [
           "104th_congress_1995_1996",
           1039,
           83,
           29,
           94,
           111,
           "Yes"
          ],
          [
           "102nd_congress_1991_1992",
           118,
           18,
           14,
           31,
           33,
           "Yes"
          ],
          [
           "101st_congress_1989_1990",
           88,
           13,
           13,
           20,
           26,
           "Yes"
          ],
          [
           "100th_congress_1987_1988",
           111,
           6,
           2,
           21,
           24,
           "Yes"
          ],
          [
           "94th_congress_1975_1976",
           215,
           2,
           2,
           11,
           12,
           "Yes"
          ],
          [
           "93rd_congress_1973_1974",
           384,
           2,
           2,
           9,
           14,
           "Yes"
          ]
         ],
         "hovertemplate": "Split_Gov=%{customdata[6]}<br>x=%{x}<br>congress=%{customdata[0]}<br>Intro_bills=%{customdata[1]}<br>passed_house=%{customdata[2]}<br>paassed_senate=%{customdata[3]}<br>enacted_signed_by_pres=%{customdata[4]}<br>enacted_included_in_other_bill=%{customdata[5]}<extra></extra>",
         "legendgroup": "Yes",
         "marker": {
          "color": "#EF553B"
         },
         "name": "Yes",
         "notched": true,
         "offsetgroup": "Yes",
         "showlegend": false,
         "type": "box",
         "x": [
          "115th Congress (2017-2019)",
          "111th Congress (2009-2010)",
          "110th Congress (2007-2009)",
          "106th Congress (1999-2000)",
          "105th Congress (1997-1998)",
          "104th Congress (1995-1996)",
          "102nd Congress (1991-1992)",
          "101st Congress (1989-1990)",
          "100th Congress (1987-1988)",
          "94th Congress (1975-1976)",
          "93rd Congress (1973-1974)"
         ],
         "xaxis": "x2",
         "yaxis": "y2"
        }
       ],
       "layout": {
        "barmode": "relative",
        "legend": {
         "title": {
          "text": "Split_Gov"
         },
         "tracegroupgap": 0
        },
        "template": {
         "data": {
          "bar": [
           {
            "error_x": {
             "color": "#f2f5fa"
            },
            "error_y": {
             "color": "#f2f5fa"
            },
            "marker": {
             "line": {
              "color": "rgb(17,17,17)",
              "width": 0.5
             }
            },
            "type": "bar"
           }
          ],
          "barpolar": [
           {
            "marker": {
             "line": {
              "color": "rgb(17,17,17)",
              "width": 0.5
             }
            },
            "type": "barpolar"
           }
          ],
          "carpet": [
           {
            "aaxis": {
             "endlinecolor": "#A2B1C6",
             "gridcolor": "#506784",
             "linecolor": "#506784",
             "minorgridcolor": "#506784",
             "startlinecolor": "#A2B1C6"
            },
            "baxis": {
             "endlinecolor": "#A2B1C6",
             "gridcolor": "#506784",
             "linecolor": "#506784",
             "minorgridcolor": "#506784",
             "startlinecolor": "#A2B1C6"
            },
            "type": "carpet"
           }
          ],
          "choropleth": [
           {
            "colorbar": {
             "outlinewidth": 0,
             "ticks": ""
            },
            "type": "choropleth"
           }
          ],
          "contour": [
           {
            "colorbar": {
             "outlinewidth": 0,
             "ticks": ""
            },
            "colorscale": [
             [
              0,
              "#0d0887"
             ],
             [
              0.1111111111111111,
              "#46039f"
             ],
             [
              0.2222222222222222,
              "#7201a8"
             ],
             [
              0.3333333333333333,
              "#9c179e"
             ],
             [
              0.4444444444444444,
              "#bd3786"
             ],
             [
              0.5555555555555556,
              "#d8576b"
             ],
             [
              0.6666666666666666,
              "#ed7953"
             ],
             [
              0.7777777777777778,
              "#fb9f3a"
             ],
             [
              0.8888888888888888,
              "#fdca26"
             ],
             [
              1,
              "#f0f921"
             ]
            ],
            "type": "contour"
           }
          ],
          "contourcarpet": [
           {
            "colorbar": {
             "outlinewidth": 0,
             "ticks": ""
            },
            "type": "contourcarpet"
           }
          ],
          "heatmap": [
           {
            "colorbar": {
             "outlinewidth": 0,
             "ticks": ""
            },
            "colorscale": [
             [
              0,
              "#0d0887"
             ],
             [
              0.1111111111111111,
              "#46039f"
             ],
             [
              0.2222222222222222,
              "#7201a8"
             ],
             [
              0.3333333333333333,
              "#9c179e"
             ],
             [
              0.4444444444444444,
              "#bd3786"
             ],
             [
              0.5555555555555556,
              "#d8576b"
             ],
             [
              0.6666666666666666,
              "#ed7953"
             ],
             [
              0.7777777777777778,
              "#fb9f3a"
             ],
             [
              0.8888888888888888,
              "#fdca26"
             ],
             [
              1,
              "#f0f921"
             ]
            ],
            "type": "heatmap"
           }
          ],
          "heatmapgl": [
           {
            "colorbar": {
             "outlinewidth": 0,
             "ticks": ""
            },
            "colorscale": [
             [
              0,
              "#0d0887"
             ],
             [
              0.1111111111111111,
              "#46039f"
             ],
             [
              0.2222222222222222,
              "#7201a8"
             ],
             [
              0.3333333333333333,
              "#9c179e"
             ],
             [
              0.4444444444444444,
              "#bd3786"
             ],
             [
              0.5555555555555556,
              "#d8576b"
             ],
             [
              0.6666666666666666,
              "#ed7953"
             ],
             [
              0.7777777777777778,
              "#fb9f3a"
             ],
             [
              0.8888888888888888,
              "#fdca26"
             ],
             [
              1,
              "#f0f921"
             ]
            ],
            "type": "heatmapgl"
           }
          ],
          "histogram": [
           {
            "marker": {
             "colorbar": {
              "outlinewidth": 0,
              "ticks": ""
             }
            },
            "type": "histogram"
           }
          ],
          "histogram2d": [
           {
            "colorbar": {
             "outlinewidth": 0,
             "ticks": ""
            },
            "colorscale": [
             [
              0,
              "#0d0887"
             ],
             [
              0.1111111111111111,
              "#46039f"
             ],
             [
              0.2222222222222222,
              "#7201a8"
             ],
             [
              0.3333333333333333,
              "#9c179e"
             ],
             [
              0.4444444444444444,
              "#bd3786"
             ],
             [
              0.5555555555555556,
              "#d8576b"
             ],
             [
              0.6666666666666666,
              "#ed7953"
             ],
             [
              0.7777777777777778,
              "#fb9f3a"
             ],
             [
              0.8888888888888888,
              "#fdca26"
             ],
             [
              1,
              "#f0f921"
             ]
            ],
            "type": "histogram2d"
           }
          ],
          "histogram2dcontour": [
           {
            "colorbar": {
             "outlinewidth": 0,
             "ticks": ""
            },
            "colorscale": [
             [
              0,
              "#0d0887"
             ],
             [
              0.1111111111111111,
              "#46039f"
             ],
             [
              0.2222222222222222,
              "#7201a8"
             ],
             [
              0.3333333333333333,
              "#9c179e"
             ],
             [
              0.4444444444444444,
              "#bd3786"
             ],
             [
              0.5555555555555556,
              "#d8576b"
             ],
             [
              0.6666666666666666,
              "#ed7953"
             ],
             [
              0.7777777777777778,
              "#fb9f3a"
             ],
             [
              0.8888888888888888,
              "#fdca26"
             ],
             [
              1,
              "#f0f921"
             ]
            ],
            "type": "histogram2dcontour"
           }
          ],
          "mesh3d": [
           {
            "colorbar": {
             "outlinewidth": 0,
             "ticks": ""
            },
            "type": "mesh3d"
           }
          ],
          "parcoords": [
           {
            "line": {
             "colorbar": {
              "outlinewidth": 0,
              "ticks": ""
             }
            },
            "type": "parcoords"
           }
          ],
          "pie": [
           {
            "automargin": true,
            "type": "pie"
           }
          ],
          "scatter": [
           {
            "marker": {
             "line": {
              "color": "#283442"
             }
            },
            "type": "scatter"
           }
          ],
          "scatter3d": [
           {
            "line": {
             "colorbar": {
              "outlinewidth": 0,
              "ticks": ""
             }
            },
            "marker": {
             "colorbar": {
              "outlinewidth": 0,
              "ticks": ""
             }
            },
            "type": "scatter3d"
           }
          ],
          "scattercarpet": [
           {
            "marker": {
             "colorbar": {
              "outlinewidth": 0,
              "ticks": ""
             }
            },
            "type": "scattercarpet"
           }
          ],
          "scattergeo": [
           {
            "marker": {
             "colorbar": {
              "outlinewidth": 0,
              "ticks": ""
             }
            },
            "type": "scattergeo"
           }
          ],
          "scattergl": [
           {
            "marker": {
             "line": {
              "color": "#283442"
             }
            },
            "type": "scattergl"
           }
          ],
          "scattermapbox": [
           {
            "marker": {
             "colorbar": {
              "outlinewidth": 0,
              "ticks": ""
             }
            },
            "type": "scattermapbox"
           }
          ],
          "scatterpolar": [
           {
            "marker": {
             "colorbar": {
              "outlinewidth": 0,
              "ticks": ""
             }
            },
            "type": "scatterpolar"
           }
          ],
          "scatterpolargl": [
           {
            "marker": {
             "colorbar": {
              "outlinewidth": 0,
              "ticks": ""
             }
            },
            "type": "scatterpolargl"
           }
          ],
          "scatterternary": [
           {
            "marker": {
             "colorbar": {
              "outlinewidth": 0,
              "ticks": ""
             }
            },
            "type": "scatterternary"
           }
          ],
          "surface": [
           {
            "colorbar": {
             "outlinewidth": 0,
             "ticks": ""
            },
            "colorscale": [
             [
              0,
              "#0d0887"
             ],
             [
              0.1111111111111111,
              "#46039f"
             ],
             [
              0.2222222222222222,
              "#7201a8"
             ],
             [
              0.3333333333333333,
              "#9c179e"
             ],
             [
              0.4444444444444444,
              "#bd3786"
             ],
             [
              0.5555555555555556,
              "#d8576b"
             ],
             [
              0.6666666666666666,
              "#ed7953"
             ],
             [
              0.7777777777777778,
              "#fb9f3a"
             ],
             [
              0.8888888888888888,
              "#fdca26"
             ],
             [
              1,
              "#f0f921"
             ]
            ],
            "type": "surface"
           }
          ],
          "table": [
           {
            "cells": {
             "fill": {
              "color": "#506784"
             },
             "line": {
              "color": "rgb(17,17,17)"
             }
            },
            "header": {
             "fill": {
              "color": "#2a3f5f"
             },
             "line": {
              "color": "rgb(17,17,17)"
             }
            },
            "type": "table"
           }
          ]
         },
         "layout": {
          "annotationdefaults": {
           "arrowcolor": "#f2f5fa",
           "arrowhead": 0,
           "arrowwidth": 1
          },
          "coloraxis": {
           "colorbar": {
            "outlinewidth": 0,
            "ticks": ""
           }
          },
          "colorscale": {
           "diverging": [
            [
             0,
             "#8e0152"
            ],
            [
             0.1,
             "#c51b7d"
            ],
            [
             0.2,
             "#de77ae"
            ],
            [
             0.3,
             "#f1b6da"
            ],
            [
             0.4,
             "#fde0ef"
            ],
            [
             0.5,
             "#f7f7f7"
            ],
            [
             0.6,
             "#e6f5d0"
            ],
            [
             0.7,
             "#b8e186"
            ],
            [
             0.8,
             "#7fbc41"
            ],
            [
             0.9,
             "#4d9221"
            ],
            [
             1,
             "#276419"
            ]
           ],
           "sequential": [
            [
             0,
             "#0d0887"
            ],
            [
             0.1111111111111111,
             "#46039f"
            ],
            [
             0.2222222222222222,
             "#7201a8"
            ],
            [
             0.3333333333333333,
             "#9c179e"
            ],
            [
             0.4444444444444444,
             "#bd3786"
            ],
            [
             0.5555555555555556,
             "#d8576b"
            ],
            [
             0.6666666666666666,
             "#ed7953"
            ],
            [
             0.7777777777777778,
             "#fb9f3a"
            ],
            [
             0.8888888888888888,
             "#fdca26"
            ],
            [
             1,
             "#f0f921"
            ]
           ],
           "sequentialminus": [
            [
             0,
             "#0d0887"
            ],
            [
             0.1111111111111111,
             "#46039f"
            ],
            [
             0.2222222222222222,
             "#7201a8"
            ],
            [
             0.3333333333333333,
             "#9c179e"
            ],
            [
             0.4444444444444444,
             "#bd3786"
            ],
            [
             0.5555555555555556,
             "#d8576b"
            ],
            [
             0.6666666666666666,
             "#ed7953"
            ],
            [
             0.7777777777777778,
             "#fb9f3a"
            ],
            [
             0.8888888888888888,
             "#fdca26"
            ],
            [
             1,
             "#f0f921"
            ]
           ]
          },
          "colorway": [
           "#636efa",
           "#EF553B",
           "#00cc96",
           "#ab63fa",
           "#FFA15A",
           "#19d3f3",
           "#FF6692",
           "#B6E880",
           "#FF97FF",
           "#FECB52"
          ],
          "font": {
           "color": "#f2f5fa"
          },
          "geo": {
           "bgcolor": "rgb(17,17,17)",
           "lakecolor": "rgb(17,17,17)",
           "landcolor": "rgb(17,17,17)",
           "showlakes": true,
           "showland": true,
           "subunitcolor": "#506784"
          },
          "hoverlabel": {
           "align": "left"
          },
          "hovermode": "closest",
          "mapbox": {
           "style": "dark"
          },
          "paper_bgcolor": "rgb(17,17,17)",
          "plot_bgcolor": "rgb(17,17,17)",
          "polar": {
           "angularaxis": {
            "gridcolor": "#506784",
            "linecolor": "#506784",
            "ticks": ""
           },
           "bgcolor": "rgb(17,17,17)",
           "radialaxis": {
            "gridcolor": "#506784",
            "linecolor": "#506784",
            "ticks": ""
           }
          },
          "scene": {
           "xaxis": {
            "backgroundcolor": "rgb(17,17,17)",
            "gridcolor": "#506784",
            "gridwidth": 2,
            "linecolor": "#506784",
            "showbackground": true,
            "ticks": "",
            "zerolinecolor": "#C8D4E3"
           },
           "yaxis": {
            "backgroundcolor": "rgb(17,17,17)",
            "gridcolor": "#506784",
            "gridwidth": 2,
            "linecolor": "#506784",
            "showbackground": true,
            "ticks": "",
            "zerolinecolor": "#C8D4E3"
           },
           "zaxis": {
            "backgroundcolor": "rgb(17,17,17)",
            "gridcolor": "#506784",
            "gridwidth": 2,
            "linecolor": "#506784",
            "showbackground": true,
            "ticks": "",
            "zerolinecolor": "#C8D4E3"
           }
          },
          "shapedefaults": {
           "line": {
            "color": "#f2f5fa"
           }
          },
          "sliderdefaults": {
           "bgcolor": "#C8D4E3",
           "bordercolor": "rgb(17,17,17)",
           "borderwidth": 1,
           "tickwidth": 0
          },
          "ternary": {
           "aaxis": {
            "gridcolor": "#506784",
            "linecolor": "#506784",
            "ticks": ""
           },
           "baxis": {
            "gridcolor": "#506784",
            "linecolor": "#506784",
            "ticks": ""
           },
           "bgcolor": "rgb(17,17,17)",
           "caxis": {
            "gridcolor": "#506784",
            "linecolor": "#506784",
            "ticks": ""
           }
          },
          "title": {
           "x": 0.05
          },
          "updatemenudefaults": {
           "bgcolor": "#506784",
           "borderwidth": 0
          },
          "xaxis": {
           "automargin": true,
           "gridcolor": "#283442",
           "linecolor": "#506784",
           "ticks": "",
           "title": {
            "standoff": 15
           },
           "zerolinecolor": "#283442",
           "zerolinewidth": 2
          },
          "yaxis": {
           "automargin": true,
           "gridcolor": "#283442",
           "linecolor": "#506784",
           "ticks": "",
           "title": {
            "standoff": 15
           },
           "zerolinecolor": "#283442",
           "zerolinewidth": 2
          }
         }
        },
        "title": {
         "text": "Bills Passed in Split vs. Unified Governemnt"
        },
        "xaxis": {
         "anchor": "y",
         "domain": [
          0,
          1
         ],
         "title": {
          "text": "Congress"
         }
        },
        "xaxis2": {
         "anchor": "y2",
         "domain": [
          0,
          1
         ],
         "matches": "x",
         "showgrid": true,
         "showticklabels": false
        },
        "yaxis": {
         "anchor": "x",
         "domain": [
          0,
          0.7326
         ],
         "title": {
          "text": "Bills Passed"
         }
        },
        "yaxis2": {
         "anchor": "x2",
         "domain": [
          0.7426,
          1
         ],
         "matches": "y2",
         "showgrid": false,
         "showline": false,
         "showticklabels": false,
         "ticks": ""
        }
       }
      },
      "text/html": [
       "<div>                            <div id=\"f3500b76-7e7d-43ba-a19d-b756c2e04977\" class=\"plotly-graph-div\" style=\"height:525px; width:100%;\"></div>            <script type=\"text/javascript\">                require([\"plotly\"], function(Plotly) {                    window.PLOTLYENV=window.PLOTLYENV || {};                                    if (document.getElementById(\"f3500b76-7e7d-43ba-a19d-b756c2e04977\")) {                    Plotly.newPlot(                        \"f3500b76-7e7d-43ba-a19d-b756c2e04977\",                        [{\"alignmentgroup\": \"True\", \"bingroup\": \"x\", \"histfunc\": \"sum\", \"hovertemplate\": \"Split_Gov=No<br>x=%{x}<br>sum of enacted_signed_by_pres=%{y}<extra></extra>\", \"legendgroup\": \"No\", \"marker\": {\"color\": \"#636efa\"}, \"name\": \"No\", \"offsetgroup\": \"No\", \"orientation\": \"v\", \"showlegend\": true, \"type\": \"histogram\", \"x\": [\"116th Congress (2019-2021)\", \"114th Congress (2015-2017)\", \"113th Congress (2013-2015)\", \"112th Congress (2011-2013)\", \"109th Congress (2005-2006)\", \"108th Congress (2003-2004)\", \"107th Congress (2001-2002)\", \"103rd Congress (1993-1994)\", \"99th Congress (1985-1986)\", \"98th Congress (1983-1984)\", \"97th Congress (1981-1982)\", \"96th Congress (1979-1980)\", \"95th Congress (1977-1978)\"], \"xaxis\": \"x\", \"y\": [12, 4, 6, 3, 100, 128, 97, 91, 18, 14, 6, 21, 13], \"yaxis\": \"y\"}, {\"alignmentgroup\": \"True\", \"customdata\": [[\"116th_congress_2019_2021\", 421, 33, 14, 12, 32, \"No\"], [\"114th_congress_2015_2017\", 169, 28, 3, 4, 10, \"No\"], [\"113th_congress_2013_2015\", 148, 15, 2, 6, 11, \"No\"], [\"112th_congress_2011_2013\", 124, 8, 1, 3, 4, \"No\"], [\"109th_congress_2005_2006\", 2004, 106, 46, 100, 117, \"No\"], [\"108th_congress_2003_2004\", 1744, 109, 88, 128, 150, \"No\"], [\"107th_congress_2001_2002\", 1805, 101, 58, 97, 116, \"No\"], [\"103rd_congress_1993_1994\", 526, 78, 37, 91, 104, \"No\"], [\"99th_congress_1985_1986\", 122, 4, 5, 18, 21, \"No\"], [\"98th_congress_1983_1984\", 176, 7, 8, 14, 15, \"No\"], [\"97th_congress_1981_1982\", 132, 12, 9, 6, 6, \"No\"], [\"96th_congress_1979_1980\", 146, 10, 6, 21, 25, \"No\"], [\"95th_congress_1977_1978\", 308, 3, 2, 13, 14, \"No\"]], \"hovertemplate\": \"Split_Gov=%{customdata[6]}<br>x=%{x}<br>congress=%{customdata[0]}<br>Intro_bills=%{customdata[1]}<br>passed_house=%{customdata[2]}<br>paassed_senate=%{customdata[3]}<br>enacted_signed_by_pres=%{customdata[4]}<br>enacted_included_in_other_bill=%{customdata[5]}<extra></extra>\", \"legendgroup\": \"No\", \"marker\": {\"color\": \"#636efa\"}, \"name\": \"No\", \"notched\": true, \"offsetgroup\": \"No\", \"showlegend\": false, \"type\": \"box\", \"x\": [\"116th Congress (2019-2021)\", \"114th Congress (2015-2017)\", \"113th Congress (2013-2015)\", \"112th Congress (2011-2013)\", \"109th Congress (2005-2006)\", \"108th Congress (2003-2004)\", \"107th Congress (2001-2002)\", \"103rd Congress (1993-1994)\", \"99th Congress (1985-1986)\", \"98th Congress (1983-1984)\", \"97th Congress (1981-1982)\", \"96th Congress (1979-1980)\", \"95th Congress (1977-1978)\"], \"xaxis\": \"x2\", \"yaxis\": \"y2\"}, {\"alignmentgroup\": \"True\", \"bingroup\": \"x\", \"histfunc\": \"sum\", \"hovertemplate\": \"Split_Gov=Yes<br>x=%{x}<br>sum of enacted_signed_by_pres=%{y}<extra></extra>\", \"legendgroup\": \"Yes\", \"marker\": {\"color\": \"#EF553B\"}, \"name\": \"Yes\", \"offsetgroup\": \"Yes\", \"orientation\": \"v\", \"showlegend\": true, \"type\": \"histogram\", \"x\": [\"115th Congress (2017-2019)\", \"111th Congress (2009-2010)\", \"110th Congress (2007-2009)\", \"106th Congress (1999-2000)\", \"105th Congress (1997-1998)\", \"104th Congress (1995-1996)\", \"102nd Congress (1991-1992)\", \"101st Congress (1989-1990)\", \"100th Congress (1987-1988)\", \"94th Congress (1975-1976)\", \"93rd Congress (1973-1974)\"], \"xaxis\": \"x\", \"y\": [16, 14, 89, 149, 125, 94, 31, 20, 21, 11, 9], \"yaxis\": \"y\"}, {\"alignmentgroup\": \"True\", \"customdata\": [[\"115th_congress_2017_2019\", 297, 36, 15, 16, 41, \"Yes\"], [\"111th_congress_2009_2010\", 147, 15, 3, 14, 20, \"Yes\"], [\"110th_congress_2007_2009\", 1850, 196, 34, 89, 161, \"Yes\"], [\"106th_congress_1999_2000\", 1782, 105, 65, 149, 185, \"Yes\"], [\"105th_congress_1997_1998\", 1360, 86, 59, 125, 150, \"Yes\"], [\"104th_congress_1995_1996\", 1039, 83, 29, 94, 111, \"Yes\"], [\"102nd_congress_1991_1992\", 118, 18, 14, 31, 33, \"Yes\"], [\"101st_congress_1989_1990\", 88, 13, 13, 20, 26, \"Yes\"], [\"100th_congress_1987_1988\", 111, 6, 2, 21, 24, \"Yes\"], [\"94th_congress_1975_1976\", 215, 2, 2, 11, 12, \"Yes\"], [\"93rd_congress_1973_1974\", 384, 2, 2, 9, 14, \"Yes\"]], \"hovertemplate\": \"Split_Gov=%{customdata[6]}<br>x=%{x}<br>congress=%{customdata[0]}<br>Intro_bills=%{customdata[1]}<br>passed_house=%{customdata[2]}<br>paassed_senate=%{customdata[3]}<br>enacted_signed_by_pres=%{customdata[4]}<br>enacted_included_in_other_bill=%{customdata[5]}<extra></extra>\", \"legendgroup\": \"Yes\", \"marker\": {\"color\": \"#EF553B\"}, \"name\": \"Yes\", \"notched\": true, \"offsetgroup\": \"Yes\", \"showlegend\": false, \"type\": \"box\", \"x\": [\"115th Congress (2017-2019)\", \"111th Congress (2009-2010)\", \"110th Congress (2007-2009)\", \"106th Congress (1999-2000)\", \"105th Congress (1997-1998)\", \"104th Congress (1995-1996)\", \"102nd Congress (1991-1992)\", \"101st Congress (1989-1990)\", \"100th Congress (1987-1988)\", \"94th Congress (1975-1976)\", \"93rd Congress (1973-1974)\"], \"xaxis\": \"x2\", \"yaxis\": \"y2\"}],                        {\"barmode\": \"relative\", \"legend\": {\"title\": {\"text\": \"Split_Gov\"}, \"tracegroupgap\": 0}, \"template\": {\"data\": {\"bar\": [{\"error_x\": {\"color\": \"#f2f5fa\"}, \"error_y\": {\"color\": \"#f2f5fa\"}, \"marker\": {\"line\": {\"color\": \"rgb(17,17,17)\", \"width\": 0.5}}, \"type\": \"bar\"}], \"barpolar\": [{\"marker\": {\"line\": {\"color\": \"rgb(17,17,17)\", \"width\": 0.5}}, \"type\": \"barpolar\"}], \"carpet\": [{\"aaxis\": {\"endlinecolor\": \"#A2B1C6\", \"gridcolor\": \"#506784\", \"linecolor\": \"#506784\", \"minorgridcolor\": \"#506784\", \"startlinecolor\": \"#A2B1C6\"}, \"baxis\": {\"endlinecolor\": \"#A2B1C6\", \"gridcolor\": \"#506784\", \"linecolor\": \"#506784\", \"minorgridcolor\": \"#506784\", \"startlinecolor\": \"#A2B1C6\"}, \"type\": \"carpet\"}], \"choropleth\": [{\"colorbar\": {\"outlinewidth\": 0, \"ticks\": \"\"}, \"type\": \"choropleth\"}], \"contour\": [{\"colorbar\": {\"outlinewidth\": 0, \"ticks\": \"\"}, \"colorscale\": [[0.0, \"#0d0887\"], [0.1111111111111111, \"#46039f\"], [0.2222222222222222, \"#7201a8\"], [0.3333333333333333, \"#9c179e\"], [0.4444444444444444, \"#bd3786\"], [0.5555555555555556, \"#d8576b\"], [0.6666666666666666, \"#ed7953\"], [0.7777777777777778, \"#fb9f3a\"], [0.8888888888888888, \"#fdca26\"], [1.0, \"#f0f921\"]], \"type\": \"contour\"}], \"contourcarpet\": [{\"colorbar\": {\"outlinewidth\": 0, \"ticks\": \"\"}, \"type\": \"contourcarpet\"}], \"heatmap\": [{\"colorbar\": {\"outlinewidth\": 0, \"ticks\": \"\"}, \"colorscale\": [[0.0, \"#0d0887\"], [0.1111111111111111, \"#46039f\"], [0.2222222222222222, \"#7201a8\"], [0.3333333333333333, \"#9c179e\"], [0.4444444444444444, \"#bd3786\"], [0.5555555555555556, \"#d8576b\"], [0.6666666666666666, \"#ed7953\"], [0.7777777777777778, \"#fb9f3a\"], [0.8888888888888888, \"#fdca26\"], [1.0, \"#f0f921\"]], \"type\": \"heatmap\"}], \"heatmapgl\": [{\"colorbar\": {\"outlinewidth\": 0, \"ticks\": \"\"}, \"colorscale\": [[0.0, \"#0d0887\"], [0.1111111111111111, \"#46039f\"], [0.2222222222222222, \"#7201a8\"], [0.3333333333333333, \"#9c179e\"], [0.4444444444444444, \"#bd3786\"], [0.5555555555555556, \"#d8576b\"], [0.6666666666666666, \"#ed7953\"], [0.7777777777777778, \"#fb9f3a\"], [0.8888888888888888, \"#fdca26\"], [1.0, \"#f0f921\"]], \"type\": \"heatmapgl\"}], \"histogram\": [{\"marker\": {\"colorbar\": {\"outlinewidth\": 0, \"ticks\": \"\"}}, \"type\": \"histogram\"}], \"histogram2d\": [{\"colorbar\": {\"outlinewidth\": 0, \"ticks\": \"\"}, \"colorscale\": [[0.0, \"#0d0887\"], [0.1111111111111111, \"#46039f\"], [0.2222222222222222, \"#7201a8\"], [0.3333333333333333, \"#9c179e\"], [0.4444444444444444, \"#bd3786\"], [0.5555555555555556, \"#d8576b\"], [0.6666666666666666, \"#ed7953\"], [0.7777777777777778, \"#fb9f3a\"], [0.8888888888888888, \"#fdca26\"], [1.0, \"#f0f921\"]], \"type\": \"histogram2d\"}], \"histogram2dcontour\": [{\"colorbar\": {\"outlinewidth\": 0, \"ticks\": \"\"}, \"colorscale\": [[0.0, \"#0d0887\"], [0.1111111111111111, \"#46039f\"], [0.2222222222222222, \"#7201a8\"], [0.3333333333333333, \"#9c179e\"], [0.4444444444444444, \"#bd3786\"], [0.5555555555555556, \"#d8576b\"], [0.6666666666666666, \"#ed7953\"], [0.7777777777777778, \"#fb9f3a\"], [0.8888888888888888, \"#fdca26\"], [1.0, \"#f0f921\"]], \"type\": \"histogram2dcontour\"}], \"mesh3d\": [{\"colorbar\": {\"outlinewidth\": 0, \"ticks\": \"\"}, \"type\": \"mesh3d\"}], \"parcoords\": [{\"line\": {\"colorbar\": {\"outlinewidth\": 0, \"ticks\": \"\"}}, \"type\": \"parcoords\"}], \"pie\": [{\"automargin\": true, \"type\": \"pie\"}], \"scatter\": [{\"marker\": {\"line\": {\"color\": \"#283442\"}}, \"type\": \"scatter\"}], \"scatter3d\": [{\"line\": {\"colorbar\": {\"outlinewidth\": 0, \"ticks\": \"\"}}, \"marker\": {\"colorbar\": {\"outlinewidth\": 0, \"ticks\": \"\"}}, \"type\": \"scatter3d\"}], \"scattercarpet\": [{\"marker\": {\"colorbar\": {\"outlinewidth\": 0, \"ticks\": \"\"}}, \"type\": \"scattercarpet\"}], \"scattergeo\": [{\"marker\": {\"colorbar\": {\"outlinewidth\": 0, \"ticks\": \"\"}}, \"type\": \"scattergeo\"}], \"scattergl\": [{\"marker\": {\"line\": {\"color\": \"#283442\"}}, \"type\": \"scattergl\"}], \"scattermapbox\": [{\"marker\": {\"colorbar\": {\"outlinewidth\": 0, \"ticks\": \"\"}}, \"type\": \"scattermapbox\"}], \"scatterpolar\": [{\"marker\": {\"colorbar\": {\"outlinewidth\": 0, \"ticks\": \"\"}}, \"type\": \"scatterpolar\"}], \"scatterpolargl\": [{\"marker\": {\"colorbar\": {\"outlinewidth\": 0, \"ticks\": \"\"}}, \"type\": \"scatterpolargl\"}], \"scatterternary\": [{\"marker\": {\"colorbar\": {\"outlinewidth\": 0, \"ticks\": \"\"}}, \"type\": \"scatterternary\"}], \"surface\": [{\"colorbar\": {\"outlinewidth\": 0, \"ticks\": \"\"}, \"colorscale\": [[0.0, \"#0d0887\"], [0.1111111111111111, \"#46039f\"], [0.2222222222222222, \"#7201a8\"], [0.3333333333333333, \"#9c179e\"], [0.4444444444444444, \"#bd3786\"], [0.5555555555555556, \"#d8576b\"], [0.6666666666666666, \"#ed7953\"], [0.7777777777777778, \"#fb9f3a\"], [0.8888888888888888, \"#fdca26\"], [1.0, \"#f0f921\"]], \"type\": \"surface\"}], \"table\": [{\"cells\": {\"fill\": {\"color\": \"#506784\"}, \"line\": {\"color\": \"rgb(17,17,17)\"}}, \"header\": {\"fill\": {\"color\": \"#2a3f5f\"}, \"line\": {\"color\": \"rgb(17,17,17)\"}}, \"type\": \"table\"}]}, \"layout\": {\"annotationdefaults\": {\"arrowcolor\": \"#f2f5fa\", \"arrowhead\": 0, \"arrowwidth\": 1}, \"coloraxis\": {\"colorbar\": {\"outlinewidth\": 0, \"ticks\": \"\"}}, \"colorscale\": {\"diverging\": [[0, \"#8e0152\"], [0.1, \"#c51b7d\"], [0.2, \"#de77ae\"], [0.3, \"#f1b6da\"], [0.4, \"#fde0ef\"], [0.5, \"#f7f7f7\"], [0.6, \"#e6f5d0\"], [0.7, \"#b8e186\"], [0.8, \"#7fbc41\"], [0.9, \"#4d9221\"], [1, \"#276419\"]], \"sequential\": [[0.0, \"#0d0887\"], [0.1111111111111111, \"#46039f\"], [0.2222222222222222, \"#7201a8\"], [0.3333333333333333, \"#9c179e\"], [0.4444444444444444, \"#bd3786\"], [0.5555555555555556, \"#d8576b\"], [0.6666666666666666, \"#ed7953\"], [0.7777777777777778, \"#fb9f3a\"], [0.8888888888888888, \"#fdca26\"], [1.0, \"#f0f921\"]], \"sequentialminus\": [[0.0, \"#0d0887\"], [0.1111111111111111, \"#46039f\"], [0.2222222222222222, \"#7201a8\"], [0.3333333333333333, \"#9c179e\"], [0.4444444444444444, \"#bd3786\"], [0.5555555555555556, \"#d8576b\"], [0.6666666666666666, \"#ed7953\"], [0.7777777777777778, \"#fb9f3a\"], [0.8888888888888888, \"#fdca26\"], [1.0, \"#f0f921\"]]}, \"colorway\": [\"#636efa\", \"#EF553B\", \"#00cc96\", \"#ab63fa\", \"#FFA15A\", \"#19d3f3\", \"#FF6692\", \"#B6E880\", \"#FF97FF\", \"#FECB52\"], \"font\": {\"color\": \"#f2f5fa\"}, \"geo\": {\"bgcolor\": \"rgb(17,17,17)\", \"lakecolor\": \"rgb(17,17,17)\", \"landcolor\": \"rgb(17,17,17)\", \"showlakes\": true, \"showland\": true, \"subunitcolor\": \"#506784\"}, \"hoverlabel\": {\"align\": \"left\"}, \"hovermode\": \"closest\", \"mapbox\": {\"style\": \"dark\"}, \"paper_bgcolor\": \"rgb(17,17,17)\", \"plot_bgcolor\": \"rgb(17,17,17)\", \"polar\": {\"angularaxis\": {\"gridcolor\": \"#506784\", \"linecolor\": \"#506784\", \"ticks\": \"\"}, \"bgcolor\": \"rgb(17,17,17)\", \"radialaxis\": {\"gridcolor\": \"#506784\", \"linecolor\": \"#506784\", \"ticks\": \"\"}}, \"scene\": {\"xaxis\": {\"backgroundcolor\": \"rgb(17,17,17)\", \"gridcolor\": \"#506784\", \"gridwidth\": 2, \"linecolor\": \"#506784\", \"showbackground\": true, \"ticks\": \"\", \"zerolinecolor\": \"#C8D4E3\"}, \"yaxis\": {\"backgroundcolor\": \"rgb(17,17,17)\", \"gridcolor\": \"#506784\", \"gridwidth\": 2, \"linecolor\": \"#506784\", \"showbackground\": true, \"ticks\": \"\", \"zerolinecolor\": \"#C8D4E3\"}, \"zaxis\": {\"backgroundcolor\": \"rgb(17,17,17)\", \"gridcolor\": \"#506784\", \"gridwidth\": 2, \"linecolor\": \"#506784\", \"showbackground\": true, \"ticks\": \"\", \"zerolinecolor\": \"#C8D4E3\"}}, \"shapedefaults\": {\"line\": {\"color\": \"#f2f5fa\"}}, \"sliderdefaults\": {\"bgcolor\": \"#C8D4E3\", \"bordercolor\": \"rgb(17,17,17)\", \"borderwidth\": 1, \"tickwidth\": 0}, \"ternary\": {\"aaxis\": {\"gridcolor\": \"#506784\", \"linecolor\": \"#506784\", \"ticks\": \"\"}, \"baxis\": {\"gridcolor\": \"#506784\", \"linecolor\": \"#506784\", \"ticks\": \"\"}, \"bgcolor\": \"rgb(17,17,17)\", \"caxis\": {\"gridcolor\": \"#506784\", \"linecolor\": \"#506784\", \"ticks\": \"\"}}, \"title\": {\"x\": 0.05}, \"updatemenudefaults\": {\"bgcolor\": \"#506784\", \"borderwidth\": 0}, \"xaxis\": {\"automargin\": true, \"gridcolor\": \"#283442\", \"linecolor\": \"#506784\", \"ticks\": \"\", \"title\": {\"standoff\": 15}, \"zerolinecolor\": \"#283442\", \"zerolinewidth\": 2}, \"yaxis\": {\"automargin\": true, \"gridcolor\": \"#283442\", \"linecolor\": \"#506784\", \"ticks\": \"\", \"title\": {\"standoff\": 15}, \"zerolinecolor\": \"#283442\", \"zerolinewidth\": 2}}}, \"title\": {\"text\": \"Bills Passed in Split vs. Unified Governemnt\"}, \"xaxis\": {\"anchor\": \"y\", \"domain\": [0.0, 1.0], \"title\": {\"text\": \"Congress\"}}, \"xaxis2\": {\"anchor\": \"y2\", \"domain\": [0.0, 1.0], \"matches\": \"x\", \"showgrid\": true, \"showticklabels\": false}, \"yaxis\": {\"anchor\": \"x\", \"domain\": [0.0, 0.7326], \"title\": {\"text\": \"Bills Passed\"}}, \"yaxis2\": {\"anchor\": \"x2\", \"domain\": [0.7426, 1.0], \"matches\": \"y2\", \"showgrid\": false, \"showline\": false, \"showticklabels\": false, \"ticks\": \"\"}},                        {\"responsive\": true}                    ).then(function(){\n",
       "                            \n",
       "var gd = document.getElementById('f3500b76-7e7d-43ba-a19d-b756c2e04977');\n",
       "var x = new MutationObserver(function (mutations, observer) {{\n",
       "        var display = window.getComputedStyle(gd).display;\n",
       "        if (!display || display === 'none') {{\n",
       "            console.log([gd, 'removed!']);\n",
       "            Plotly.purge(gd);\n",
       "            observer.disconnect();\n",
       "        }}\n",
       "}});\n",
       "\n",
       "// Listen for the removal of the full notebook cells\n",
       "var notebookContainer = gd.closest('#notebook-container');\n",
       "if (notebookContainer) {{\n",
       "    x.observe(notebookContainer, {childList: true});\n",
       "}}\n",
       "\n",
       "// Listen for the clearing of the current output cell\n",
       "var outputEl = gd.closest('.output');\n",
       "if (outputEl) {{\n",
       "    x.observe(outputEl, {childList: true});\n",
       "}}\n",
       "\n",
       "                        })                };                });            </script>        </div>"
      ]
     },
     "metadata": {},
     "output_type": "display_data"
    }
   ],
   "source": [
    "fig2 = px.histogram(df, x=congress, y='enacted_signed_by_pres', color=\"Split_Gov\", marginal=\"box\", title = 'Bills Passed in Split vs. Unified Governemnt',\n",
    "                   hover_data=df.columns)\n",
    "fig2.update_layout(xaxis_title = \"Congress\", yaxis_title = \"Bills Passed\")\n",
    "fig2.update_layout(template= 'plotly_dark')\n",
    "fig2.show()"
   ]
  },
  {
   "cell_type": "code",
   "execution_count": 11,
   "metadata": {},
   "outputs": [],
   "source": [
    "passed_house_rate = (df['passed_house']/ df['Intro_bills'])* 100\n",
    "passed_senate_rate = (df['paassed_senate']/ df['Intro_bills'])* 100"
   ]
  },
  {
   "cell_type": "code",
   "execution_count": 12,
   "metadata": {
    "scrolled": true
   },
   "outputs": [],
   "source": [
    "house_senate_rate = (df['paassed_senate']/df['passed_house'])* 100\n",
    "senate_enacted_rate = (df['paassed_senate']/df['enacted_signed_by_pres'])* 100"
   ]
  },
  {
   "cell_type": "code",
   "execution_count": 13,
   "metadata": {
    "scrolled": true
   },
   "outputs": [
    {
     "data": {
      "text/plain": [
       "0     116.666667\n",
       "1      93.750000\n",
       "2      75.000000\n",
       "3      33.333333\n",
       "4      33.333333\n",
       "5      21.428571\n",
       "6      38.202247\n",
       "7      46.000000\n",
       "8      68.750000\n",
       "9      59.793814\n",
       "10     43.624161\n",
       "11     47.200000\n",
       "12     30.851064\n",
       "13     40.659341\n",
       "14     45.161290\n",
       "15     65.000000\n",
       "16      9.523810\n",
       "17     27.777778\n",
       "18     57.142857\n",
       "19    150.000000\n",
       "20     28.571429\n",
       "21     15.384615\n",
       "22     18.181818\n",
       "23     22.222222\n",
       "dtype: float64"
      ]
     },
     "execution_count": 13,
     "metadata": {},
     "output_type": "execute_result"
    }
   ],
   "source": [
    "senate_enacted_rate"
   ]
  },
  {
   "cell_type": "code",
   "execution_count": 14,
   "metadata": {},
   "outputs": [],
   "source": [
    "cs = df.drop(columns = ['congress']).corr()"
   ]
  },
  {
   "cell_type": "code",
   "execution_count": 15,
   "metadata": {},
   "outputs": [
    {
     "data": {
      "text/plain": [
       "<matplotlib.axes._subplots.AxesSubplot at 0x7ff46d81daf0>"
      ]
     },
     "execution_count": 15,
     "metadata": {},
     "output_type": "execute_result"
    },
    {
     "data": {
      "image/png": "[encoded data removed]",
      "text/plain": [
       "<Figure size 864x864 with 2 Axes>"
      ]
     },
     "metadata": {
      "needs_background": "light"
     },
     "output_type": "display_data"
    }
   ],
   "source": [
    "plt.figure(figsize = (12, 12))\n",
    "sns.heatmap(cs, cmap = \"RdBu\", annot = True)"
   ]
  },
  {
   "cell_type": "code",
   "execution_count": 35,
   "metadata": {},
   "outputs": [
    {
     "data": {
      "application/vnd.plotly.v1+json": {
       "config": {
        "plotlyServerURL": "https://plotly.com"
       },
       "data": [
        {
         "marker": {
          "color": "red"
         },
         "name": "Bills Passed by House {%}",
         "showlegend": true,
         "type": "bar",
         "x": [
          "116th Congress (2019-2021)",
          "115th Congress (2017-2019)",
          "114th Congress (2015-2017)",
          "113th Congress (2013-2015)",
          "112th Congress (2011-2013)",
          "111th Congress (2009-2010)",
          "110th Congress (2007-2009)",
          "109th Congress (2005-2006)",
          "108th Congress (2003-2004)",
          "107th Congress (2001-2002)",
          "106th Congress (1999-2000)",
          "105th Congress (1997-1998)",
          "104th Congress (1995-1996)",
          "103rd Congress (1993-1994)",
          "102nd Congress (1991-1992)",
          "101st Congress (1989-1990)",
          "100th Congress (1987-1988)",
          "99th Congress (1985-1986)",
          "98th Congress (1983-1984)",
          "97th Congress (1981-1982)",
          "96th Congress (1979-1980)",
          "95th Congress (1977-1978)",
          "94th Congress (1975-1976)",
          "93rd Congress (1973-1974)"
         ],
         "y": [
          7.8384798099762465,
          12.121212121212121,
          16.56804733727811,
          10.135135135135135,
          6.451612903225806,
          10.204081632653061,
          10.594594594594595,
          5.289421157684631,
          6.25,
          5.595567867036011,
          5.892255892255893,
          6.323529411764706,
          7.988450433108758,
          14.82889733840304,
          15.254237288135593,
          14.772727272727273,
          5.405405405405405,
          3.278688524590164,
          3.977272727272727,
          9.090909090909092,
          6.8493150684931505,
          0.974025974025974,
          0.9302325581395349,
          0.5208333333333333
         ]
        },
        {
         "marker": {
          "color": "blue"
         },
         "name": "Bills Passed by Senate {%}",
         "showlegend": true,
         "type": "bar",
         "x": [
          "116th Congress (2019-2021)",
          "115th Congress (2017-2019)",
          "114th Congress (2015-2017)",
          "113th Congress (2013-2015)",
          "112th Congress (2011-2013)",
          "111th Congress (2009-2010)",
          "110th Congress (2007-2009)",
          "109th Congress (2005-2006)",
          "108th Congress (2003-2004)",
          "107th Congress (2001-2002)",
          "106th Congress (1999-2000)",
          "105th Congress (1997-1998)",
          "104th Congress (1995-1996)",
          "103rd Congress (1993-1994)",
          "102nd Congress (1991-1992)",
          "101st Congress (1989-1990)",
          "100th Congress (1987-1988)",
          "99th Congress (1985-1986)",
          "98th Congress (1983-1984)",
          "97th Congress (1981-1982)",
          "96th Congress (1979-1980)",
          "95th Congress (1977-1978)",
          "94th Congress (1975-1976)",
          "93rd Congress (1973-1974)"
         ],
         "y": [
          3.32541567695962,
          5.05050505050505,
          1.7751479289940828,
          1.3513513513513513,
          0.8064516129032258,
          2.0408163265306123,
          1.8378378378378377,
          2.2954091816367264,
          5.045871559633028,
          3.2132963988919667,
          3.6475869809203143,
          4.338235294117647,
          2.791145332050048,
          7.0342205323193925,
          11.864406779661017,
          14.772727272727273,
          1.8018018018018018,
          4.098360655737705,
          4.545454545454546,
          6.8181818181818175,
          4.10958904109589,
          0.6493506493506493,
          0.9302325581395349,
          0.5208333333333333
         ]
        }
       ],
       "layout": {
        "height": 800,
        "margin": {
         "l": 50,
         "t": 75
        },
        "template": {
         "data": {
          "bar": [
           {
            "error_x": {
             "color": "#f2f5fa"
            },
            "error_y": {
             "color": "#f2f5fa"
            },
            "marker": {
             "line": {
              "color": "rgb(17,17,17)",
              "width": 0.5
             }
            },
            "type": "bar"
           }
          ],
          "barpolar": [
           {
            "marker": {
             "line": {
              "color": "rgb(17,17,17)",
              "width": 0.5
             }
            },
            "type": "barpolar"
           }
          ],
          "carpet": [
           {
            "aaxis": {
             "endlinecolor": "#A2B1C6",
             "gridcolor": "#506784",
             "linecolor": "#506784",
             "minorgridcolor": "#506784",
             "startlinecolor": "#A2B1C6"
            },
            "baxis": {
             "endlinecolor": "#A2B1C6",
             "gridcolor": "#506784",
             "linecolor": "#506784",
             "minorgridcolor": "#506784",
             "startlinecolor": "#A2B1C6"
            },
            "type": "carpet"
           }
          ],
          "choropleth": [
           {
            "colorbar": {
             "outlinewidth": 0,
             "ticks": ""
            },
            "type": "choropleth"
           }
          ],
          "contour": [
           {
            "colorbar": {
             "outlinewidth": 0,
             "ticks": ""
            },
            "colorscale": [
             [
              0,
              "#0d0887"
             ],
             [
              0.1111111111111111,
              "#46039f"
             ],
             [
              0.2222222222222222,
              "#7201a8"
             ],
             [
              0.3333333333333333,
              "#9c179e"
             ],
             [
              0.4444444444444444,
              "#bd3786"
             ],
             [
              0.5555555555555556,
              "#d8576b"
             ],
             [
              0.6666666666666666,
              "#ed7953"
             ],
             [
              0.7777777777777778,
              "#fb9f3a"
             ],
             [
              0.8888888888888888,
              "#fdca26"
             ],
             [
              1,
              "#f0f921"
             ]
            ],
            "type": "contour"
           }
          ],
          "contourcarpet": [
           {
            "colorbar": {
             "outlinewidth": 0,
             "ticks": ""
            },
            "type": "contourcarpet"
           }
          ],
          "heatmap": [
           {
            "colorbar": {
             "outlinewidth": 0,
             "ticks": ""
            },
            "colorscale": [
             [
              0,
              "#0d0887"
             ],
             [
              0.1111111111111111,
              "#46039f"
             ],
             [
              0.2222222222222222,
              "#7201a8"
             ],
             [
              0.3333333333333333,
              "#9c179e"
             ],
             [
              0.4444444444444444,
              "#bd3786"
             ],
             [
              0.5555555555555556,
              "#d8576b"
             ],
             [
              0.6666666666666666,
              "#ed7953"
             ],
             [
              0.7777777777777778,
              "#fb9f3a"
             ],
             [
              0.8888888888888888,
              "#fdca26"
             ],
             [
              1,
              "#f0f921"
             ]
            ],
            "type": "heatmap"
           }
          ],
          "heatmapgl": [
           {
            "colorbar": {
             "outlinewidth": 0,
             "ticks": ""
            },
            "colorscale": [
             [
              0,
              "#0d0887"
             ],
             [
              0.1111111111111111,
              "#46039f"
             ],
             [
              0.2222222222222222,
              "#7201a8"
             ],
             [
              0.3333333333333333,
              "#9c179e"
             ],
             [
              0.4444444444444444,
              "#bd3786"
             ],
             [
              0.5555555555555556,
              "#d8576b"
             ],
             [
              0.6666666666666666,
              "#ed7953"
             ],
             [
              0.7777777777777778,
              "#fb9f3a"
             ],
             [
              0.8888888888888888,
              "#fdca26"
             ],
             [
              1,
              "#f0f921"
             ]
            ],
            "type": "heatmapgl"
           }
          ],
          "histogram": [
           {
            "marker": {
             "colorbar": {
              "outlinewidth": 0,
              "ticks": ""
             }
            },
            "type": "histogram"
           }
          ],
          "histogram2d": [
           {
            "colorbar": {
             "outlinewidth": 0,
             "ticks": ""
            },
            "colorscale": [
             [
              0,
              "#0d0887"
             ],
             [
              0.1111111111111111,
              "#46039f"
             ],
             [
              0.2222222222222222,
              "#7201a8"
             ],
             [
              0.3333333333333333,
              "#9c179e"
             ],
             [
              0.4444444444444444,
              "#bd3786"
             ],
             [
              0.5555555555555556,
              "#d8576b"
             ],
             [
              0.6666666666666666,
              "#ed7953"
             ],
             [
              0.7777777777777778,
              "#fb9f3a"
             ],
             [
              0.8888888888888888,
              "#fdca26"
             ],
             [
              1,
              "#f0f921"
             ]
            ],
            "type": "histogram2d"
           }
          ],
          "histogram2dcontour": [
           {
            "colorbar": {
             "outlinewidth": 0,
             "ticks": ""
            },
            "colorscale": [
             [
              0,
              "#0d0887"
             ],
             [
              0.1111111111111111,
              "#46039f"
             ],
             [
              0.2222222222222222,
              "#7201a8"
             ],
             [
              0.3333333333333333,
              "#9c179e"
             ],
             [
              0.4444444444444444,
              "#bd3786"
             ],
             [
              0.5555555555555556,
              "#d8576b"
             ],
             [
              0.6666666666666666,
              "#ed7953"
             ],
             [
              0.7777777777777778,
              "#fb9f3a"
             ],
             [
              0.8888888888888888,
              "#fdca26"
             ],
             [
              1,
              "#f0f921"
             ]
            ],
            "type": "histogram2dcontour"
           }
          ],
          "mesh3d": [
           {
            "colorbar": {
             "outlinewidth": 0,
             "ticks": ""
            },
            "type": "mesh3d"
           }
          ],
          "parcoords": [
           {
            "line": {
             "colorbar": {
              "outlinewidth": 0,
              "ticks": ""
             }
            },
            "type": "parcoords"
           }
          ],
          "pie": [
           {
            "automargin": true,
            "type": "pie"
           }
          ],
          "scatter": [
           {
            "marker": {
             "line": {
              "color": "#283442"
             }
            },
            "type": "scatter"
           }
          ],
          "scatter3d": [
           {
            "line": {
             "colorbar": {
              "outlinewidth": 0,
              "ticks": ""
             }
            },
            "marker": {
             "colorbar": {
              "outlinewidth": 0,
              "ticks": ""
             }
            },
            "type": "scatter3d"
           }
          ],
          "scattercarpet": [
           {
            "marker": {
             "colorbar": {
              "outlinewidth": 0,
              "ticks": ""
             }
            },
            "type": "scattercarpet"
           }
          ],
          "scattergeo": [
           {
            "marker": {
             "colorbar": {
              "outlinewidth": 0,
              "ticks": ""
             }
            },
            "type": "scattergeo"
           }
          ],
          "scattergl": [
           {
            "marker": {
             "line": {
              "color": "#283442"
             }
            },
            "type": "scattergl"
           }
          ],
          "scattermapbox": [
           {
            "marker": {
             "colorbar": {
              "outlinewidth": 0,
              "ticks": ""
             }
            },
            "type": "scattermapbox"
           }
          ],
          "scatterpolar": [
           {
            "marker": {
             "colorbar": {
              "outlinewidth": 0,
              "ticks": ""
             }
            },
            "type": "scatterpolar"
           }
          ],
          "scatterpolargl": [
           {
            "marker": {
             "colorbar": {
              "outlinewidth": 0,
              "ticks": ""
             }
            },
            "type": "scatterpolargl"
           }
          ],
          "scatterternary": [
           {
            "marker": {
             "colorbar": {
              "outlinewidth": 0,
              "ticks": ""
             }
            },
            "type": "scatterternary"
           }
          ],
          "surface": [
           {
            "colorbar": {
             "outlinewidth": 0,
             "ticks": ""
            },
            "colorscale": [
             [
              0,
              "#0d0887"
             ],
             [
              0.1111111111111111,
              "#46039f"
             ],
             [
              0.2222222222222222,
              "#7201a8"
             ],
             [
              0.3333333333333333,
              "#9c179e"
             ],
             [
              0.4444444444444444,
              "#bd3786"
             ],
             [
              0.5555555555555556,
              "#d8576b"
             ],
             [
              0.6666666666666666,
              "#ed7953"
             ],
             [
              0.7777777777777778,
              "#fb9f3a"
             ],
             [
              0.8888888888888888,
              "#fdca26"
             ],
             [
              1,
              "#f0f921"
             ]
            ],
            "type": "surface"
           }
          ],
          "table": [
           {
            "cells": {
             "fill": {
              "color": "#506784"
             },
             "line": {
              "color": "rgb(17,17,17)"
             }
            },
            "header": {
             "fill": {
              "color": "#2a3f5f"
             },
             "line": {
              "color": "rgb(17,17,17)"
             }
            },
            "type": "table"
           }
          ]
         },
         "layout": {
          "annotationdefaults": {
           "arrowcolor": "#f2f5fa",
           "arrowhead": 0,
           "arrowwidth": 1
          },
          "coloraxis": {
           "colorbar": {
            "outlinewidth": 0,
            "ticks": ""
           }
          },
          "colorscale": {
           "diverging": [
            [
             0,
             "#8e0152"
            ],
            [
             0.1,
             "#c51b7d"
            ],
            [
             0.2,
             "#de77ae"
            ],
            [
             0.3,
             "#f1b6da"
            ],
            [
             0.4,
             "#fde0ef"
            ],
            [
             0.5,
             "#f7f7f7"
            ],
            [
             0.6,
             "#e6f5d0"
            ],
            [
             0.7,
             "#b8e186"
            ],
            [
             0.8,
             "#7fbc41"
            ],
            [
             0.9,
             "#4d9221"
            ],
            [
             1,
             "#276419"
            ]
           ],
           "sequential": [
            [
             0,
             "#0d0887"
            ],
            [
             0.1111111111111111,
             "#46039f"
            ],
            [
             0.2222222222222222,
             "#7201a8"
            ],
            [
             0.3333333333333333,
             "#9c179e"
            ],
            [
             0.4444444444444444,
             "#bd3786"
            ],
            [
             0.5555555555555556,
             "#d8576b"
            ],
            [
             0.6666666666666666,
             "#ed7953"
            ],
            [
             0.7777777777777778,
             "#fb9f3a"
            ],
            [
             0.8888888888888888,
             "#fdca26"
            ],
            [
             1,
             "#f0f921"
            ]
           ],
           "sequentialminus": [
            [
             0,
             "#0d0887"
            ],
            [
             0.1111111111111111,
             "#46039f"
            ],
            [
             0.2222222222222222,
             "#7201a8"
            ],
            [
             0.3333333333333333,
             "#9c179e"
            ],
            [
             0.4444444444444444,
             "#bd3786"
            ],
            [
             0.5555555555555556,
             "#d8576b"
            ],
            [
             0.6666666666666666,
             "#ed7953"
            ],
            [
             0.7777777777777778,
             "#fb9f3a"
            ],
            [
             0.8888888888888888,
             "#fdca26"
            ],
            [
             1,
             "#f0f921"
            ]
           ]
          },
          "colorway": [
           "#636efa",
           "#EF553B",
           "#00cc96",
           "#ab63fa",
           "#FFA15A",
           "#19d3f3",
           "#FF6692",
           "#B6E880",
           "#FF97FF",
           "#FECB52"
          ],
          "font": {
           "color": "#f2f5fa"
          },
          "geo": {
           "bgcolor": "rgb(17,17,17)",
           "lakecolor": "rgb(17,17,17)",
           "landcolor": "rgb(17,17,17)",
           "showlakes": true,
           "showland": true,
           "subunitcolor": "#506784"
          },
          "hoverlabel": {
           "align": "left"
          },
          "hovermode": "closest",
          "mapbox": {
           "style": "dark"
          },
          "paper_bgcolor": "rgb(17,17,17)",
          "plot_bgcolor": "rgb(17,17,17)",
          "polar": {
           "angularaxis": {
            "gridcolor": "#506784",
            "linecolor": "#506784",
            "ticks": ""
           },
           "bgcolor": "rgb(17,17,17)",
           "radialaxis": {
            "gridcolor": "#506784",
            "linecolor": "#506784",
            "ticks": ""
           }
          },
          "scene": {
           "xaxis": {
            "backgroundcolor": "rgb(17,17,17)",
            "gridcolor": "#506784",
            "gridwidth": 2,
            "linecolor": "#506784",
            "showbackground": true,
            "ticks": "",
            "zerolinecolor": "#C8D4E3"
           },
           "yaxis": {
            "backgroundcolor": "rgb(17,17,17)",
            "gridcolor": "#506784",
            "gridwidth": 2,
            "linecolor": "#506784",
            "showbackground": true,
            "ticks": "",
            "zerolinecolor": "#C8D4E3"
           },
           "zaxis": {
            "backgroundcolor": "rgb(17,17,17)",
            "gridcolor": "#506784",
            "gridwidth": 2,
            "linecolor": "#506784",
            "showbackground": true,
            "ticks": "",
            "zerolinecolor": "#C8D4E3"
           }
          },
          "shapedefaults": {
           "line": {
            "color": "#f2f5fa"
           }
          },
          "sliderdefaults": {
           "bgcolor": "#C8D4E3",
           "bordercolor": "rgb(17,17,17)",
           "borderwidth": 1,
           "tickwidth": 0
          },
          "ternary": {
           "aaxis": {
            "gridcolor": "#506784",
            "linecolor": "#506784",
            "ticks": ""
           },
           "baxis": {
            "gridcolor": "#506784",
            "linecolor": "#506784",
            "ticks": ""
           },
           "bgcolor": "rgb(17,17,17)",
           "caxis": {
            "gridcolor": "#506784",
            "linecolor": "#506784",
            "ticks": ""
           }
          },
          "title": {
           "x": 0.05
          },
          "updatemenudefaults": {
           "bgcolor": "#506784",
           "borderwidth": 0
          },
          "xaxis": {
           "automargin": true,
           "gridcolor": "#283442",
           "linecolor": "#506784",
           "ticks": "",
           "title": {
            "standoff": 15
           },
           "zerolinecolor": "#283442",
           "zerolinewidth": 2
          },
          "yaxis": {
           "automargin": true,
           "gridcolor": "#283442",
           "linecolor": "#506784",
           "ticks": "",
           "title": {
            "standoff": 15
           },
           "zerolinecolor": "#283442",
           "zerolinewidth": 2
          }
         }
        },
        "title": {
         "text": "Percentage of Bills Passed (House and Senate)"
        },
        "xaxis": {
         "title": {
          "text": "Congress"
         }
        },
        "yaxis": {
         "title": {
          "text": "Bills Passed"
         }
        }
       }
      },
      "text/html": [
       "<div>                            <div id=\"63893ede-095d-465a-b15e-445628767212\" class=\"plotly-graph-div\" style=\"height:800px; width:100%;\"></div>            <script type=\"text/javascript\">                require([\"plotly\"], function(Plotly) {                    window.PLOTLYENV=window.PLOTLYENV || {};                                    if (document.getElementById(\"63893ede-095d-465a-b15e-445628767212\")) {                    Plotly.newPlot(                        \"63893ede-095d-465a-b15e-445628767212\",                        [{\"marker\": {\"color\": \"red\"}, \"name\": \"Bills Passed by House {%}\", \"showlegend\": true, \"type\": \"bar\", \"x\": [\"116th Congress (2019-2021)\", \"115th Congress (2017-2019)\", \"114th Congress (2015-2017)\", \"113th Congress (2013-2015)\", \"112th Congress (2011-2013)\", \"111th Congress (2009-2010)\", \"110th Congress (2007-2009)\", \"109th Congress (2005-2006)\", \"108th Congress (2003-2004)\", \"107th Congress (2001-2002)\", \"106th Congress (1999-2000)\", \"105th Congress (1997-1998)\", \"104th Congress (1995-1996)\", \"103rd Congress (1993-1994)\", \"102nd Congress (1991-1992)\", \"101st Congress (1989-1990)\", \"100th Congress (1987-1988)\", \"99th Congress (1985-1986)\", \"98th Congress (1983-1984)\", \"97th Congress (1981-1982)\", \"96th Congress (1979-1980)\", \"95th Congress (1977-1978)\", \"94th Congress (1975-1976)\", \"93rd Congress (1973-1974)\"], \"y\": [7.8384798099762465, 12.121212121212121, 16.56804733727811, 10.135135135135135, 6.451612903225806, 10.204081632653061, 10.594594594594595, 5.289421157684631, 6.25, 5.595567867036011, 5.892255892255893, 6.323529411764706, 7.988450433108758, 14.82889733840304, 15.254237288135593, 14.772727272727273, 5.405405405405405, 3.278688524590164, 3.977272727272727, 9.090909090909092, 6.8493150684931505, 0.974025974025974, 0.9302325581395349, 0.5208333333333333]}, {\"marker\": {\"color\": \"blue\"}, \"name\": \"Bills Passed by Senate {%}\", \"showlegend\": true, \"type\": \"bar\", \"x\": [\"116th Congress (2019-2021)\", \"115th Congress (2017-2019)\", \"114th Congress (2015-2017)\", \"113th Congress (2013-2015)\", \"112th Congress (2011-2013)\", \"111th Congress (2009-2010)\", \"110th Congress (2007-2009)\", \"109th Congress (2005-2006)\", \"108th Congress (2003-2004)\", \"107th Congress (2001-2002)\", \"106th Congress (1999-2000)\", \"105th Congress (1997-1998)\", \"104th Congress (1995-1996)\", \"103rd Congress (1993-1994)\", \"102nd Congress (1991-1992)\", \"101st Congress (1989-1990)\", \"100th Congress (1987-1988)\", \"99th Congress (1985-1986)\", \"98th Congress (1983-1984)\", \"97th Congress (1981-1982)\", \"96th Congress (1979-1980)\", \"95th Congress (1977-1978)\", \"94th Congress (1975-1976)\", \"93rd Congress (1973-1974)\"], \"y\": [3.32541567695962, 5.05050505050505, 1.7751479289940828, 1.3513513513513513, 0.8064516129032258, 2.0408163265306123, 1.8378378378378377, 2.2954091816367264, 5.045871559633028, 3.2132963988919667, 3.6475869809203143, 4.338235294117647, 2.791145332050048, 7.0342205323193925, 11.864406779661017, 14.772727272727273, 1.8018018018018018, 4.098360655737705, 4.545454545454546, 6.8181818181818175, 4.10958904109589, 0.6493506493506493, 0.9302325581395349, 0.5208333333333333]}],                        {\"height\": 800, \"margin\": {\"l\": 50, \"t\": 75}, \"template\": {\"data\": {\"bar\": [{\"error_x\": {\"color\": \"#f2f5fa\"}, \"error_y\": {\"color\": \"#f2f5fa\"}, \"marker\": {\"line\": {\"color\": \"rgb(17,17,17)\", \"width\": 0.5}}, \"type\": \"bar\"}], \"barpolar\": [{\"marker\": {\"line\": {\"color\": \"rgb(17,17,17)\", \"width\": 0.5}}, \"type\": \"barpolar\"}], \"carpet\": [{\"aaxis\": {\"endlinecolor\": \"#A2B1C6\", \"gridcolor\": \"#506784\", \"linecolor\": \"#506784\", \"minorgridcolor\": \"#506784\", \"startlinecolor\": \"#A2B1C6\"}, \"baxis\": {\"endlinecolor\": \"#A2B1C6\", \"gridcolor\": \"#506784\", \"linecolor\": \"#506784\", \"minorgridcolor\": \"#506784\", \"startlinecolor\": \"#A2B1C6\"}, \"type\": \"carpet\"}], \"choropleth\": [{\"colorbar\": {\"outlinewidth\": 0, \"ticks\": \"\"}, \"type\": \"choropleth\"}], \"contour\": [{\"colorbar\": {\"outlinewidth\": 0, \"ticks\": \"\"}, \"colorscale\": [[0.0, \"#0d0887\"], [0.1111111111111111, \"#46039f\"], [0.2222222222222222, \"#7201a8\"], [0.3333333333333333, \"#9c179e\"], [0.4444444444444444, \"#bd3786\"], [0.5555555555555556, \"#d8576b\"], [0.6666666666666666, \"#ed7953\"], [0.7777777777777778, \"#fb9f3a\"], [0.8888888888888888, \"#fdca26\"], [1.0, \"#f0f921\"]], \"type\": \"contour\"}], \"contourcarpet\": [{\"colorbar\": {\"outlinewidth\": 0, \"ticks\": \"\"}, \"type\": \"contourcarpet\"}], \"heatmap\": [{\"colorbar\": {\"outlinewidth\": 0, \"ticks\": \"\"}, \"colorscale\": [[0.0, \"#0d0887\"], [0.1111111111111111, \"#46039f\"], [0.2222222222222222, \"#7201a8\"], [0.3333333333333333, \"#9c179e\"], [0.4444444444444444, \"#bd3786\"], [0.5555555555555556, \"#d8576b\"], [0.6666666666666666, \"#ed7953\"], [0.7777777777777778, \"#fb9f3a\"], [0.8888888888888888, \"#fdca26\"], [1.0, \"#f0f921\"]], \"type\": \"heatmap\"}], \"heatmapgl\": [{\"colorbar\": {\"outlinewidth\": 0, \"ticks\": \"\"}, \"colorscale\": [[0.0, \"#0d0887\"], [0.1111111111111111, \"#46039f\"], [0.2222222222222222, \"#7201a8\"], [0.3333333333333333, \"#9c179e\"], [0.4444444444444444, \"#bd3786\"], [0.5555555555555556, \"#d8576b\"], [0.6666666666666666, \"#ed7953\"], [0.7777777777777778, \"#fb9f3a\"], [0.8888888888888888, \"#fdca26\"], [1.0, \"#f0f921\"]], \"type\": \"heatmapgl\"}], \"histogram\": [{\"marker\": {\"colorbar\": {\"outlinewidth\": 0, \"ticks\": \"\"}}, \"type\": \"histogram\"}], \"histogram2d\": [{\"colorbar\": {\"outlinewidth\": 0, \"ticks\": \"\"}, \"colorscale\": [[0.0, \"#0d0887\"], [0.1111111111111111, \"#46039f\"], [0.2222222222222222, \"#7201a8\"], [0.3333333333333333, \"#9c179e\"], [0.4444444444444444, \"#bd3786\"], [0.5555555555555556, \"#d8576b\"], [0.6666666666666666, \"#ed7953\"], [0.7777777777777778, \"#fb9f3a\"], [0.8888888888888888, \"#fdca26\"], [1.0, \"#f0f921\"]], \"type\": \"histogram2d\"}], \"histogram2dcontour\": [{\"colorbar\": {\"outlinewidth\": 0, \"ticks\": \"\"}, \"colorscale\": [[0.0, \"#0d0887\"], [0.1111111111111111, \"#46039f\"], [0.2222222222222222, \"#7201a8\"], [0.3333333333333333, \"#9c179e\"], [0.4444444444444444, \"#bd3786\"], [0.5555555555555556, \"#d8576b\"], [0.6666666666666666, \"#ed7953\"], [0.7777777777777778, \"#fb9f3a\"], [0.8888888888888888, \"#fdca26\"], [1.0, \"#f0f921\"]], \"type\": \"histogram2dcontour\"}], \"mesh3d\": [{\"colorbar\": {\"outlinewidth\": 0, \"ticks\": \"\"}, \"type\": \"mesh3d\"}], \"parcoords\": [{\"line\": {\"colorbar\": {\"outlinewidth\": 0, \"ticks\": \"\"}}, \"type\": \"parcoords\"}], \"pie\": [{\"automargin\": true, \"type\": \"pie\"}], \"scatter\": [{\"marker\": {\"line\": {\"color\": \"#283442\"}}, \"type\": \"scatter\"}], \"scatter3d\": [{\"line\": {\"colorbar\": {\"outlinewidth\": 0, \"ticks\": \"\"}}, \"marker\": {\"colorbar\": {\"outlinewidth\": 0, \"ticks\": \"\"}}, \"type\": \"scatter3d\"}], \"scattercarpet\": [{\"marker\": {\"colorbar\": {\"outlinewidth\": 0, \"ticks\": \"\"}}, \"type\": \"scattercarpet\"}], \"scattergeo\": [{\"marker\": {\"colorbar\": {\"outlinewidth\": 0, \"ticks\": \"\"}}, \"type\": \"scattergeo\"}], \"scattergl\": [{\"marker\": {\"line\": {\"color\": \"#283442\"}}, \"type\": \"scattergl\"}], \"scattermapbox\": [{\"marker\": {\"colorbar\": {\"outlinewidth\": 0, \"ticks\": \"\"}}, \"type\": \"scattermapbox\"}], \"scatterpolar\": [{\"marker\": {\"colorbar\": {\"outlinewidth\": 0, \"ticks\": \"\"}}, \"type\": \"scatterpolar\"}], \"scatterpolargl\": [{\"marker\": {\"colorbar\": {\"outlinewidth\": 0, \"ticks\": \"\"}}, \"type\": \"scatterpolargl\"}], \"scatterternary\": [{\"marker\": {\"colorbar\": {\"outlinewidth\": 0, \"ticks\": \"\"}}, \"type\": \"scatterternary\"}], \"surface\": [{\"colorbar\": {\"outlinewidth\": 0, \"ticks\": \"\"}, \"colorscale\": [[0.0, \"#0d0887\"], [0.1111111111111111, \"#46039f\"], [0.2222222222222222, \"#7201a8\"], [0.3333333333333333, \"#9c179e\"], [0.4444444444444444, \"#bd3786\"], [0.5555555555555556, \"#d8576b\"], [0.6666666666666666, \"#ed7953\"], [0.7777777777777778, \"#fb9f3a\"], [0.8888888888888888, \"#fdca26\"], [1.0, \"#f0f921\"]], \"type\": \"surface\"}], \"table\": [{\"cells\": {\"fill\": {\"color\": \"#506784\"}, \"line\": {\"color\": \"rgb(17,17,17)\"}}, \"header\": {\"fill\": {\"color\": \"#2a3f5f\"}, \"line\": {\"color\": \"rgb(17,17,17)\"}}, \"type\": \"table\"}]}, \"layout\": {\"annotationdefaults\": {\"arrowcolor\": \"#f2f5fa\", \"arrowhead\": 0, \"arrowwidth\": 1}, \"coloraxis\": {\"colorbar\": {\"outlinewidth\": 0, \"ticks\": \"\"}}, \"colorscale\": {\"diverging\": [[0, \"#8e0152\"], [0.1, \"#c51b7d\"], [0.2, \"#de77ae\"], [0.3, \"#f1b6da\"], [0.4, \"#fde0ef\"], [0.5, \"#f7f7f7\"], [0.6, \"#e6f5d0\"], [0.7, \"#b8e186\"], [0.8, \"#7fbc41\"], [0.9, \"#4d9221\"], [1, \"#276419\"]], \"sequential\": [[0.0, \"#0d0887\"], [0.1111111111111111, \"#46039f\"], [0.2222222222222222, \"#7201a8\"], [0.3333333333333333, \"#9c179e\"], [0.4444444444444444, \"#bd3786\"], [0.5555555555555556, \"#d8576b\"], [0.6666666666666666, \"#ed7953\"], [0.7777777777777778, \"#fb9f3a\"], [0.8888888888888888, \"#fdca26\"], [1.0, \"#f0f921\"]], \"sequentialminus\": [[0.0, \"#0d0887\"], [0.1111111111111111, \"#46039f\"], [0.2222222222222222, \"#7201a8\"], [0.3333333333333333, \"#9c179e\"], [0.4444444444444444, \"#bd3786\"], [0.5555555555555556, \"#d8576b\"], [0.6666666666666666, \"#ed7953\"], [0.7777777777777778, \"#fb9f3a\"], [0.8888888888888888, \"#fdca26\"], [1.0, \"#f0f921\"]]}, \"colorway\": [\"#636efa\", \"#EF553B\", \"#00cc96\", \"#ab63fa\", \"#FFA15A\", \"#19d3f3\", \"#FF6692\", \"#B6E880\", \"#FF97FF\", \"#FECB52\"], \"font\": {\"color\": \"#f2f5fa\"}, \"geo\": {\"bgcolor\": \"rgb(17,17,17)\", \"lakecolor\": \"rgb(17,17,17)\", \"landcolor\": \"rgb(17,17,17)\", \"showlakes\": true, \"showland\": true, \"subunitcolor\": \"#506784\"}, \"hoverlabel\": {\"align\": \"left\"}, \"hovermode\": \"closest\", \"mapbox\": {\"style\": \"dark\"}, \"paper_bgcolor\": \"rgb(17,17,17)\", \"plot_bgcolor\": \"rgb(17,17,17)\", \"polar\": {\"angularaxis\": {\"gridcolor\": \"#506784\", \"linecolor\": \"#506784\", \"ticks\": \"\"}, \"bgcolor\": \"rgb(17,17,17)\", \"radialaxis\": {\"gridcolor\": \"#506784\", \"linecolor\": \"#506784\", \"ticks\": \"\"}}, \"scene\": {\"xaxis\": {\"backgroundcolor\": \"rgb(17,17,17)\", \"gridcolor\": \"#506784\", \"gridwidth\": 2, \"linecolor\": \"#506784\", \"showbackground\": true, \"ticks\": \"\", \"zerolinecolor\": \"#C8D4E3\"}, \"yaxis\": {\"backgroundcolor\": \"rgb(17,17,17)\", \"gridcolor\": \"#506784\", \"gridwidth\": 2, \"linecolor\": \"#506784\", \"showbackground\": true, \"ticks\": \"\", \"zerolinecolor\": \"#C8D4E3\"}, \"zaxis\": {\"backgroundcolor\": \"rgb(17,17,17)\", \"gridcolor\": \"#506784\", \"gridwidth\": 2, \"linecolor\": \"#506784\", \"showbackground\": true, \"ticks\": \"\", \"zerolinecolor\": \"#C8D4E3\"}}, \"shapedefaults\": {\"line\": {\"color\": \"#f2f5fa\"}}, \"sliderdefaults\": {\"bgcolor\": \"#C8D4E3\", \"bordercolor\": \"rgb(17,17,17)\", \"borderwidth\": 1, \"tickwidth\": 0}, \"ternary\": {\"aaxis\": {\"gridcolor\": \"#506784\", \"linecolor\": \"#506784\", \"ticks\": \"\"}, \"baxis\": {\"gridcolor\": \"#506784\", \"linecolor\": \"#506784\", \"ticks\": \"\"}, \"bgcolor\": \"rgb(17,17,17)\", \"caxis\": {\"gridcolor\": \"#506784\", \"linecolor\": \"#506784\", \"ticks\": \"\"}}, \"title\": {\"x\": 0.05}, \"updatemenudefaults\": {\"bgcolor\": \"#506784\", \"borderwidth\": 0}, \"xaxis\": {\"automargin\": true, \"gridcolor\": \"#283442\", \"linecolor\": \"#506784\", \"ticks\": \"\", \"title\": {\"standoff\": 15}, \"zerolinecolor\": \"#283442\", \"zerolinewidth\": 2}, \"yaxis\": {\"automargin\": true, \"gridcolor\": \"#283442\", \"linecolor\": \"#506784\", \"ticks\": \"\", \"title\": {\"standoff\": 15}, \"zerolinecolor\": \"#283442\", \"zerolinewidth\": 2}}}, \"title\": {\"text\": \"Percentage of Bills Passed (House and Senate)\"}, \"xaxis\": {\"title\": {\"text\": \"Congress\"}}, \"yaxis\": {\"title\": {\"text\": \"Bills Passed\"}}},                        {\"responsive\": true}                    ).then(function(){\n",
       "                            \n",
       "var gd = document.getElementById('63893ede-095d-465a-b15e-445628767212');\n",
       "var x = new MutationObserver(function (mutations, observer) {{\n",
       "        var display = window.getComputedStyle(gd).display;\n",
       "        if (!display || display === 'none') {{\n",
       "            console.log([gd, 'removed!']);\n",
       "            Plotly.purge(gd);\n",
       "            observer.disconnect();\n",
       "        }}\n",
       "}});\n",
       "\n",
       "// Listen for the removal of the full notebook cells\n",
       "var notebookContainer = gd.closest('#notebook-container');\n",
       "if (notebookContainer) {{\n",
       "    x.observe(notebookContainer, {childList: true});\n",
       "}}\n",
       "\n",
       "// Listen for the clearing of the current output cell\n",
       "var outputEl = gd.closest('.output');\n",
       "if (outputEl) {{\n",
       "    x.observe(outputEl, {childList: true});\n",
       "}}\n",
       "\n",
       "                        })                };                });            </script>        </div>"
      ]
     },
     "metadata": {},
     "output_type": "display_data"
    }
   ],
   "source": [
    "# Make traces for graph\n",
    "fig3 = go.Figure()\n",
    "\n",
    "fig3.add_trace(go.Bar(x = congress, y = passed_house_rate,\n",
    "                name='Bills Passed by House {%}',\n",
    "                marker=dict(color=\"red\"),\n",
    "                showlegend = True))\n",
    "fig3.add_trace(go.Bar(x=congress, y=passed_senate_rate,\n",
    "                name='Bills Passed by Senate {%}',\n",
    "                marker=dict(color=\"blue\"),\n",
    "                showlegend = True))\n",
    "\n",
    "fig3.update_layout(\n",
    "    xaxis_title = 'Congress',\n",
    "    yaxis_title = 'Bills Passed')\n",
    "\n",
    "fig3.update_layout(template= 'plotly_dark')\n",
    "\n",
    "# Update the margins to add a title and see graph x-labels.\n",
    "fig3.layout.margin.update({'t':75, 'l':50})\n",
    "fig3.layout.update({'title': 'Percentage of Bills Passed (House and Senate)'})\n",
    "\n",
    "# Update the height because adding a graph vertically will interact with\n",
    "# the plot height calculated for the table\n",
    "fig3.layout.update({'height':800})\n",
    "\n",
    "# Plot!\n",
    "fig3.show()"
   ]
  },
  {
   "cell_type": "code",
   "execution_count": 48,
   "metadata": {},
   "outputs": [
    {
     "data": {
      "application/vnd.plotly.v1+json": {
       "config": {
        "plotlyServerURL": "https://plotly.com"
       },
       "data": [
        {
         "customdata": [
          [
           33,
           14
          ]
         ],
         "hovertemplate": "color=116th Congress (2019-2021)<br>x=%{x}<br>y=%{y}<br>passed_house=%{customdata[0]}<br>paassed_senate=%{customdata[1]}<extra></extra>",
         "legendgroup": "116th Congress (2019-2021)",
         "marker": {
          "color": "blue",
          "size": 12,
          "symbol": "circle"
         },
         "mode": "markers",
         "name": "116th Congress (2019-2021)",
         "orientation": "v",
         "showlegend": true,
         "type": "scatter",
         "x": [
          "116th Congress (2019-2021)"
         ],
         "xaxis": "x",
         "y": [
          42.42424242424242
         ],
         "yaxis": "y"
        },
        {
         "customdata": [
          [
           36,
           15
          ]
         ],
         "hovertemplate": "color=115th Congress (2017-2019)<br>x=%{x}<br>y=%{y}<br>passed_house=%{customdata[0]}<br>paassed_senate=%{customdata[1]}<extra></extra>",
         "legendgroup": "115th Congress (2017-2019)",
         "marker": {
          "color": "blue",
          "size": 12,
          "symbol": "circle"
         },
         "mode": "markers",
         "name": "115th Congress (2017-2019)",
         "orientation": "v",
         "showlegend": true,
         "type": "scatter",
         "x": [
          "115th Congress (2017-2019)"
         ],
         "xaxis": "x",
         "y": [
          41.66666666666667
         ],
         "yaxis": "y"
        },
        {
         "customdata": [
          [
           28,
           3
          ]
         ],
         "hovertemplate": "color=114th Congress (2015-2017)<br>x=%{x}<br>y=%{y}<br>passed_house=%{customdata[0]}<br>paassed_senate=%{customdata[1]}<extra></extra>",
         "legendgroup": "114th Congress (2015-2017)",
         "marker": {
          "color": "blue",
          "size": 12,
          "symbol": "circle"
         },
         "mode": "markers",
         "name": "114th Congress (2015-2017)",
         "orientation": "v",
         "showlegend": true,
         "type": "scatter",
         "x": [
          "114th Congress (2015-2017)"
         ],
         "xaxis": "x",
         "y": [
          10.714285714285714
         ],
         "yaxis": "y"
        },
        {
         "customdata": [
          [
           15,
           2
          ]
         ],
         "hovertemplate": "color=113th Congress (2013-2015)<br>x=%{x}<br>y=%{y}<br>passed_house=%{customdata[0]}<br>paassed_senate=%{customdata[1]}<extra></extra>",
         "legendgroup": "113th Congress (2013-2015)",
         "marker": {
          "color": "blue",
          "size": 12,
          "symbol": "circle"
         },
         "mode": "markers",
         "name": "113th Congress (2013-2015)",
         "orientation": "v",
         "showlegend": true,
         "type": "scatter",
         "x": [
          "113th Congress (2013-2015)"
         ],
         "xaxis": "x",
         "y": [
          13.333333333333334
         ],
         "yaxis": "y"
        },
        {
         "customdata": [
          [
           8,
           1
          ]
         ],
         "hovertemplate": "color=112th Congress (2011-2013)<br>x=%{x}<br>y=%{y}<br>passed_house=%{customdata[0]}<br>paassed_senate=%{customdata[1]}<extra></extra>",
         "legendgroup": "112th Congress (2011-2013)",
         "marker": {
          "color": "blue",
          "size": 12,
          "symbol": "circle"
         },
         "mode": "markers",
         "name": "112th Congress (2011-2013)",
         "orientation": "v",
         "showlegend": true,
         "type": "scatter",
         "x": [
          "112th Congress (2011-2013)"
         ],
         "xaxis": "x",
         "y": [
          12.5
         ],
         "yaxis": "y"
        },
        {
         "customdata": [
          [
           15,
           3
          ]
         ],
         "hovertemplate": "color=111th Congress (2009-2010)<br>x=%{x}<br>y=%{y}<br>passed_house=%{customdata[0]}<br>paassed_senate=%{customdata[1]}<extra></extra>",
         "legendgroup": "111th Congress (2009-2010)",
         "marker": {
          "color": "blue",
          "size": 12,
          "symbol": "circle"
         },
         "mode": "markers",
         "name": "111th Congress (2009-2010)",
         "orientation": "v",
         "showlegend": true,
         "type": "scatter",
         "x": [
          "111th Congress (2009-2010)"
         ],
         "xaxis": "x",
         "y": [
          20
         ],
         "yaxis": "y"
        },
        {
         "customdata": [
          [
           196,
           34
          ]
         ],
         "hovertemplate": "color=110th Congress (2007-2009)<br>x=%{x}<br>y=%{y}<br>passed_house=%{customdata[0]}<br>paassed_senate=%{customdata[1]}<extra></extra>",
         "legendgroup": "110th Congress (2007-2009)",
         "marker": {
          "color": "blue",
          "size": 12,
          "symbol": "circle"
         },
         "mode": "markers",
         "name": "110th Congress (2007-2009)",
         "orientation": "v",
         "showlegend": true,
         "type": "scatter",
         "x": [
          "110th Congress (2007-2009)"
         ],
         "xaxis": "x",
         "y": [
          17.346938775510203
         ],
         "yaxis": "y"
        },
        {
         "customdata": [
          [
           106,
           46
          ]
         ],
         "hovertemplate": "color=109th Congress (2005-2006)<br>x=%{x}<br>y=%{y}<br>passed_house=%{customdata[0]}<br>paassed_senate=%{customdata[1]}<extra></extra>",
         "legendgroup": "109th Congress (2005-2006)",
         "marker": {
          "color": "blue",
          "size": 12,
          "symbol": "circle"
         },
         "mode": "markers",
         "name": "109th Congress (2005-2006)",
         "orientation": "v",
         "showlegend": true,
         "type": "scatter",
         "x": [
          "109th Congress (2005-2006)"
         ],
         "xaxis": "x",
         "y": [
          43.39622641509434
         ],
         "yaxis": "y"
        },
        {
         "customdata": [
          [
           109,
           88
          ]
         ],
         "hovertemplate": "color=108th Congress (2003-2004)<br>x=%{x}<br>y=%{y}<br>passed_house=%{customdata[0]}<br>paassed_senate=%{customdata[1]}<extra></extra>",
         "legendgroup": "108th Congress (2003-2004)",
         "marker": {
          "color": "blue",
          "size": 12,
          "symbol": "circle"
         },
         "mode": "markers",
         "name": "108th Congress (2003-2004)",
         "orientation": "v",
         "showlegend": true,
         "type": "scatter",
         "x": [
          "108th Congress (2003-2004)"
         ],
         "xaxis": "x",
         "y": [
          80.73394495412845
         ],
         "yaxis": "y"
        },
        {
         "customdata": [
          [
           101,
           58
          ]
         ],
         "hovertemplate": "color=107th Congress (2001-2002)<br>x=%{x}<br>y=%{y}<br>passed_house=%{customdata[0]}<br>paassed_senate=%{customdata[1]}<extra></extra>",
         "legendgroup": "107th Congress (2001-2002)",
         "marker": {
          "color": "blue",
          "size": 12,
          "symbol": "circle"
         },
         "mode": "markers",
         "name": "107th Congress (2001-2002)",
         "orientation": "v",
         "showlegend": true,
         "type": "scatter",
         "x": [
          "107th Congress (2001-2002)"
         ],
         "xaxis": "x",
         "y": [
          57.42574257425742
         ],
         "yaxis": "y"
        },
        {
         "customdata": [
          [
           105,
           65
          ]
         ],
         "hovertemplate": "color=106th Congress (1999-2000)<br>x=%{x}<br>y=%{y}<br>passed_house=%{customdata[0]}<br>paassed_senate=%{customdata[1]}<extra></extra>",
         "legendgroup": "106th Congress (1999-2000)",
         "marker": {
          "color": "blue",
          "size": 12,
          "symbol": "circle"
         },
         "mode": "markers",
         "name": "106th Congress (1999-2000)",
         "orientation": "v",
         "showlegend": true,
         "type": "scatter",
         "x": [
          "106th Congress (1999-2000)"
         ],
         "xaxis": "x",
         "y": [
          61.904761904761905
         ],
         "yaxis": "y"
        },
        {
         "customdata": [
          [
           86,
           59
          ]
         ],
         "hovertemplate": "color=105th Congress (1997-1998)<br>x=%{x}<br>y=%{y}<br>passed_house=%{customdata[0]}<br>paassed_senate=%{customdata[1]}<extra></extra>",
         "legendgroup": "105th Congress (1997-1998)",
         "marker": {
          "color": "blue",
          "size": 12,
          "symbol": "circle"
         },
         "mode": "markers",
         "name": "105th Congress (1997-1998)",
         "orientation": "v",
         "showlegend": true,
         "type": "scatter",
         "x": [
          "105th Congress (1997-1998)"
         ],
         "xaxis": "x",
         "y": [
          68.6046511627907
         ],
         "yaxis": "y"
        },
        {
         "customdata": [
          [
           83,
           29
          ]
         ],
         "hovertemplate": "color=104th Congress (1995-1996)<br>x=%{x}<br>y=%{y}<br>passed_house=%{customdata[0]}<br>paassed_senate=%{customdata[1]}<extra></extra>",
         "legendgroup": "104th Congress (1995-1996)",
         "marker": {
          "color": "blue",
          "size": 12,
          "symbol": "circle"
         },
         "mode": "markers",
         "name": "104th Congress (1995-1996)",
         "orientation": "v",
         "showlegend": true,
         "type": "scatter",
         "x": [
          "104th Congress (1995-1996)"
         ],
         "xaxis": "x",
         "y": [
          34.93975903614458
         ],
         "yaxis": "y"
        },
        {
         "customdata": [
          [
           78,
           37
          ]
         ],
         "hovertemplate": "color=103rd Congress (1993-1994)<br>x=%{x}<br>y=%{y}<br>passed_house=%{customdata[0]}<br>paassed_senate=%{customdata[1]}<extra></extra>",
         "legendgroup": "103rd Congress (1993-1994)",
         "marker": {
          "color": "blue",
          "size": 12,
          "symbol": "circle"
         },
         "mode": "markers",
         "name": "103rd Congress (1993-1994)",
         "orientation": "v",
         "showlegend": true,
         "type": "scatter",
         "x": [
          "103rd Congress (1993-1994)"
         ],
         "xaxis": "x",
         "y": [
          47.43589743589743
         ],
         "yaxis": "y"
        },
        {
         "customdata": [
          [
           18,
           14
          ]
         ],
         "hovertemplate": "color=102nd Congress (1991-1992)<br>x=%{x}<br>y=%{y}<br>passed_house=%{customdata[0]}<br>paassed_senate=%{customdata[1]}<extra></extra>",
         "legendgroup": "102nd Congress (1991-1992)",
         "marker": {
          "color": "blue",
          "size": 12,
          "symbol": "circle"
         },
         "mode": "markers",
         "name": "102nd Congress (1991-1992)",
         "orientation": "v",
         "showlegend": true,
         "type": "scatter",
         "x": [
          "102nd Congress (1991-1992)"
         ],
         "xaxis": "x",
         "y": [
          77.77777777777779
         ],
         "yaxis": "y"
        },
        {
         "customdata": [
          [
           13,
           13
          ]
         ],
         "hovertemplate": "color=101st Congress (1989-1990)<br>x=%{x}<br>y=%{y}<br>passed_house=%{customdata[0]}<br>paassed_senate=%{customdata[1]}<extra></extra>",
         "legendgroup": "101st Congress (1989-1990)",
         "marker": {
          "color": "blue",
          "size": 12,
          "symbol": "circle"
         },
         "mode": "markers",
         "name": "101st Congress (1989-1990)",
         "orientation": "v",
         "showlegend": true,
         "type": "scatter",
         "x": [
          "101st Congress (1989-1990)"
         ],
         "xaxis": "x",
         "y": [
          100
         ],
         "yaxis": "y"
        },
        {
         "customdata": [
          [
           6,
           2
          ]
         ],
         "hovertemplate": "color=100th Congress (1987-1988)<br>x=%{x}<br>y=%{y}<br>passed_house=%{customdata[0]}<br>paassed_senate=%{customdata[1]}<extra></extra>",
         "legendgroup": "100th Congress (1987-1988)",
         "marker": {
          "color": "blue",
          "size": 12,
          "symbol": "circle"
         },
         "mode": "markers",
         "name": "100th Congress (1987-1988)",
         "orientation": "v",
         "showlegend": true,
         "type": "scatter",
         "x": [
          "100th Congress (1987-1988)"
         ],
         "xaxis": "x",
         "y": [
          33.33333333333333
         ],
         "yaxis": "y"
        },
        {
         "customdata": [
          [
           4,
           5
          ]
         ],
         "hovertemplate": "color=99th Congress (1985-1986)<br>x=%{x}<br>y=%{y}<br>passed_house=%{customdata[0]}<br>paassed_senate=%{customdata[1]}<extra></extra>",
         "legendgroup": "99th Congress (1985-1986)",
         "marker": {
          "color": "blue",
          "size": 12,
          "symbol": "circle"
         },
         "mode": "markers",
         "name": "99th Congress (1985-1986)",
         "orientation": "v",
         "showlegend": true,
         "type": "scatter",
         "x": [
          "99th Congress (1985-1986)"
         ],
         "xaxis": "x",
         "y": [
          125
         ],
         "yaxis": "y"
        },
        {
         "customdata": [
          [
           7,
           8
          ]
         ],
         "hovertemplate": "color=98th Congress (1983-1984)<br>x=%{x}<br>y=%{y}<br>passed_house=%{customdata[0]}<br>paassed_senate=%{customdata[1]}<extra></extra>",
         "legendgroup": "98th Congress (1983-1984)",
         "marker": {
          "color": "blue",
          "size": 12,
          "symbol": "circle"
         },
         "mode": "markers",
         "name": "98th Congress (1983-1984)",
         "orientation": "v",
         "showlegend": true,
         "type": "scatter",
         "x": [
          "98th Congress (1983-1984)"
         ],
         "xaxis": "x",
         "y": [
          114.28571428571428
         ],
         "yaxis": "y"
        },
        {
         "customdata": [
          [
           12,
           9
          ]
         ],
         "hovertemplate": "color=97th Congress (1981-1982)<br>x=%{x}<br>y=%{y}<br>passed_house=%{customdata[0]}<br>paassed_senate=%{customdata[1]}<extra></extra>",
         "legendgroup": "97th Congress (1981-1982)",
         "marker": {
          "color": "blue",
          "size": 12,
          "symbol": "circle"
         },
         "mode": "markers",
         "name": "97th Congress (1981-1982)",
         "orientation": "v",
         "showlegend": true,
         "type": "scatter",
         "x": [
          "97th Congress (1981-1982)"
         ],
         "xaxis": "x",
         "y": [
          75
         ],
         "yaxis": "y"
        },
        {
         "customdata": [
          [
           10,
           6
          ]
         ],
         "hovertemplate": "color=96th Congress (1979-1980)<br>x=%{x}<br>y=%{y}<br>passed_house=%{customdata[0]}<br>paassed_senate=%{customdata[1]}<extra></extra>",
         "legendgroup": "96th Congress (1979-1980)",
         "marker": {
          "color": "blue",
          "size": 12,
          "symbol": "circle"
         },
         "mode": "markers",
         "name": "96th Congress (1979-1980)",
         "orientation": "v",
         "showlegend": true,
         "type": "scatter",
         "x": [
          "96th Congress (1979-1980)"
         ],
         "xaxis": "x",
         "y": [
          60
         ],
         "yaxis": "y"
        },
        {
         "customdata": [
          [
           3,
           2
          ]
         ],
         "hovertemplate": "color=95th Congress (1977-1978)<br>x=%{x}<br>y=%{y}<br>passed_house=%{customdata[0]}<br>paassed_senate=%{customdata[1]}<extra></extra>",
         "legendgroup": "95th Congress (1977-1978)",
         "marker": {
          "color": "blue",
          "size": 12,
          "symbol": "circle"
         },
         "mode": "markers",
         "name": "95th Congress (1977-1978)",
         "orientation": "v",
         "showlegend": true,
         "type": "scatter",
         "x": [
          "95th Congress (1977-1978)"
         ],
         "xaxis": "x",
         "y": [
          66.66666666666666
         ],
         "yaxis": "y"
        },
        {
         "customdata": [
          [
           2,
           2
          ]
         ],
         "hovertemplate": "color=94th Congress (1975-1976)<br>x=%{x}<br>y=%{y}<br>passed_house=%{customdata[0]}<br>paassed_senate=%{customdata[1]}<extra></extra>",
         "legendgroup": "94th Congress (1975-1976)",
         "marker": {
          "color": "blue",
          "size": 12,
          "symbol": "circle"
         },
         "mode": "markers",
         "name": "94th Congress (1975-1976)",
         "orientation": "v",
         "showlegend": true,
         "type": "scatter",
         "x": [
          "94th Congress (1975-1976)"
         ],
         "xaxis": "x",
         "y": [
          100
         ],
         "yaxis": "y"
        },
        {
         "customdata": [
          [
           2,
           2
          ]
         ],
         "hovertemplate": "color=93rd Congress (1973-1974)<br>x=%{x}<br>y=%{y}<br>passed_house=%{customdata[0]}<br>paassed_senate=%{customdata[1]}<extra></extra>",
         "legendgroup": "93rd Congress (1973-1974)",
         "marker": {
          "color": "blue",
          "size": 12,
          "symbol": "circle"
         },
         "mode": "markers",
         "name": "93rd Congress (1973-1974)",
         "orientation": "v",
         "showlegend": true,
         "type": "scatter",
         "x": [
          "93rd Congress (1973-1974)"
         ],
         "xaxis": "x",
         "y": [
          100
         ],
         "yaxis": "y"
        },
        {
         "marker": {
          "color": "red"
         },
         "name": "Bills Passed",
         "type": "bar",
         "x": [
          "116th Congress (2019-2021)",
          "115th Congress (2017-2019)",
          "114th Congress (2015-2017)",
          "113th Congress (2013-2015)",
          "112th Congress (2011-2013)",
          "111th Congress (2009-2010)",
          "110th Congress (2007-2009)",
          "109th Congress (2005-2006)",
          "108th Congress (2003-2004)",
          "107th Congress (2001-2002)",
          "106th Congress (1999-2000)",
          "105th Congress (1997-1998)",
          "104th Congress (1995-1996)",
          "103rd Congress (1993-1994)",
          "102nd Congress (1991-1992)",
          "101st Congress (1989-1990)",
          "100th Congress (1987-1988)",
          "99th Congress (1985-1986)",
          "98th Congress (1983-1984)",
          "97th Congress (1981-1982)",
          "96th Congress (1979-1980)",
          "95th Congress (1977-1978)",
          "94th Congress (1975-1976)",
          "93rd Congress (1973-1974)"
         ],
         "y": [
          116.66666666666667,
          93.75,
          75,
          33.33333333333333,
          33.33333333333333,
          21.428571428571427,
          38.20224719101123,
          46,
          68.75,
          59.79381443298969,
          43.624161073825505,
          47.199999999999996,
          30.851063829787233,
          40.65934065934066,
          45.16129032258064,
          65,
          9.523809523809524,
          27.77777777777778,
          57.14285714285714,
          150,
          28.57142857142857,
          15.384615384615385,
          18.181818181818183,
          22.22222222222222
         ]
        }
       ],
       "layout": {
        "height": 550,
        "hovermode": "closest",
        "legend": {
         "title": {
          "text": "Congress"
         },
         "tracegroupgap": 0
        },
        "margin": {
         "t": 60
        },
        "template": {
         "data": {
          "bar": [
           {
            "error_x": {
             "color": "#f2f5fa"
            },
            "error_y": {
             "color": "#f2f5fa"
            },
            "marker": {
             "line": {
              "color": "rgb(17,17,17)",
              "width": 0.5
             }
            },
            "type": "bar"
           }
          ],
          "barpolar": [
           {
            "marker": {
             "line": {
              "color": "rgb(17,17,17)",
              "width": 0.5
             }
            },
            "type": "barpolar"
           }
          ],
          "carpet": [
           {
            "aaxis": {
             "endlinecolor": "#A2B1C6",
             "gridcolor": "#506784",
             "linecolor": "#506784",
             "minorgridcolor": "#506784",
             "startlinecolor": "#A2B1C6"
            },
            "baxis": {
             "endlinecolor": "#A2B1C6",
             "gridcolor": "#506784",
             "linecolor": "#506784",
             "minorgridcolor": "#506784",
             "startlinecolor": "#A2B1C6"
            },
            "type": "carpet"
           }
          ],
          "choropleth": [
           {
            "colorbar": {
             "outlinewidth": 0,
             "ticks": ""
            },
            "type": "choropleth"
           }
          ],
          "contour": [
           {
            "colorbar": {
             "outlinewidth": 0,
             "ticks": ""
            },
            "colorscale": [
             [
              0,
              "#0d0887"
             ],
             [
              0.1111111111111111,
              "#46039f"
             ],
             [
              0.2222222222222222,
              "#7201a8"
             ],
             [
              0.3333333333333333,
              "#9c179e"
             ],
             [
              0.4444444444444444,
              "#bd3786"
             ],
             [
              0.5555555555555556,
              "#d8576b"
             ],
             [
              0.6666666666666666,
              "#ed7953"
             ],
             [
              0.7777777777777778,
              "#fb9f3a"
             ],
             [
              0.8888888888888888,
              "#fdca26"
             ],
             [
              1,
              "#f0f921"
             ]
            ],
            "type": "contour"
           }
          ],
          "contourcarpet": [
           {
            "colorbar": {
             "outlinewidth": 0,
             "ticks": ""
            },
            "type": "contourcarpet"
           }
          ],
          "heatmap": [
           {
            "colorbar": {
             "outlinewidth": 0,
             "ticks": ""
            },
            "colorscale": [
             [
              0,
              "#0d0887"
             ],
             [
              0.1111111111111111,
              "#46039f"
             ],
             [
              0.2222222222222222,
              "#7201a8"
             ],
             [
              0.3333333333333333,
              "#9c179e"
             ],
             [
              0.4444444444444444,
              "#bd3786"
             ],
             [
              0.5555555555555556,
              "#d8576b"
             ],
             [
              0.6666666666666666,
              "#ed7953"
             ],
             [
              0.7777777777777778,
              "#fb9f3a"
             ],
             [
              0.8888888888888888,
              "#fdca26"
             ],
             [
              1,
              "#f0f921"
             ]
            ],
            "type": "heatmap"
           }
          ],
          "heatmapgl": [
           {
            "colorbar": {
             "outlinewidth": 0,
             "ticks": ""
            },
            "colorscale": [
             [
              0,
              "#0d0887"
             ],
             [
              0.1111111111111111,
              "#46039f"
             ],
             [
              0.2222222222222222,
              "#7201a8"
             ],
             [
              0.3333333333333333,
              "#9c179e"
             ],
             [
              0.4444444444444444,
              "#bd3786"
             ],
             [
              0.5555555555555556,
              "#d8576b"
             ],
             [
              0.6666666666666666,
              "#ed7953"
             ],
             [
              0.7777777777777778,
              "#fb9f3a"
             ],
             [
              0.8888888888888888,
              "#fdca26"
             ],
             [
              1,
              "#f0f921"
             ]
            ],
            "type": "heatmapgl"
           }
          ],
          "histogram": [
           {
            "marker": {
             "colorbar": {
              "outlinewidth": 0,
              "ticks": ""
             }
            },
            "type": "histogram"
           }
          ],
          "histogram2d": [
           {
            "colorbar": {
             "outlinewidth": 0,
             "ticks": ""
            },
            "colorscale": [
             [
              0,
              "#0d0887"
             ],
             [
              0.1111111111111111,
              "#46039f"
             ],
             [
              0.2222222222222222,
              "#7201a8"
             ],
             [
              0.3333333333333333,
              "#9c179e"
             ],
             [
              0.4444444444444444,
              "#bd3786"
             ],
             [
              0.5555555555555556,
              "#d8576b"
             ],
             [
              0.6666666666666666,
              "#ed7953"
             ],
             [
              0.7777777777777778,
              "#fb9f3a"
             ],
             [
              0.8888888888888888,
              "#fdca26"
             ],
             [
              1,
              "#f0f921"
             ]
            ],
            "type": "histogram2d"
           }
          ],
          "histogram2dcontour": [
           {
            "colorbar": {
             "outlinewidth": 0,
             "ticks": ""
            },
            "colorscale": [
             [
              0,
              "#0d0887"
             ],
             [
              0.1111111111111111,
              "#46039f"
             ],
             [
              0.2222222222222222,
              "#7201a8"
             ],
             [
              0.3333333333333333,
              "#9c179e"
             ],
             [
              0.4444444444444444,
              "#bd3786"
             ],
             [
              0.5555555555555556,
              "#d8576b"
             ],
             [
              0.6666666666666666,
              "#ed7953"
             ],
             [
              0.7777777777777778,
              "#fb9f3a"
             ],
             [
              0.8888888888888888,
              "#fdca26"
             ],
             [
              1,
              "#f0f921"
             ]
            ],
            "type": "histogram2dcontour"
           }
          ],
          "mesh3d": [
           {
            "colorbar": {
             "outlinewidth": 0,
             "ticks": ""
            },
            "type": "mesh3d"
           }
          ],
          "parcoords": [
           {
            "line": {
             "colorbar": {
              "outlinewidth": 0,
              "ticks": ""
             }
            },
            "type": "parcoords"
           }
          ],
          "pie": [
           {
            "automargin": true,
            "type": "pie"
           }
          ],
          "scatter": [
           {
            "marker": {
             "line": {
              "color": "#283442"
             }
            },
            "type": "scatter"
           }
          ],
          "scatter3d": [
           {
            "line": {
             "colorbar": {
              "outlinewidth": 0,
              "ticks": ""
             }
            },
            "marker": {
             "colorbar": {
              "outlinewidth": 0,
              "ticks": ""
             }
            },
            "type": "scatter3d"
           }
          ],
          "scattercarpet": [
           {
            "marker": {
             "colorbar": {
              "outlinewidth": 0,
              "ticks": ""
             }
            },
            "type": "scattercarpet"
           }
          ],
          "scattergeo": [
           {
            "marker": {
             "colorbar": {
              "outlinewidth": 0,
              "ticks": ""
             }
            },
            "type": "scattergeo"
           }
          ],
          "scattergl": [
           {
            "marker": {
             "line": {
              "color": "#283442"
             }
            },
            "type": "scattergl"
           }
          ],
          "scattermapbox": [
           {
            "marker": {
             "colorbar": {
              "outlinewidth": 0,
              "ticks": ""
             }
            },
            "type": "scattermapbox"
           }
          ],
          "scatterpolar": [
           {
            "marker": {
             "colorbar": {
              "outlinewidth": 0,
              "ticks": ""
             }
            },
            "type": "scatterpolar"
           }
          ],
          "scatterpolargl": [
           {
            "marker": {
             "colorbar": {
              "outlinewidth": 0,
              "ticks": ""
             }
            },
            "type": "scatterpolargl"
           }
          ],
          "scatterternary": [
           {
            "marker": {
             "colorbar": {
              "outlinewidth": 0,
              "ticks": ""
             }
            },
            "type": "scatterternary"
           }
          ],
          "surface": [
           {
            "colorbar": {
             "outlinewidth": 0,
             "ticks": ""
            },
            "colorscale": [
             [
              0,
              "#0d0887"
             ],
             [
              0.1111111111111111,
              "#46039f"
             ],
             [
              0.2222222222222222,
              "#7201a8"
             ],
             [
              0.3333333333333333,
              "#9c179e"
             ],
             [
              0.4444444444444444,
              "#bd3786"
             ],
             [
              0.5555555555555556,
              "#d8576b"
             ],
             [
              0.6666666666666666,
              "#ed7953"
             ],
             [
              0.7777777777777778,
              "#fb9f3a"
             ],
             [
              0.8888888888888888,
              "#fdca26"
             ],
             [
              1,
              "#f0f921"
             ]
            ],
            "type": "surface"
           }
          ],
          "table": [
           {
            "cells": {
             "fill": {
              "color": "#506784"
             },
             "line": {
              "color": "rgb(17,17,17)"
             }
            },
            "header": {
             "fill": {
              "color": "#2a3f5f"
             },
             "line": {
              "color": "rgb(17,17,17)"
             }
            },
            "type": "table"
           }
          ]
         },
         "layout": {
          "annotationdefaults": {
           "arrowcolor": "#f2f5fa",
           "arrowhead": 0,
           "arrowwidth": 1
          },
          "coloraxis": {
           "colorbar": {
            "outlinewidth": 0,
            "ticks": ""
           }
          },
          "colorscale": {
           "diverging": [
            [
             0,
             "#8e0152"
            ],
            [
             0.1,
             "#c51b7d"
            ],
            [
             0.2,
             "#de77ae"
            ],
            [
             0.3,
             "#f1b6da"
            ],
            [
             0.4,
             "#fde0ef"
            ],
            [
             0.5,
             "#f7f7f7"
            ],
            [
             0.6,
             "#e6f5d0"
            ],
            [
             0.7,
             "#b8e186"
            ],
            [
             0.8,
             "#7fbc41"
            ],
            [
             0.9,
             "#4d9221"
            ],
            [
             1,
             "#276419"
            ]
           ],
           "sequential": [
            [
             0,
             "#0d0887"
            ],
            [
             0.1111111111111111,
             "#46039f"
            ],
            [
             0.2222222222222222,
             "#7201a8"
            ],
            [
             0.3333333333333333,
             "#9c179e"
            ],
            [
             0.4444444444444444,
             "#bd3786"
            ],
            [
             0.5555555555555556,
             "#d8576b"
            ],
            [
             0.6666666666666666,
             "#ed7953"
            ],
            [
             0.7777777777777778,
             "#fb9f3a"
            ],
            [
             0.8888888888888888,
             "#fdca26"
            ],
            [
             1,
             "#f0f921"
            ]
           ],
           "sequentialminus": [
            [
             0,
             "#0d0887"
            ],
            [
             0.1111111111111111,
             "#46039f"
            ],
            [
             0.2222222222222222,
             "#7201a8"
            ],
            [
             0.3333333333333333,
             "#9c179e"
            ],
            [
             0.4444444444444444,
             "#bd3786"
            ],
            [
             0.5555555555555556,
             "#d8576b"
            ],
            [
             0.6666666666666666,
             "#ed7953"
            ],
            [
             0.7777777777777778,
             "#fb9f3a"
            ],
            [
             0.8888888888888888,
             "#fdca26"
            ],
            [
             1,
             "#f0f921"
            ]
           ]
          },
          "colorway": [
           "#636efa",
           "#EF553B",
           "#00cc96",
           "#ab63fa",
           "#FFA15A",
           "#19d3f3",
           "#FF6692",
           "#B6E880",
           "#FF97FF",
           "#FECB52"
          ],
          "font": {
           "color": "#f2f5fa"
          },
          "geo": {
           "bgcolor": "rgb(17,17,17)",
           "lakecolor": "rgb(17,17,17)",
           "landcolor": "rgb(17,17,17)",
           "showlakes": true,
           "showland": true,
           "subunitcolor": "#506784"
          },
          "hoverlabel": {
           "align": "left"
          },
          "hovermode": "closest",
          "mapbox": {
           "style": "dark"
          },
          "paper_bgcolor": "rgb(17,17,17)",
          "plot_bgcolor": "rgb(17,17,17)",
          "polar": {
           "angularaxis": {
            "gridcolor": "#506784",
            "linecolor": "#506784",
            "ticks": ""
           },
           "bgcolor": "rgb(17,17,17)",
           "radialaxis": {
            "gridcolor": "#506784",
            "linecolor": "#506784",
            "ticks": ""
           }
          },
          "scene": {
           "xaxis": {
            "backgroundcolor": "rgb(17,17,17)",
            "gridcolor": "#506784",
            "gridwidth": 2,
            "linecolor": "#506784",
            "showbackground": true,
            "ticks": "",
            "zerolinecolor": "#C8D4E3"
           },
           "yaxis": {
            "backgroundcolor": "rgb(17,17,17)",
            "gridcolor": "#506784",
            "gridwidth": 2,
            "linecolor": "#506784",
            "showbackground": true,
            "ticks": "",
            "zerolinecolor": "#C8D4E3"
           },
           "zaxis": {
            "backgroundcolor": "rgb(17,17,17)",
            "gridcolor": "#506784",
            "gridwidth": 2,
            "linecolor": "#506784",
            "showbackground": true,
            "ticks": "",
            "zerolinecolor": "#C8D4E3"
           }
          },
          "shapedefaults": {
           "line": {
            "color": "#f2f5fa"
           }
          },
          "sliderdefaults": {
           "bgcolor": "#C8D4E3",
           "bordercolor": "rgb(17,17,17)",
           "borderwidth": 1,
           "tickwidth": 0
          },
          "ternary": {
           "aaxis": {
            "gridcolor": "#506784",
            "linecolor": "#506784",
            "ticks": ""
           },
           "baxis": {
            "gridcolor": "#506784",
            "linecolor": "#506784",
            "ticks": ""
           },
           "bgcolor": "rgb(17,17,17)",
           "caxis": {
            "gridcolor": "#506784",
            "linecolor": "#506784",
            "ticks": ""
           }
          },
          "title": {
           "x": 0.05
          },
          "updatemenudefaults": {
           "bgcolor": "#506784",
           "borderwidth": 0
          },
          "xaxis": {
           "automargin": true,
           "gridcolor": "#283442",
           "linecolor": "#506784",
           "ticks": "",
           "title": {
            "standoff": 15
           },
           "zerolinecolor": "#283442",
           "zerolinewidth": 2
          },
          "yaxis": {
           "automargin": true,
           "gridcolor": "#283442",
           "linecolor": "#506784",
           "ticks": "",
           "title": {
            "standoff": 15
           },
           "zerolinecolor": "#283442",
           "zerolinewidth": 2
          }
         }
        },
        "title": {
         "text": "Passage Rate: House and Senate and Bills Enacted"
        },
        "xaxis": {
         "anchor": "y",
         "domain": [
          0,
          1
         ],
         "title": {
          "text": "Congress"
         }
        },
        "yaxis": {
         "anchor": "x",
         "domain": [
          0,
          1
         ],
         "range": [
          0,
          175
         ],
         "title": {
          "text": "Bills Passed House and Senate"
         }
        }
       }
      },
      "text/html": [
       "<div>                            <div id=\"28809c8b-4a60-45e4-90c5-05fb8fa7c3ab\" class=\"plotly-graph-div\" style=\"height:550px; width:100%;\"></div>            <script type=\"text/javascript\">                require([\"plotly\"], function(Plotly) {                    window.PLOTLYENV=window.PLOTLYENV || {};                                    if (document.getElementById(\"28809c8b-4a60-45e4-90c5-05fb8fa7c3ab\")) {                    Plotly.newPlot(                        \"28809c8b-4a60-45e4-90c5-05fb8fa7c3ab\",                        [{\"customdata\": [[33, 14]], \"hovertemplate\": \"color=116th Congress (2019-2021)<br>x=%{x}<br>y=%{y}<br>passed_house=%{customdata[0]}<br>paassed_senate=%{customdata[1]}<extra></extra>\", \"legendgroup\": \"116th Congress (2019-2021)\", \"marker\": {\"color\": \"blue\", \"size\": 12, \"symbol\": \"circle\"}, \"mode\": \"markers\", \"name\": \"116th Congress (2019-2021)\", \"orientation\": \"v\", \"showlegend\": true, \"type\": \"scatter\", \"x\": [\"116th Congress (2019-2021)\"], \"xaxis\": \"x\", \"y\": [42.42424242424242], \"yaxis\": \"y\"}, {\"customdata\": [[36, 15]], \"hovertemplate\": \"color=115th Congress (2017-2019)<br>x=%{x}<br>y=%{y}<br>passed_house=%{customdata[0]}<br>paassed_senate=%{customdata[1]}<extra></extra>\", \"legendgroup\": \"115th Congress (2017-2019)\", \"marker\": {\"color\": \"blue\", \"size\": 12, \"symbol\": \"circle\"}, \"mode\": \"markers\", \"name\": \"115th Congress (2017-2019)\", \"orientation\": \"v\", \"showlegend\": true, \"type\": \"scatter\", \"x\": [\"115th Congress (2017-2019)\"], \"xaxis\": \"x\", \"y\": [41.66666666666667], \"yaxis\": \"y\"}, {\"customdata\": [[28, 3]], \"hovertemplate\": \"color=114th Congress (2015-2017)<br>x=%{x}<br>y=%{y}<br>passed_house=%{customdata[0]}<br>paassed_senate=%{customdata[1]}<extra></extra>\", \"legendgroup\": \"114th Congress (2015-2017)\", \"marker\": {\"color\": \"blue\", \"size\": 12, \"symbol\": \"circle\"}, \"mode\": \"markers\", \"name\": \"114th Congress (2015-2017)\", \"orientation\": \"v\", \"showlegend\": true, \"type\": \"scatter\", \"x\": [\"114th Congress (2015-2017)\"], \"xaxis\": \"x\", \"y\": [10.714285714285714], \"yaxis\": \"y\"}, {\"customdata\": [[15, 2]], \"hovertemplate\": \"color=113th Congress (2013-2015)<br>x=%{x}<br>y=%{y}<br>passed_house=%{customdata[0]}<br>paassed_senate=%{customdata[1]}<extra></extra>\", \"legendgroup\": \"113th Congress (2013-2015)\", \"marker\": {\"color\": \"blue\", \"size\": 12, \"symbol\": \"circle\"}, \"mode\": \"markers\", \"name\": \"113th Congress (2013-2015)\", \"orientation\": \"v\", \"showlegend\": true, \"type\": \"scatter\", \"x\": [\"113th Congress (2013-2015)\"], \"xaxis\": \"x\", \"y\": [13.333333333333334], \"yaxis\": \"y\"}, {\"customdata\": [[8, 1]], \"hovertemplate\": \"color=112th Congress (2011-2013)<br>x=%{x}<br>y=%{y}<br>passed_house=%{customdata[0]}<br>paassed_senate=%{customdata[1]}<extra></extra>\", \"legendgroup\": \"112th Congress (2011-2013)\", \"marker\": {\"color\": \"blue\", \"size\": 12, \"symbol\": \"circle\"}, \"mode\": \"markers\", \"name\": \"112th Congress (2011-2013)\", \"orientation\": \"v\", \"showlegend\": true, \"type\": \"scatter\", \"x\": [\"112th Congress (2011-2013)\"], \"xaxis\": \"x\", \"y\": [12.5], \"yaxis\": \"y\"}, {\"customdata\": [[15, 3]], \"hovertemplate\": \"color=111th Congress (2009-2010)<br>x=%{x}<br>y=%{y}<br>passed_house=%{customdata[0]}<br>paassed_senate=%{customdata[1]}<extra></extra>\", \"legendgroup\": \"111th Congress (2009-2010)\", \"marker\": {\"color\": \"blue\", \"size\": 12, \"symbol\": \"circle\"}, \"mode\": \"markers\", \"name\": \"111th Congress (2009-2010)\", \"orientation\": \"v\", \"showlegend\": true, \"type\": \"scatter\", \"x\": [\"111th Congress (2009-2010)\"], \"xaxis\": \"x\", \"y\": [20.0], \"yaxis\": \"y\"}, {\"customdata\": [[196, 34]], \"hovertemplate\": \"color=110th Congress (2007-2009)<br>x=%{x}<br>y=%{y}<br>passed_house=%{customdata[0]}<br>paassed_senate=%{customdata[1]}<extra></extra>\", \"legendgroup\": \"110th Congress (2007-2009)\", \"marker\": {\"color\": \"blue\", \"size\": 12, \"symbol\": \"circle\"}, \"mode\": \"markers\", \"name\": \"110th Congress (2007-2009)\", \"orientation\": \"v\", \"showlegend\": true, \"type\": \"scatter\", \"x\": [\"110th Congress (2007-2009)\"], \"xaxis\": \"x\", \"y\": [17.346938775510203], \"yaxis\": \"y\"}, {\"customdata\": [[106, 46]], \"hovertemplate\": \"color=109th Congress (2005-2006)<br>x=%{x}<br>y=%{y}<br>passed_house=%{customdata[0]}<br>paassed_senate=%{customdata[1]}<extra></extra>\", \"legendgroup\": \"109th Congress (2005-2006)\", \"marker\": {\"color\": \"blue\", \"size\": 12, \"symbol\": \"circle\"}, \"mode\": \"markers\", \"name\": \"109th Congress (2005-2006)\", \"orientation\": \"v\", \"showlegend\": true, \"type\": \"scatter\", \"x\": [\"109th Congress (2005-2006)\"], \"xaxis\": \"x\", \"y\": [43.39622641509434], \"yaxis\": \"y\"}, {\"customdata\": [[109, 88]], \"hovertemplate\": \"color=108th Congress (2003-2004)<br>x=%{x}<br>y=%{y}<br>passed_house=%{customdata[0]}<br>paassed_senate=%{customdata[1]}<extra></extra>\", \"legendgroup\": \"108th Congress (2003-2004)\", \"marker\": {\"color\": \"blue\", \"size\": 12, \"symbol\": \"circle\"}, \"mode\": \"markers\", \"name\": \"108th Congress (2003-2004)\", \"orientation\": \"v\", \"showlegend\": true, \"type\": \"scatter\", \"x\": [\"108th Congress (2003-2004)\"], \"xaxis\": \"x\", \"y\": [80.73394495412845], \"yaxis\": \"y\"}, {\"customdata\": [[101, 58]], \"hovertemplate\": \"color=107th Congress (2001-2002)<br>x=%{x}<br>y=%{y}<br>passed_house=%{customdata[0]}<br>paassed_senate=%{customdata[1]}<extra></extra>\", \"legendgroup\": \"107th Congress (2001-2002)\", \"marker\": {\"color\": \"blue\", \"size\": 12, \"symbol\": \"circle\"}, \"mode\": \"markers\", \"name\": \"107th Congress (2001-2002)\", \"orientation\": \"v\", \"showlegend\": true, \"type\": \"scatter\", \"x\": [\"107th Congress (2001-2002)\"], \"xaxis\": \"x\", \"y\": [57.42574257425742], \"yaxis\": \"y\"}, {\"customdata\": [[105, 65]], \"hovertemplate\": \"color=106th Congress (1999-2000)<br>x=%{x}<br>y=%{y}<br>passed_house=%{customdata[0]}<br>paassed_senate=%{customdata[1]}<extra></extra>\", \"legendgroup\": \"106th Congress (1999-2000)\", \"marker\": {\"color\": \"blue\", \"size\": 12, \"symbol\": \"circle\"}, \"mode\": \"markers\", \"name\": \"106th Congress (1999-2000)\", \"orientation\": \"v\", \"showlegend\": true, \"type\": \"scatter\", \"x\": [\"106th Congress (1999-2000)\"], \"xaxis\": \"x\", \"y\": [61.904761904761905], \"yaxis\": \"y\"}, {\"customdata\": [[86, 59]], \"hovertemplate\": \"color=105th Congress (1997-1998)<br>x=%{x}<br>y=%{y}<br>passed_house=%{customdata[0]}<br>paassed_senate=%{customdata[1]}<extra></extra>\", \"legendgroup\": \"105th Congress (1997-1998)\", \"marker\": {\"color\": \"blue\", \"size\": 12, \"symbol\": \"circle\"}, \"mode\": \"markers\", \"name\": \"105th Congress (1997-1998)\", \"orientation\": \"v\", \"showlegend\": true, \"type\": \"scatter\", \"x\": [\"105th Congress (1997-1998)\"], \"xaxis\": \"x\", \"y\": [68.6046511627907], \"yaxis\": \"y\"}, {\"customdata\": [[83, 29]], \"hovertemplate\": \"color=104th Congress (1995-1996)<br>x=%{x}<br>y=%{y}<br>passed_house=%{customdata[0]}<br>paassed_senate=%{customdata[1]}<extra></extra>\", \"legendgroup\": \"104th Congress (1995-1996)\", \"marker\": {\"color\": \"blue\", \"size\": 12, \"symbol\": \"circle\"}, \"mode\": \"markers\", \"name\": \"104th Congress (1995-1996)\", \"orientation\": \"v\", \"showlegend\": true, \"type\": \"scatter\", \"x\": [\"104th Congress (1995-1996)\"], \"xaxis\": \"x\", \"y\": [34.93975903614458], \"yaxis\": \"y\"}, {\"customdata\": [[78, 37]], \"hovertemplate\": \"color=103rd Congress (1993-1994)<br>x=%{x}<br>y=%{y}<br>passed_house=%{customdata[0]}<br>paassed_senate=%{customdata[1]}<extra></extra>\", \"legendgroup\": \"103rd Congress (1993-1994)\", \"marker\": {\"color\": \"blue\", \"size\": 12, \"symbol\": \"circle\"}, \"mode\": \"markers\", \"name\": \"103rd Congress (1993-1994)\", \"orientation\": \"v\", \"showlegend\": true, \"type\": \"scatter\", \"x\": [\"103rd Congress (1993-1994)\"], \"xaxis\": \"x\", \"y\": [47.43589743589743], \"yaxis\": \"y\"}, {\"customdata\": [[18, 14]], \"hovertemplate\": \"color=102nd Congress (1991-1992)<br>x=%{x}<br>y=%{y}<br>passed_house=%{customdata[0]}<br>paassed_senate=%{customdata[1]}<extra></extra>\", \"legendgroup\": \"102nd Congress (1991-1992)\", \"marker\": {\"color\": \"blue\", \"size\": 12, \"symbol\": \"circle\"}, \"mode\": \"markers\", \"name\": \"102nd Congress (1991-1992)\", \"orientation\": \"v\", \"showlegend\": true, \"type\": \"scatter\", \"x\": [\"102nd Congress (1991-1992)\"], \"xaxis\": \"x\", \"y\": [77.77777777777779], \"yaxis\": \"y\"}, {\"customdata\": [[13, 13]], \"hovertemplate\": \"color=101st Congress (1989-1990)<br>x=%{x}<br>y=%{y}<br>passed_house=%{customdata[0]}<br>paassed_senate=%{customdata[1]}<extra></extra>\", \"legendgroup\": \"101st Congress (1989-1990)\", \"marker\": {\"color\": \"blue\", \"size\": 12, \"symbol\": \"circle\"}, \"mode\": \"markers\", \"name\": \"101st Congress (1989-1990)\", \"orientation\": \"v\", \"showlegend\": true, \"type\": \"scatter\", \"x\": [\"101st Congress (1989-1990)\"], \"xaxis\": \"x\", \"y\": [100.0], \"yaxis\": \"y\"}, {\"customdata\": [[6, 2]], \"hovertemplate\": \"color=100th Congress (1987-1988)<br>x=%{x}<br>y=%{y}<br>passed_house=%{customdata[0]}<br>paassed_senate=%{customdata[1]}<extra></extra>\", \"legendgroup\": \"100th Congress (1987-1988)\", \"marker\": {\"color\": \"blue\", \"size\": 12, \"symbol\": \"circle\"}, \"mode\": \"markers\", \"name\": \"100th Congress (1987-1988)\", \"orientation\": \"v\", \"showlegend\": true, \"type\": \"scatter\", \"x\": [\"100th Congress (1987-1988)\"], \"xaxis\": \"x\", \"y\": [33.33333333333333], \"yaxis\": \"y\"}, {\"customdata\": [[4, 5]], \"hovertemplate\": \"color=99th Congress (1985-1986)<br>x=%{x}<br>y=%{y}<br>passed_house=%{customdata[0]}<br>paassed_senate=%{customdata[1]}<extra></extra>\", \"legendgroup\": \"99th Congress (1985-1986)\", \"marker\": {\"color\": \"blue\", \"size\": 12, \"symbol\": \"circle\"}, \"mode\": \"markers\", \"name\": \"99th Congress (1985-1986)\", \"orientation\": \"v\", \"showlegend\": true, \"type\": \"scatter\", \"x\": [\"99th Congress (1985-1986)\"], \"xaxis\": \"x\", \"y\": [125.0], \"yaxis\": \"y\"}, {\"customdata\": [[7, 8]], \"hovertemplate\": \"color=98th Congress (1983-1984)<br>x=%{x}<br>y=%{y}<br>passed_house=%{customdata[0]}<br>paassed_senate=%{customdata[1]}<extra></extra>\", \"legendgroup\": \"98th Congress (1983-1984)\", \"marker\": {\"color\": \"blue\", \"size\": 12, \"symbol\": \"circle\"}, \"mode\": \"markers\", \"name\": \"98th Congress (1983-1984)\", \"orientation\": \"v\", \"showlegend\": true, \"type\": \"scatter\", \"x\": [\"98th Congress (1983-1984)\"], \"xaxis\": \"x\", \"y\": [114.28571428571428], \"yaxis\": \"y\"}, {\"customdata\": [[12, 9]], \"hovertemplate\": \"color=97th Congress (1981-1982)<br>x=%{x}<br>y=%{y}<br>passed_house=%{customdata[0]}<br>paassed_senate=%{customdata[1]}<extra></extra>\", \"legendgroup\": \"97th Congress (1981-1982)\", \"marker\": {\"color\": \"blue\", \"size\": 12, \"symbol\": \"circle\"}, \"mode\": \"markers\", \"name\": \"97th Congress (1981-1982)\", \"orientation\": \"v\", \"showlegend\": true, \"type\": \"scatter\", \"x\": [\"97th Congress (1981-1982)\"], \"xaxis\": \"x\", \"y\": [75.0], \"yaxis\": \"y\"}, {\"customdata\": [[10, 6]], \"hovertemplate\": \"color=96th Congress (1979-1980)<br>x=%{x}<br>y=%{y}<br>passed_house=%{customdata[0]}<br>paassed_senate=%{customdata[1]}<extra></extra>\", \"legendgroup\": \"96th Congress (1979-1980)\", \"marker\": {\"color\": \"blue\", \"size\": 12, \"symbol\": \"circle\"}, \"mode\": \"markers\", \"name\": \"96th Congress (1979-1980)\", \"orientation\": \"v\", \"showlegend\": true, \"type\": \"scatter\", \"x\": [\"96th Congress (1979-1980)\"], \"xaxis\": \"x\", \"y\": [60.0], \"yaxis\": \"y\"}, {\"customdata\": [[3, 2]], \"hovertemplate\": \"color=95th Congress (1977-1978)<br>x=%{x}<br>y=%{y}<br>passed_house=%{customdata[0]}<br>paassed_senate=%{customdata[1]}<extra></extra>\", \"legendgroup\": \"95th Congress (1977-1978)\", \"marker\": {\"color\": \"blue\", \"size\": 12, \"symbol\": \"circle\"}, \"mode\": \"markers\", \"name\": \"95th Congress (1977-1978)\", \"orientation\": \"v\", \"showlegend\": true, \"type\": \"scatter\", \"x\": [\"95th Congress (1977-1978)\"], \"xaxis\": \"x\", \"y\": [66.66666666666666], \"yaxis\": \"y\"}, {\"customdata\": [[2, 2]], \"hovertemplate\": \"color=94th Congress (1975-1976)<br>x=%{x}<br>y=%{y}<br>passed_house=%{customdata[0]}<br>paassed_senate=%{customdata[1]}<extra></extra>\", \"legendgroup\": \"94th Congress (1975-1976)\", \"marker\": {\"color\": \"blue\", \"size\": 12, \"symbol\": \"circle\"}, \"mode\": \"markers\", \"name\": \"94th Congress (1975-1976)\", \"orientation\": \"v\", \"showlegend\": true, \"type\": \"scatter\", \"x\": [\"94th Congress (1975-1976)\"], \"xaxis\": \"x\", \"y\": [100.0], \"yaxis\": \"y\"}, {\"customdata\": [[2, 2]], \"hovertemplate\": \"color=93rd Congress (1973-1974)<br>x=%{x}<br>y=%{y}<br>passed_house=%{customdata[0]}<br>paassed_senate=%{customdata[1]}<extra></extra>\", \"legendgroup\": \"93rd Congress (1973-1974)\", \"marker\": {\"color\": \"blue\", \"size\": 12, \"symbol\": \"circle\"}, \"mode\": \"markers\", \"name\": \"93rd Congress (1973-1974)\", \"orientation\": \"v\", \"showlegend\": true, \"type\": \"scatter\", \"x\": [\"93rd Congress (1973-1974)\"], \"xaxis\": \"x\", \"y\": [100.0], \"yaxis\": \"y\"}, {\"marker\": {\"color\": \"red\"}, \"name\": \"Bills Passed\", \"type\": \"bar\", \"x\": [\"116th Congress (2019-2021)\", \"115th Congress (2017-2019)\", \"114th Congress (2015-2017)\", \"113th Congress (2013-2015)\", \"112th Congress (2011-2013)\", \"111th Congress (2009-2010)\", \"110th Congress (2007-2009)\", \"109th Congress (2005-2006)\", \"108th Congress (2003-2004)\", \"107th Congress (2001-2002)\", \"106th Congress (1999-2000)\", \"105th Congress (1997-1998)\", \"104th Congress (1995-1996)\", \"103rd Congress (1993-1994)\", \"102nd Congress (1991-1992)\", \"101st Congress (1989-1990)\", \"100th Congress (1987-1988)\", \"99th Congress (1985-1986)\", \"98th Congress (1983-1984)\", \"97th Congress (1981-1982)\", \"96th Congress (1979-1980)\", \"95th Congress (1977-1978)\", \"94th Congress (1975-1976)\", \"93rd Congress (1973-1974)\"], \"y\": [116.66666666666667, 93.75, 75.0, 33.33333333333333, 33.33333333333333, 21.428571428571427, 38.20224719101123, 46.0, 68.75, 59.79381443298969, 43.624161073825505, 47.199999999999996, 30.851063829787233, 40.65934065934066, 45.16129032258064, 65.0, 9.523809523809524, 27.77777777777778, 57.14285714285714, 150.0, 28.57142857142857, 15.384615384615385, 18.181818181818183, 22.22222222222222]}],                        {\"height\": 550, \"hovermode\": \"closest\", \"legend\": {\"title\": {\"text\": \"Congress\"}, \"tracegroupgap\": 0}, \"margin\": {\"t\": 60}, \"template\": {\"data\": {\"bar\": [{\"error_x\": {\"color\": \"#f2f5fa\"}, \"error_y\": {\"color\": \"#f2f5fa\"}, \"marker\": {\"line\": {\"color\": \"rgb(17,17,17)\", \"width\": 0.5}}, \"type\": \"bar\"}], \"barpolar\": [{\"marker\": {\"line\": {\"color\": \"rgb(17,17,17)\", \"width\": 0.5}}, \"type\": \"barpolar\"}], \"carpet\": [{\"aaxis\": {\"endlinecolor\": \"#A2B1C6\", \"gridcolor\": \"#506784\", \"linecolor\": \"#506784\", \"minorgridcolor\": \"#506784\", \"startlinecolor\": \"#A2B1C6\"}, \"baxis\": {\"endlinecolor\": \"#A2B1C6\", \"gridcolor\": \"#506784\", \"linecolor\": \"#506784\", \"minorgridcolor\": \"#506784\", \"startlinecolor\": \"#A2B1C6\"}, \"type\": \"carpet\"}], \"choropleth\": [{\"colorbar\": {\"outlinewidth\": 0, \"ticks\": \"\"}, \"type\": \"choropleth\"}], \"contour\": [{\"colorbar\": {\"outlinewidth\": 0, \"ticks\": \"\"}, \"colorscale\": [[0.0, \"#0d0887\"], [0.1111111111111111, \"#46039f\"], [0.2222222222222222, \"#7201a8\"], [0.3333333333333333, \"#9c179e\"], [0.4444444444444444, \"#bd3786\"], [0.5555555555555556, \"#d8576b\"], [0.6666666666666666, \"#ed7953\"], [0.7777777777777778, \"#fb9f3a\"], [0.8888888888888888, \"#fdca26\"], [1.0, \"#f0f921\"]], \"type\": \"contour\"}], \"contourcarpet\": [{\"colorbar\": {\"outlinewidth\": 0, \"ticks\": \"\"}, \"type\": \"contourcarpet\"}], \"heatmap\": [{\"colorbar\": {\"outlinewidth\": 0, \"ticks\": \"\"}, \"colorscale\": [[0.0, \"#0d0887\"], [0.1111111111111111, \"#46039f\"], [0.2222222222222222, \"#7201a8\"], [0.3333333333333333, \"#9c179e\"], [0.4444444444444444, \"#bd3786\"], [0.5555555555555556, \"#d8576b\"], [0.6666666666666666, \"#ed7953\"], [0.7777777777777778, \"#fb9f3a\"], [0.8888888888888888, \"#fdca26\"], [1.0, \"#f0f921\"]], \"type\": \"heatmap\"}], \"heatmapgl\": [{\"colorbar\": {\"outlinewidth\": 0, \"ticks\": \"\"}, \"colorscale\": [[0.0, \"#0d0887\"], [0.1111111111111111, \"#46039f\"], [0.2222222222222222, \"#7201a8\"], [0.3333333333333333, \"#9c179e\"], [0.4444444444444444, \"#bd3786\"], [0.5555555555555556, \"#d8576b\"], [0.6666666666666666, \"#ed7953\"], [0.7777777777777778, \"#fb9f3a\"], [0.8888888888888888, \"#fdca26\"], [1.0, \"#f0f921\"]], \"type\": \"heatmapgl\"}], \"histogram\": [{\"marker\": {\"colorbar\": {\"outlinewidth\": 0, \"ticks\": \"\"}}, \"type\": \"histogram\"}], \"histogram2d\": [{\"colorbar\": {\"outlinewidth\": 0, \"ticks\": \"\"}, \"colorscale\": [[0.0, \"#0d0887\"], [0.1111111111111111, \"#46039f\"], [0.2222222222222222, \"#7201a8\"], [0.3333333333333333, \"#9c179e\"], [0.4444444444444444, \"#bd3786\"], [0.5555555555555556, \"#d8576b\"], [0.6666666666666666, \"#ed7953\"], [0.7777777777777778, \"#fb9f3a\"], [0.8888888888888888, \"#fdca26\"], [1.0, \"#f0f921\"]], \"type\": \"histogram2d\"}], \"histogram2dcontour\": [{\"colorbar\": {\"outlinewidth\": 0, \"ticks\": \"\"}, \"colorscale\": [[0.0, \"#0d0887\"], [0.1111111111111111, \"#46039f\"], [0.2222222222222222, \"#7201a8\"], [0.3333333333333333, \"#9c179e\"], [0.4444444444444444, \"#bd3786\"], [0.5555555555555556, \"#d8576b\"], [0.6666666666666666, \"#ed7953\"], [0.7777777777777778, \"#fb9f3a\"], [0.8888888888888888, \"#fdca26\"], [1.0, \"#f0f921\"]], \"type\": \"histogram2dcontour\"}], \"mesh3d\": [{\"colorbar\": {\"outlinewidth\": 0, \"ticks\": \"\"}, \"type\": \"mesh3d\"}], \"parcoords\": [{\"line\": {\"colorbar\": {\"outlinewidth\": 0, \"ticks\": \"\"}}, \"type\": \"parcoords\"}], \"pie\": [{\"automargin\": true, \"type\": \"pie\"}], \"scatter\": [{\"marker\": {\"line\": {\"color\": \"#283442\"}}, \"type\": \"scatter\"}], \"scatter3d\": [{\"line\": {\"colorbar\": {\"outlinewidth\": 0, \"ticks\": \"\"}}, \"marker\": {\"colorbar\": {\"outlinewidth\": 0, \"ticks\": \"\"}}, \"type\": \"scatter3d\"}], \"scattercarpet\": [{\"marker\": {\"colorbar\": {\"outlinewidth\": 0, \"ticks\": \"\"}}, \"type\": \"scattercarpet\"}], \"scattergeo\": [{\"marker\": {\"colorbar\": {\"outlinewidth\": 0, \"ticks\": \"\"}}, \"type\": \"scattergeo\"}], \"scattergl\": [{\"marker\": {\"line\": {\"color\": \"#283442\"}}, \"type\": \"scattergl\"}], \"scattermapbox\": [{\"marker\": {\"colorbar\": {\"outlinewidth\": 0, \"ticks\": \"\"}}, \"type\": \"scattermapbox\"}], \"scatterpolar\": [{\"marker\": {\"colorbar\": {\"outlinewidth\": 0, \"ticks\": \"\"}}, \"type\": \"scatterpolar\"}], \"scatterpolargl\": [{\"marker\": {\"colorbar\": {\"outlinewidth\": 0, \"ticks\": \"\"}}, \"type\": \"scatterpolargl\"}], \"scatterternary\": [{\"marker\": {\"colorbar\": {\"outlinewidth\": 0, \"ticks\": \"\"}}, \"type\": \"scatterternary\"}], \"surface\": [{\"colorbar\": {\"outlinewidth\": 0, \"ticks\": \"\"}, \"colorscale\": [[0.0, \"#0d0887\"], [0.1111111111111111, \"#46039f\"], [0.2222222222222222, \"#7201a8\"], [0.3333333333333333, \"#9c179e\"], [0.4444444444444444, \"#bd3786\"], [0.5555555555555556, \"#d8576b\"], [0.6666666666666666, \"#ed7953\"], [0.7777777777777778, \"#fb9f3a\"], [0.8888888888888888, \"#fdca26\"], [1.0, \"#f0f921\"]], \"type\": \"surface\"}], \"table\": [{\"cells\": {\"fill\": {\"color\": \"#506784\"}, \"line\": {\"color\": \"rgb(17,17,17)\"}}, \"header\": {\"fill\": {\"color\": \"#2a3f5f\"}, \"line\": {\"color\": \"rgb(17,17,17)\"}}, \"type\": \"table\"}]}, \"layout\": {\"annotationdefaults\": {\"arrowcolor\": \"#f2f5fa\", \"arrowhead\": 0, \"arrowwidth\": 1}, \"coloraxis\": {\"colorbar\": {\"outlinewidth\": 0, \"ticks\": \"\"}}, \"colorscale\": {\"diverging\": [[0, \"#8e0152\"], [0.1, \"#c51b7d\"], [0.2, \"#de77ae\"], [0.3, \"#f1b6da\"], [0.4, \"#fde0ef\"], [0.5, \"#f7f7f7\"], [0.6, \"#e6f5d0\"], [0.7, \"#b8e186\"], [0.8, \"#7fbc41\"], [0.9, \"#4d9221\"], [1, \"#276419\"]], \"sequential\": [[0.0, \"#0d0887\"], [0.1111111111111111, \"#46039f\"], [0.2222222222222222, \"#7201a8\"], [0.3333333333333333, \"#9c179e\"], [0.4444444444444444, \"#bd3786\"], [0.5555555555555556, \"#d8576b\"], [0.6666666666666666, \"#ed7953\"], [0.7777777777777778, \"#fb9f3a\"], [0.8888888888888888, \"#fdca26\"], [1.0, \"#f0f921\"]], \"sequentialminus\": [[0.0, \"#0d0887\"], [0.1111111111111111, \"#46039f\"], [0.2222222222222222, \"#7201a8\"], [0.3333333333333333, \"#9c179e\"], [0.4444444444444444, \"#bd3786\"], [0.5555555555555556, \"#d8576b\"], [0.6666666666666666, \"#ed7953\"], [0.7777777777777778, \"#fb9f3a\"], [0.8888888888888888, \"#fdca26\"], [1.0, \"#f0f921\"]]}, \"colorway\": [\"#636efa\", \"#EF553B\", \"#00cc96\", \"#ab63fa\", \"#FFA15A\", \"#19d3f3\", \"#FF6692\", \"#B6E880\", \"#FF97FF\", \"#FECB52\"], \"font\": {\"color\": \"#f2f5fa\"}, \"geo\": {\"bgcolor\": \"rgb(17,17,17)\", \"lakecolor\": \"rgb(17,17,17)\", \"landcolor\": \"rgb(17,17,17)\", \"showlakes\": true, \"showland\": true, \"subunitcolor\": \"#506784\"}, \"hoverlabel\": {\"align\": \"left\"}, \"hovermode\": \"closest\", \"mapbox\": {\"style\": \"dark\"}, \"paper_bgcolor\": \"rgb(17,17,17)\", \"plot_bgcolor\": \"rgb(17,17,17)\", \"polar\": {\"angularaxis\": {\"gridcolor\": \"#506784\", \"linecolor\": \"#506784\", \"ticks\": \"\"}, \"bgcolor\": \"rgb(17,17,17)\", \"radialaxis\": {\"gridcolor\": \"#506784\", \"linecolor\": \"#506784\", \"ticks\": \"\"}}, \"scene\": {\"xaxis\": {\"backgroundcolor\": \"rgb(17,17,17)\", \"gridcolor\": \"#506784\", \"gridwidth\": 2, \"linecolor\": \"#506784\", \"showbackground\": true, \"ticks\": \"\", \"zerolinecolor\": \"#C8D4E3\"}, \"yaxis\": {\"backgroundcolor\": \"rgb(17,17,17)\", \"gridcolor\": \"#506784\", \"gridwidth\": 2, \"linecolor\": \"#506784\", \"showbackground\": true, \"ticks\": \"\", \"zerolinecolor\": \"#C8D4E3\"}, \"zaxis\": {\"backgroundcolor\": \"rgb(17,17,17)\", \"gridcolor\": \"#506784\", \"gridwidth\": 2, \"linecolor\": \"#506784\", \"showbackground\": true, \"ticks\": \"\", \"zerolinecolor\": \"#C8D4E3\"}}, \"shapedefaults\": {\"line\": {\"color\": \"#f2f5fa\"}}, \"sliderdefaults\": {\"bgcolor\": \"#C8D4E3\", \"bordercolor\": \"rgb(17,17,17)\", \"borderwidth\": 1, \"tickwidth\": 0}, \"ternary\": {\"aaxis\": {\"gridcolor\": \"#506784\", \"linecolor\": \"#506784\", \"ticks\": \"\"}, \"baxis\": {\"gridcolor\": \"#506784\", \"linecolor\": \"#506784\", \"ticks\": \"\"}, \"bgcolor\": \"rgb(17,17,17)\", \"caxis\": {\"gridcolor\": \"#506784\", \"linecolor\": \"#506784\", \"ticks\": \"\"}}, \"title\": {\"x\": 0.05}, \"updatemenudefaults\": {\"bgcolor\": \"#506784\", \"borderwidth\": 0}, \"xaxis\": {\"automargin\": true, \"gridcolor\": \"#283442\", \"linecolor\": \"#506784\", \"ticks\": \"\", \"title\": {\"standoff\": 15}, \"zerolinecolor\": \"#283442\", \"zerolinewidth\": 2}, \"yaxis\": {\"automargin\": true, \"gridcolor\": \"#283442\", \"linecolor\": \"#506784\", \"ticks\": \"\", \"title\": {\"standoff\": 15}, \"zerolinecolor\": \"#283442\", \"zerolinewidth\": 2}}}, \"title\": {\"text\": \"Passage Rate: House and Senate and Bills Enacted\"}, \"xaxis\": {\"anchor\": \"y\", \"domain\": [0.0, 1.0], \"title\": {\"text\": \"Congress\"}}, \"yaxis\": {\"anchor\": \"x\", \"domain\": [0.0, 1.0], \"range\": [0, 175], \"title\": {\"text\": \"Bills Passed House and Senate\"}}},                        {\"responsive\": true}                    ).then(function(){\n",
       "                            \n",
       "var gd = document.getElementById('28809c8b-4a60-45e4-90c5-05fb8fa7c3ab');\n",
       "var x = new MutationObserver(function (mutations, observer) {{\n",
       "        var display = window.getComputedStyle(gd).display;\n",
       "        if (!display || display === 'none') {{\n",
       "            console.log([gd, 'removed!']);\n",
       "            Plotly.purge(gd);\n",
       "            observer.disconnect();\n",
       "        }}\n",
       "}});\n",
       "\n",
       "// Listen for the removal of the full notebook cells\n",
       "var notebookContainer = gd.closest('#notebook-container');\n",
       "if (notebookContainer) {{\n",
       "    x.observe(notebookContainer, {childList: true});\n",
       "}}\n",
       "\n",
       "// Listen for the clearing of the current output cell\n",
       "var outputEl = gd.closest('.output');\n",
       "if (outputEl) {{\n",
       "    x.observe(outputEl, {childList: true});\n",
       "}}\n",
       "\n",
       "                        })                };                });            </script>        </div>"
      ]
     },
     "metadata": {},
     "output_type": "display_data"
    }
   ],
   "source": [
    "fig4 = px.scatter(df,\n",
    "        x=congress,\n",
    "        y=house_senate_rate,\n",
    "        color=congress,\n",
    "        range_y = [0,175],\n",
    "        hover_data=['passed_house', 'paassed_senate'],\n",
    "        color_continuous_scale='RdBu'\n",
    "    )\n",
    "\n",
    "fig4.update_traces(marker=dict(size=12, color = \"blue\"))\n",
    "\n",
    "fig4.add_bar(x = congress, y = senate_enacted_rate, name=\"Bills Passed\", marker=dict(color=\"red\"))\n",
    "fig4.update_layout(\n",
    "        title='Passage Rate: House and Senate and Bills Enacted',\n",
    "        legend_title_text='Congress',\n",
    "        height=550,\n",
    "        hovermode='closest',\n",
    "        xaxis_title = 'Congress',\n",
    "        yaxis_title = 'Bills Passed House and Senate'\n",
    "    )\n",
    "fig4.update_layout(template=\"plotly_dark\")\n",
    "\n",
    "fig4.show()\n"
   ]
  },
  {
   "cell_type": "code",
   "execution_count": 50,
   "metadata": {},
   "outputs": [
    {
     "data": {
      "application/vnd.plotly.v1+json": {
       "config": {
        "plotlyServerURL": "https://plotly.com"
       },
       "data": [
        {
         "customdata": [
          [
           "No",
           12,
           32
          ]
         ],
         "hovertemplate": "color=116th Congress (2019-2021)<br>Intro_bills=%{x}<br>y=%{y}<br>z=%{z}<br>size=%{marker.size}<br>Split_Gov=%{customdata[0]}<br>enacted_signed_by_pres=%{customdata[1]}<br>enacted_included_in_other_bill=%{customdata[2]}<extra></extra>",
         "legendgroup": "116th Congress (2019-2021)",
         "marker": {
          "color": "#636efa",
          "size": 10,
          "sizemode": "area",
          "sizeref": 0.3125,
          "symbol": "circle"
         },
         "mode": "markers",
         "name": "116th Congress (2019-2021)",
         "scene": "scene",
         "showlegend": true,
         "type": "scatter3d",
         "x": [
          421
         ],
         "y": [
          116.66666666666667
         ],
         "z": [
          42.42424242424242
         ]
        },
        {
         "customdata": [
          [
           "Yes",
           16,
           41
          ]
         ],
         "hovertemplate": "color=115th Congress (2017-2019)<br>Intro_bills=%{x}<br>y=%{y}<br>z=%{z}<br>size=%{marker.size}<br>Split_Gov=%{customdata[0]}<br>enacted_signed_by_pres=%{customdata[1]}<br>enacted_included_in_other_bill=%{customdata[2]}<extra></extra>",
         "legendgroup": "115th Congress (2017-2019)",
         "marker": {
          "color": "#EF553B",
          "size": 10,
          "sizemode": "area",
          "sizeref": 0.3125,
          "symbol": "circle"
         },
         "mode": "markers",
         "name": "115th Congress (2017-2019)",
         "scene": "scene",
         "showlegend": true,
         "type": "scatter3d",
         "x": [
          297
         ],
         "y": [
          93.75
         ],
         "z": [
          41.66666666666667
         ]
        },
        {
         "customdata": [
          [
           "No",
           4,
           10
          ]
         ],
         "hovertemplate": "color=114th Congress (2015-2017)<br>Intro_bills=%{x}<br>y=%{y}<br>z=%{z}<br>size=%{marker.size}<br>Split_Gov=%{customdata[0]}<br>enacted_signed_by_pres=%{customdata[1]}<br>enacted_included_in_other_bill=%{customdata[2]}<extra></extra>",
         "legendgroup": "114th Congress (2015-2017)",
         "marker": {
          "color": "#00cc96",
          "size": 10,
          "sizemode": "area",
          "sizeref": 0.3125,
          "symbol": "circle"
         },
         "mode": "markers",
         "name": "114th Congress (2015-2017)",
         "scene": "scene",
         "showlegend": true,
         "type": "scatter3d",
         "x": [
          169
         ],
         "y": [
          75
         ],
         "z": [
          10.714285714285714
         ]
        },
        {
         "customdata": [
          [
           "No",
           6,
           11
          ]
         ],
         "hovertemplate": "color=113th Congress (2013-2015)<br>Intro_bills=%{x}<br>y=%{y}<br>z=%{z}<br>size=%{marker.size}<br>Split_Gov=%{customdata[0]}<br>enacted_signed_by_pres=%{customdata[1]}<br>enacted_included_in_other_bill=%{customdata[2]}<extra></extra>",
         "legendgroup": "113th Congress (2013-2015)",
         "marker": {
          "color": "#ab63fa",
          "size": 10,
          "sizemode": "area",
          "sizeref": 0.3125,
          "symbol": "circle"
         },
         "mode": "markers",
         "name": "113th Congress (2013-2015)",
         "scene": "scene",
         "showlegend": true,
         "type": "scatter3d",
         "x": [
          148
         ],
         "y": [
          33.33333333333333
         ],
         "z": [
          13.333333333333334
         ]
        },
        {
         "customdata": [
          [
           "No",
           3,
           4
          ]
         ],
         "hovertemplate": "color=112th Congress (2011-2013)<br>Intro_bills=%{x}<br>y=%{y}<br>z=%{z}<br>size=%{marker.size}<br>Split_Gov=%{customdata[0]}<br>enacted_signed_by_pres=%{customdata[1]}<br>enacted_included_in_other_bill=%{customdata[2]}<extra></extra>",
         "legendgroup": "112th Congress (2011-2013)",
         "marker": {
          "color": "#FFA15A",
          "size": 10,
          "sizemode": "area",
          "sizeref": 0.3125,
          "symbol": "circle"
         },
         "mode": "markers",
         "name": "112th Congress (2011-2013)",
         "scene": "scene",
         "showlegend": true,
         "type": "scatter3d",
         "x": [
          124
         ],
         "y": [
          33.33333333333333
         ],
         "z": [
          12.5
         ]
        },
        {
         "customdata": [
          [
           "Yes",
           14,
           20
          ]
         ],
         "hovertemplate": "color=111th Congress (2009-2010)<br>Intro_bills=%{x}<br>y=%{y}<br>z=%{z}<br>size=%{marker.size}<br>Split_Gov=%{customdata[0]}<br>enacted_signed_by_pres=%{customdata[1]}<br>enacted_included_in_other_bill=%{customdata[2]}<extra></extra>",
         "legendgroup": "111th Congress (2009-2010)",
         "marker": {
          "color": "#19d3f3",
          "size": 10,
          "sizemode": "area",
          "sizeref": 0.3125,
          "symbol": "circle"
         },
         "mode": "markers",
         "name": "111th Congress (2009-2010)",
         "scene": "scene",
         "showlegend": true,
         "type": "scatter3d",
         "x": [
          147
         ],
         "y": [
          21.428571428571427
         ],
         "z": [
          20
         ]
        },
        {
         "customdata": [
          [
           "Yes",
           89,
           161
          ]
         ],
         "hovertemplate": "color=110th Congress (2007-2009)<br>Intro_bills=%{x}<br>y=%{y}<br>z=%{z}<br>size=%{marker.size}<br>Split_Gov=%{customdata[0]}<br>enacted_signed_by_pres=%{customdata[1]}<br>enacted_included_in_other_bill=%{customdata[2]}<extra></extra>",
         "legendgroup": "110th Congress (2007-2009)",
         "marker": {
          "color": "#FF6692",
          "size": 10,
          "sizemode": "area",
          "sizeref": 0.3125,
          "symbol": "circle"
         },
         "mode": "markers",
         "name": "110th Congress (2007-2009)",
         "scene": "scene",
         "showlegend": true,
         "type": "scatter3d",
         "x": [
          1850
         ],
         "y": [
          38.20224719101123
         ],
         "z": [
          17.346938775510203
         ]
        },
        {
         "customdata": [
          [
           "No",
           100,
           117
          ]
         ],
         "hovertemplate": "color=109th Congress (2005-2006)<br>Intro_bills=%{x}<br>y=%{y}<br>z=%{z}<br>size=%{marker.size}<br>Split_Gov=%{customdata[0]}<br>enacted_signed_by_pres=%{customdata[1]}<br>enacted_included_in_other_bill=%{customdata[2]}<extra></extra>",
         "legendgroup": "109th Congress (2005-2006)",
         "marker": {
          "color": "#B6E880",
          "size": 10,
          "sizemode": "area",
          "sizeref": 0.3125,
          "symbol": "circle"
         },
         "mode": "markers",
         "name": "109th Congress (2005-2006)",
         "scene": "scene",
         "showlegend": true,
         "type": "scatter3d",
         "x": [
          2004
         ],
         "y": [
          46
         ],
         "z": [
          43.39622641509434
         ]
        },
        {
         "customdata": [
          [
           "No",
           128,
           150
          ]
         ],
         "hovertemplate": "color=108th Congress (2003-2004)<br>Intro_bills=%{x}<br>y=%{y}<br>z=%{z}<br>size=%{marker.size}<br>Split_Gov=%{customdata[0]}<br>enacted_signed_by_pres=%{customdata[1]}<br>enacted_included_in_other_bill=%{customdata[2]}<extra></extra>",
         "legendgroup": "108th Congress (2003-2004)",
         "marker": {
          "color": "#FF97FF",
          "size": 10,
          "sizemode": "area",
          "sizeref": 0.3125,
          "symbol": "circle"
         },
         "mode": "markers",
         "name": "108th Congress (2003-2004)",
         "scene": "scene",
         "showlegend": true,
         "type": "scatter3d",
         "x": [
          1744
         ],
         "y": [
          68.75
         ],
         "z": [
          80.73394495412845
         ]
        },
        {
         "customdata": [
          [
           "No",
           97,
           116
          ]
         ],
         "hovertemplate": "color=107th Congress (2001-2002)<br>Intro_bills=%{x}<br>y=%{y}<br>z=%{z}<br>size=%{marker.size}<br>Split_Gov=%{customdata[0]}<br>enacted_signed_by_pres=%{customdata[1]}<br>enacted_included_in_other_bill=%{customdata[2]}<extra></extra>",
         "legendgroup": "107th Congress (2001-2002)",
         "marker": {
          "color": "#FECB52",
          "size": 10,
          "sizemode": "area",
          "sizeref": 0.3125,
          "symbol": "circle"
         },
         "mode": "markers",
         "name": "107th Congress (2001-2002)",
         "scene": "scene",
         "showlegend": true,
         "type": "scatter3d",
         "x": [
          1805
         ],
         "y": [
          59.79381443298969
         ],
         "z": [
          57.42574257425742
         ]
        },
        {
         "customdata": [
          [
           "Yes",
           149,
           185
          ]
         ],
         "hovertemplate": "color=106th Congress (1999-2000)<br>Intro_bills=%{x}<br>y=%{y}<br>z=%{z}<br>size=%{marker.size}<br>Split_Gov=%{customdata[0]}<br>enacted_signed_by_pres=%{customdata[1]}<br>enacted_included_in_other_bill=%{customdata[2]}<extra></extra>",
         "legendgroup": "106th Congress (1999-2000)",
         "marker": {
          "color": "#636efa",
          "size": 10,
          "sizemode": "area",
          "sizeref": 0.3125,
          "symbol": "circle"
         },
         "mode": "markers",
         "name": "106th Congress (1999-2000)",
         "scene": "scene",
         "showlegend": true,
         "type": "scatter3d",
         "x": [
          1782
         ],
         "y": [
          43.624161073825505
         ],
         "z": [
          61.904761904761905
         ]
        },
        {
         "customdata": [
          [
           "Yes",
           125,
           150
          ]
         ],
         "hovertemplate": "color=105th Congress (1997-1998)<br>Intro_bills=%{x}<br>y=%{y}<br>z=%{z}<br>size=%{marker.size}<br>Split_Gov=%{customdata[0]}<br>enacted_signed_by_pres=%{customdata[1]}<br>enacted_included_in_other_bill=%{customdata[2]}<extra></extra>",
         "legendgroup": "105th Congress (1997-1998)",
         "marker": {
          "color": "#EF553B",
          "size": 10,
          "sizemode": "area",
          "sizeref": 0.3125,
          "symbol": "circle"
         },
         "mode": "markers",
         "name": "105th Congress (1997-1998)",
         "scene": "scene",
         "showlegend": true,
         "type": "scatter3d",
         "x": [
          1360
         ],
         "y": [
          47.199999999999996
         ],
         "z": [
          68.6046511627907
         ]
        },
        {
         "customdata": [
          [
           "Yes",
           94,
           111
          ]
         ],
         "hovertemplate": "color=104th Congress (1995-1996)<br>Intro_bills=%{x}<br>y=%{y}<br>z=%{z}<br>size=%{marker.size}<br>Split_Gov=%{customdata[0]}<br>enacted_signed_by_pres=%{customdata[1]}<br>enacted_included_in_other_bill=%{customdata[2]}<extra></extra>",
         "legendgroup": "104th Congress (1995-1996)",
         "marker": {
          "color": "#00cc96",
          "size": 10,
          "sizemode": "area",
          "sizeref": 0.3125,
          "symbol": "circle"
         },
         "mode": "markers",
         "name": "104th Congress (1995-1996)",
         "scene": "scene",
         "showlegend": true,
         "type": "scatter3d",
         "x": [
          1039
         ],
         "y": [
          30.851063829787233
         ],
         "z": [
          34.93975903614458
         ]
        },
        {
         "customdata": [
          [
           "No",
           91,
           104
          ]
         ],
         "hovertemplate": "color=103rd Congress (1993-1994)<br>Intro_bills=%{x}<br>y=%{y}<br>z=%{z}<br>size=%{marker.size}<br>Split_Gov=%{customdata[0]}<br>enacted_signed_by_pres=%{customdata[1]}<br>enacted_included_in_other_bill=%{customdata[2]}<extra></extra>",
         "legendgroup": "103rd Congress (1993-1994)",
         "marker": {
          "color": "#ab63fa",
          "size": 10,
          "sizemode": "area",
          "sizeref": 0.3125,
          "symbol": "circle"
         },
         "mode": "markers",
         "name": "103rd Congress (1993-1994)",
         "scene": "scene",
         "showlegend": true,
         "type": "scatter3d",
         "x": [
          526
         ],
         "y": [
          40.65934065934066
         ],
         "z": [
          47.43589743589743
         ]
        },
        {
         "customdata": [
          [
           "Yes",
           31,
           33
          ]
         ],
         "hovertemplate": "color=102nd Congress (1991-1992)<br>Intro_bills=%{x}<br>y=%{y}<br>z=%{z}<br>size=%{marker.size}<br>Split_Gov=%{customdata[0]}<br>enacted_signed_by_pres=%{customdata[1]}<br>enacted_included_in_other_bill=%{customdata[2]}<extra></extra>",
         "legendgroup": "102nd Congress (1991-1992)",
         "marker": {
          "color": "#FFA15A",
          "size": 10,
          "sizemode": "area",
          "sizeref": 0.3125,
          "symbol": "circle"
         },
         "mode": "markers",
         "name": "102nd Congress (1991-1992)",
         "scene": "scene",
         "showlegend": true,
         "type": "scatter3d",
         "x": [
          118
         ],
         "y": [
          45.16129032258064
         ],
         "z": [
          77.77777777777779
         ]
        },
        {
         "customdata": [
          [
           "Yes",
           20,
           26
          ]
         ],
         "hovertemplate": "color=101st Congress (1989-1990)<br>Intro_bills=%{x}<br>y=%{y}<br>z=%{z}<br>size=%{marker.size}<br>Split_Gov=%{customdata[0]}<br>enacted_signed_by_pres=%{customdata[1]}<br>enacted_included_in_other_bill=%{customdata[2]}<extra></extra>",
         "legendgroup": "101st Congress (1989-1990)",
         "marker": {
          "color": "#19d3f3",
          "size": 10,
          "sizemode": "area",
          "sizeref": 0.3125,
          "symbol": "circle"
         },
         "mode": "markers",
         "name": "101st Congress (1989-1990)",
         "scene": "scene",
         "showlegend": true,
         "type": "scatter3d",
         "x": [
          88
         ],
         "y": [
          65
         ],
         "z": [
          100
         ]
        },
        {
         "customdata": [
          [
           "Yes",
           21,
           24
          ]
         ],
         "hovertemplate": "color=100th Congress (1987-1988)<br>Intro_bills=%{x}<br>y=%{y}<br>z=%{z}<br>size=%{marker.size}<br>Split_Gov=%{customdata[0]}<br>enacted_signed_by_pres=%{customdata[1]}<br>enacted_included_in_other_bill=%{customdata[2]}<extra></extra>",
         "legendgroup": "100th Congress (1987-1988)",
         "marker": {
          "color": "#FF6692",
          "size": 10,
          "sizemode": "area",
          "sizeref": 0.3125,
          "symbol": "circle"
         },
         "mode": "markers",
         "name": "100th Congress (1987-1988)",
         "scene": "scene",
         "showlegend": true,
         "type": "scatter3d",
         "x": [
          111
         ],
         "y": [
          9.523809523809524
         ],
         "z": [
          33.33333333333333
         ]
        },
        {
         "customdata": [
          [
           "No",
           18,
           21
          ]
         ],
         "hovertemplate": "color=99th Congress (1985-1986)<br>Intro_bills=%{x}<br>y=%{y}<br>z=%{z}<br>size=%{marker.size}<br>Split_Gov=%{customdata[0]}<br>enacted_signed_by_pres=%{customdata[1]}<br>enacted_included_in_other_bill=%{customdata[2]}<extra></extra>",
         "legendgroup": "99th Congress (1985-1986)",
         "marker": {
          "color": "#B6E880",
          "size": 10,
          "sizemode": "area",
          "sizeref": 0.3125,
          "symbol": "circle"
         },
         "mode": "markers",
         "name": "99th Congress (1985-1986)",
         "scene": "scene",
         "showlegend": true,
         "type": "scatter3d",
         "x": [
          122
         ],
         "y": [
          27.77777777777778
         ],
         "z": [
          125
         ]
        },
        {
         "customdata": [
          [
           "No",
           14,
           15
          ]
         ],
         "hovertemplate": "color=98th Congress (1983-1984)<br>Intro_bills=%{x}<br>y=%{y}<br>z=%{z}<br>size=%{marker.size}<br>Split_Gov=%{customdata[0]}<br>enacted_signed_by_pres=%{customdata[1]}<br>enacted_included_in_other_bill=%{customdata[2]}<extra></extra>",
         "legendgroup": "98th Congress (1983-1984)",
         "marker": {
          "color": "#FF97FF",
          "size": 10,
          "sizemode": "area",
          "sizeref": 0.3125,
          "symbol": "circle"
         },
         "mode": "markers",
         "name": "98th Congress (1983-1984)",
         "scene": "scene",
         "showlegend": true,
         "type": "scatter3d",
         "x": [
          176
         ],
         "y": [
          57.14285714285714
         ],
         "z": [
          114.28571428571428
         ]
        },
        {
         "customdata": [
          [
           "No",
           6,
           6
          ]
         ],
         "hovertemplate": "color=97th Congress (1981-1982)<br>Intro_bills=%{x}<br>y=%{y}<br>z=%{z}<br>size=%{marker.size}<br>Split_Gov=%{customdata[0]}<br>enacted_signed_by_pres=%{customdata[1]}<br>enacted_included_in_other_bill=%{customdata[2]}<extra></extra>",
         "legendgroup": "97th Congress (1981-1982)",
         "marker": {
          "color": "#FECB52",
          "size": 10,
          "sizemode": "area",
          "sizeref": 0.3125,
          "symbol": "circle"
         },
         "mode": "markers",
         "name": "97th Congress (1981-1982)",
         "scene": "scene",
         "showlegend": true,
         "type": "scatter3d",
         "x": [
          132
         ],
         "y": [
          150
         ],
         "z": [
          75
         ]
        },
        {
         "customdata": [
          [
           "No",
           21,
           25
          ]
         ],
         "hovertemplate": "color=96th Congress (1979-1980)<br>Intro_bills=%{x}<br>y=%{y}<br>z=%{z}<br>size=%{marker.size}<br>Split_Gov=%{customdata[0]}<br>enacted_signed_by_pres=%{customdata[1]}<br>enacted_included_in_other_bill=%{customdata[2]}<extra></extra>",
         "legendgroup": "96th Congress (1979-1980)",
         "marker": {
          "color": "#636efa",
          "size": 10,
          "sizemode": "area",
          "sizeref": 0.3125,
          "symbol": "circle"
         },
         "mode": "markers",
         "name": "96th Congress (1979-1980)",
         "scene": "scene",
         "showlegend": true,
         "type": "scatter3d",
         "x": [
          146
         ],
         "y": [
          28.57142857142857
         ],
         "z": [
          60
         ]
        },
        {
         "customdata": [
          [
           "No",
           13,
           14
          ]
         ],
         "hovertemplate": "color=95th Congress (1977-1978)<br>Intro_bills=%{x}<br>y=%{y}<br>z=%{z}<br>size=%{marker.size}<br>Split_Gov=%{customdata[0]}<br>enacted_signed_by_pres=%{customdata[1]}<br>enacted_included_in_other_bill=%{customdata[2]}<extra></extra>",
         "legendgroup": "95th Congress (1977-1978)",
         "marker": {
          "color": "#EF553B",
          "size": 10,
          "sizemode": "area",
          "sizeref": 0.3125,
          "symbol": "circle"
         },
         "mode": "markers",
         "name": "95th Congress (1977-1978)",
         "scene": "scene",
         "showlegend": true,
         "type": "scatter3d",
         "x": [
          308
         ],
         "y": [
          15.384615384615385
         ],
         "z": [
          66.66666666666666
         ]
        },
        {
         "customdata": [
          [
           "Yes",
           11,
           12
          ]
         ],
         "hovertemplate": "color=94th Congress (1975-1976)<br>Intro_bills=%{x}<br>y=%{y}<br>z=%{z}<br>size=%{marker.size}<br>Split_Gov=%{customdata[0]}<br>enacted_signed_by_pres=%{customdata[1]}<br>enacted_included_in_other_bill=%{customdata[2]}<extra></extra>",
         "legendgroup": "94th Congress (1975-1976)",
         "marker": {
          "color": "#00cc96",
          "size": 10,
          "sizemode": "area",
          "sizeref": 0.3125,
          "symbol": "circle"
         },
         "mode": "markers",
         "name": "94th Congress (1975-1976)",
         "scene": "scene",
         "showlegend": true,
         "type": "scatter3d",
         "x": [
          215
         ],
         "y": [
          18.181818181818183
         ],
         "z": [
          100
         ]
        },
        {
         "customdata": [
          [
           "Yes",
           9,
           14
          ]
         ],
         "hovertemplate": "color=93rd Congress (1973-1974)<br>Intro_bills=%{x}<br>y=%{y}<br>z=%{z}<br>size=%{marker.size}<br>Split_Gov=%{customdata[0]}<br>enacted_signed_by_pres=%{customdata[1]}<br>enacted_included_in_other_bill=%{customdata[2]}<extra></extra>",
         "legendgroup": "93rd Congress (1973-1974)",
         "marker": {
          "color": "#ab63fa",
          "size": 10,
          "sizemode": "area",
          "sizeref": 0.3125,
          "symbol": "circle"
         },
         "mode": "markers",
         "name": "93rd Congress (1973-1974)",
         "scene": "scene",
         "showlegend": true,
         "type": "scatter3d",
         "x": [
          384
         ],
         "y": [
          22.22222222222222
         ],
         "z": [
          100
         ]
        }
       ],
       "layout": {
        "legend": {
         "itemsizing": "constant",
         "title": {
          "text": "color"
         },
         "tracegroupgap": 0
        },
        "margin": {
         "t": 60
        },
        "scene": {
         "domain": {
          "x": [
           0,
           1
          ],
          "y": [
           0,
           1
          ]
         },
         "xaxis": {
          "title": {
           "text": "Intro_bills"
          }
         },
         "yaxis": {
          "title": {
           "text": "y"
          }
         },
         "zaxis": {
          "title": {
           "text": "z"
          }
         }
        },
        "template": {
         "data": {
          "bar": [
           {
            "error_x": {
             "color": "#f2f5fa"
            },
            "error_y": {
             "color": "#f2f5fa"
            },
            "marker": {
             "line": {
              "color": "rgb(17,17,17)",
              "width": 0.5
             }
            },
            "type": "bar"
           }
          ],
          "barpolar": [
           {
            "marker": {
             "line": {
              "color": "rgb(17,17,17)",
              "width": 0.5
             }
            },
            "type": "barpolar"
           }
          ],
          "carpet": [
           {
            "aaxis": {
             "endlinecolor": "#A2B1C6",
             "gridcolor": "#506784",
             "linecolor": "#506784",
             "minorgridcolor": "#506784",
             "startlinecolor": "#A2B1C6"
            },
            "baxis": {
             "endlinecolor": "#A2B1C6",
             "gridcolor": "#506784",
             "linecolor": "#506784",
             "minorgridcolor": "#506784",
             "startlinecolor": "#A2B1C6"
            },
            "type": "carpet"
           }
          ],
          "choropleth": [
           {
            "colorbar": {
             "outlinewidth": 0,
             "ticks": ""
            },
            "type": "choropleth"
           }
          ],
          "contour": [
           {
            "colorbar": {
             "outlinewidth": 0,
             "ticks": ""
            },
            "colorscale": [
             [
              0,
              "#0d0887"
             ],
             [
              0.1111111111111111,
              "#46039f"
             ],
             [
              0.2222222222222222,
              "#7201a8"
             ],
             [
              0.3333333333333333,
              "#9c179e"
             ],
             [
              0.4444444444444444,
              "#bd3786"
             ],
             [
              0.5555555555555556,
              "#d8576b"
             ],
             [
              0.6666666666666666,
              "#ed7953"
             ],
             [
              0.7777777777777778,
              "#fb9f3a"
             ],
             [
              0.8888888888888888,
              "#fdca26"
             ],
             [
              1,
              "#f0f921"
             ]
            ],
            "type": "contour"
           }
          ],
          "contourcarpet": [
           {
            "colorbar": {
             "outlinewidth": 0,
             "ticks": ""
            },
            "type": "contourcarpet"
           }
          ],
          "heatmap": [
           {
            "colorbar": {
             "outlinewidth": 0,
             "ticks": ""
            },
            "colorscale": [
             [
              0,
              "#0d0887"
             ],
             [
              0.1111111111111111,
              "#46039f"
             ],
             [
              0.2222222222222222,
              "#7201a8"
             ],
             [
              0.3333333333333333,
              "#9c179e"
             ],
             [
              0.4444444444444444,
              "#bd3786"
             ],
             [
              0.5555555555555556,
              "#d8576b"
             ],
             [
              0.6666666666666666,
              "#ed7953"
             ],
             [
              0.7777777777777778,
              "#fb9f3a"
             ],
             [
              0.8888888888888888,
              "#fdca26"
             ],
             [
              1,
              "#f0f921"
             ]
            ],
            "type": "heatmap"
           }
          ],
          "heatmapgl": [
           {
            "colorbar": {
             "outlinewidth": 0,
             "ticks": ""
            },
            "colorscale": [
             [
              0,
              "#0d0887"
             ],
             [
              0.1111111111111111,
              "#46039f"
             ],
             [
              0.2222222222222222,
              "#7201a8"
             ],
             [
              0.3333333333333333,
              "#9c179e"
             ],
             [
              0.4444444444444444,
              "#bd3786"
             ],
             [
              0.5555555555555556,
              "#d8576b"
             ],
             [
              0.6666666666666666,
              "#ed7953"
             ],
             [
              0.7777777777777778,
              "#fb9f3a"
             ],
             [
              0.8888888888888888,
              "#fdca26"
             ],
             [
              1,
              "#f0f921"
             ]
            ],
            "type": "heatmapgl"
           }
          ],
          "histogram": [
           {
            "marker": {
             "colorbar": {
              "outlinewidth": 0,
              "ticks": ""
             }
            },
            "type": "histogram"
           }
          ],
          "histogram2d": [
           {
            "colorbar": {
             "outlinewidth": 0,
             "ticks": ""
            },
            "colorscale": [
             [
              0,
              "#0d0887"
             ],
             [
              0.1111111111111111,
              "#46039f"
             ],
             [
              0.2222222222222222,
              "#7201a8"
             ],
             [
              0.3333333333333333,
              "#9c179e"
             ],
             [
              0.4444444444444444,
              "#bd3786"
             ],
             [
              0.5555555555555556,
              "#d8576b"
             ],
             [
              0.6666666666666666,
              "#ed7953"
             ],
             [
              0.7777777777777778,
              "#fb9f3a"
             ],
             [
              0.8888888888888888,
              "#fdca26"
             ],
             [
              1,
              "#f0f921"
             ]
            ],
            "type": "histogram2d"
           }
          ],
          "histogram2dcontour": [
           {
            "colorbar": {
             "outlinewidth": 0,
             "ticks": ""
            },
            "colorscale": [
             [
              0,
              "#0d0887"
             ],
             [
              0.1111111111111111,
              "#46039f"
             ],
             [
              0.2222222222222222,
              "#7201a8"
             ],
             [
              0.3333333333333333,
              "#9c179e"
             ],
             [
              0.4444444444444444,
              "#bd3786"
             ],
             [
              0.5555555555555556,
              "#d8576b"
             ],
             [
              0.6666666666666666,
              "#ed7953"
             ],
             [
              0.7777777777777778,
              "#fb9f3a"
             ],
             [
              0.8888888888888888,
              "#fdca26"
             ],
             [
              1,
              "#f0f921"
             ]
            ],
            "type": "histogram2dcontour"
           }
          ],
          "mesh3d": [
           {
            "colorbar": {
             "outlinewidth": 0,
             "ticks": ""
            },
            "type": "mesh3d"
           }
          ],
          "parcoords": [
           {
            "line": {
             "colorbar": {
              "outlinewidth": 0,
              "ticks": ""
             }
            },
            "type": "parcoords"
           }
          ],
          "pie": [
           {
            "automargin": true,
            "type": "pie"
           }
          ],
          "scatter": [
           {
            "marker": {
             "line": {
              "color": "#283442"
             }
            },
            "type": "scatter"
           }
          ],
          "scatter3d": [
           {
            "line": {
             "colorbar": {
              "outlinewidth": 0,
              "ticks": ""
             }
            },
            "marker": {
             "colorbar": {
              "outlinewidth": 0,
              "ticks": ""
             }
            },
            "type": "scatter3d"
           }
          ],
          "scattercarpet": [
           {
            "marker": {
             "colorbar": {
              "outlinewidth": 0,
              "ticks": ""
             }
            },
            "type": "scattercarpet"
           }
          ],
          "scattergeo": [
           {
            "marker": {
             "colorbar": {
              "outlinewidth": 0,
              "ticks": ""
             }
            },
            "type": "scattergeo"
           }
          ],
          "scattergl": [
           {
            "marker": {
             "line": {
              "color": "#283442"
             }
            },
            "type": "scattergl"
           }
          ],
          "scattermapbox": [
           {
            "marker": {
             "colorbar": {
              "outlinewidth": 0,
              "ticks": ""
             }
            },
            "type": "scattermapbox"
           }
          ],
          "scatterpolar": [
           {
            "marker": {
             "colorbar": {
              "outlinewidth": 0,
              "ticks": ""
             }
            },
            "type": "scatterpolar"
           }
          ],
          "scatterpolargl": [
           {
            "marker": {
             "colorbar": {
              "outlinewidth": 0,
              "ticks": ""
             }
            },
            "type": "scatterpolargl"
           }
          ],
          "scatterternary": [
           {
            "marker": {
             "colorbar": {
              "outlinewidth": 0,
              "ticks": ""
             }
            },
            "type": "scatterternary"
           }
          ],
          "surface": [
           {
            "colorbar": {
             "outlinewidth": 0,
             "ticks": ""
            },
            "colorscale": [
             [
              0,
              "#0d0887"
             ],
             [
              0.1111111111111111,
              "#46039f"
             ],
             [
              0.2222222222222222,
              "#7201a8"
             ],
             [
              0.3333333333333333,
              "#9c179e"
             ],
             [
              0.4444444444444444,
              "#bd3786"
             ],
             [
              0.5555555555555556,
              "#d8576b"
             ],
             [
              0.6666666666666666,
              "#ed7953"
             ],
             [
              0.7777777777777778,
              "#fb9f3a"
             ],
             [
              0.8888888888888888,
              "#fdca26"
             ],
             [
              1,
              "#f0f921"
             ]
            ],
            "type": "surface"
           }
          ],
          "table": [
           {
            "cells": {
             "fill": {
              "color": "#506784"
             },
             "line": {
              "color": "rgb(17,17,17)"
             }
            },
            "header": {
             "fill": {
              "color": "#2a3f5f"
             },
             "line": {
              "color": "rgb(17,17,17)"
             }
            },
            "type": "table"
           }
          ]
         },
         "layout": {
          "annotationdefaults": {
           "arrowcolor": "#f2f5fa",
           "arrowhead": 0,
           "arrowwidth": 1
          },
          "coloraxis": {
           "colorbar": {
            "outlinewidth": 0,
            "ticks": ""
           }
          },
          "colorscale": {
           "diverging": [
            [
             0,
             "#8e0152"
            ],
            [
             0.1,
             "#c51b7d"
            ],
            [
             0.2,
             "#de77ae"
            ],
            [
             0.3,
             "#f1b6da"
            ],
            [
             0.4,
             "#fde0ef"
            ],
            [
             0.5,
             "#f7f7f7"
            ],
            [
             0.6,
             "#e6f5d0"
            ],
            [
             0.7,
             "#b8e186"
            ],
            [
             0.8,
             "#7fbc41"
            ],
            [
             0.9,
             "#4d9221"
            ],
            [
             1,
             "#276419"
            ]
           ],
           "sequential": [
            [
             0,
             "#0d0887"
            ],
            [
             0.1111111111111111,
             "#46039f"
            ],
            [
             0.2222222222222222,
             "#7201a8"
            ],
            [
             0.3333333333333333,
             "#9c179e"
            ],
            [
             0.4444444444444444,
             "#bd3786"
            ],
            [
             0.5555555555555556,
             "#d8576b"
            ],
            [
             0.6666666666666666,
             "#ed7953"
            ],
            [
             0.7777777777777778,
             "#fb9f3a"
            ],
            [
             0.8888888888888888,
             "#fdca26"
            ],
            [
             1,
             "#f0f921"
            ]
           ],
           "sequentialminus": [
            [
             0,
             "#0d0887"
            ],
            [
             0.1111111111111111,
             "#46039f"
            ],
            [
             0.2222222222222222,
             "#7201a8"
            ],
            [
             0.3333333333333333,
             "#9c179e"
            ],
            [
             0.4444444444444444,
             "#bd3786"
            ],
            [
             0.5555555555555556,
             "#d8576b"
            ],
            [
             0.6666666666666666,
             "#ed7953"
            ],
            [
             0.7777777777777778,
             "#fb9f3a"
            ],
            [
             0.8888888888888888,
             "#fdca26"
            ],
            [
             1,
             "#f0f921"
            ]
           ]
          },
          "colorway": [
           "#636efa",
           "#EF553B",
           "#00cc96",
           "#ab63fa",
           "#FFA15A",
           "#19d3f3",
           "#FF6692",
           "#B6E880",
           "#FF97FF",
           "#FECB52"
          ],
          "font": {
           "color": "#f2f5fa"
          },
          "geo": {
           "bgcolor": "rgb(17,17,17)",
           "lakecolor": "rgb(17,17,17)",
           "landcolor": "rgb(17,17,17)",
           "showlakes": true,
           "showland": true,
           "subunitcolor": "#506784"
          },
          "hoverlabel": {
           "align": "left"
          },
          "hovermode": "closest",
          "mapbox": {
           "style": "dark"
          },
          "paper_bgcolor": "rgb(17,17,17)",
          "plot_bgcolor": "rgb(17,17,17)",
          "polar": {
           "angularaxis": {
            "gridcolor": "#506784",
            "linecolor": "#506784",
            "ticks": ""
           },
           "bgcolor": "rgb(17,17,17)",
           "radialaxis": {
            "gridcolor": "#506784",
            "linecolor": "#506784",
            "ticks": ""
           }
          },
          "scene": {
           "xaxis": {
            "backgroundcolor": "rgb(17,17,17)",
            "gridcolor": "#506784",
            "gridwidth": 2,
            "linecolor": "#506784",
            "showbackground": true,
            "ticks": "",
            "zerolinecolor": "#C8D4E3"
           },
           "yaxis": {
            "backgroundcolor": "rgb(17,17,17)",
            "gridcolor": "#506784",
            "gridwidth": 2,
            "linecolor": "#506784",
            "showbackground": true,
            "ticks": "",
            "zerolinecolor": "#C8D4E3"
           },
           "zaxis": {
            "backgroundcolor": "rgb(17,17,17)",
            "gridcolor": "#506784",
            "gridwidth": 2,
            "linecolor": "#506784",
            "showbackground": true,
            "ticks": "",
            "zerolinecolor": "#C8D4E3"
           }
          },
          "shapedefaults": {
           "line": {
            "color": "#f2f5fa"
           }
          },
          "sliderdefaults": {
           "bgcolor": "#C8D4E3",
           "bordercolor": "rgb(17,17,17)",
           "borderwidth": 1,
           "tickwidth": 0
          },
          "ternary": {
           "aaxis": {
            "gridcolor": "#506784",
            "linecolor": "#506784",
            "ticks": ""
           },
           "baxis": {
            "gridcolor": "#506784",
            "linecolor": "#506784",
            "ticks": ""
           },
           "bgcolor": "rgb(17,17,17)",
           "caxis": {
            "gridcolor": "#506784",
            "linecolor": "#506784",
            "ticks": ""
           }
          },
          "title": {
           "x": 0.05
          },
          "updatemenudefaults": {
           "bgcolor": "#506784",
           "borderwidth": 0
          },
          "xaxis": {
           "automargin": true,
           "gridcolor": "#283442",
           "linecolor": "#506784",
           "ticks": "",
           "title": {
            "standoff": 15
           },
           "zerolinecolor": "#283442",
           "zerolinewidth": 2
          },
          "yaxis": {
           "automargin": true,
           "gridcolor": "#283442",
           "linecolor": "#506784",
           "ticks": "",
           "title": {
            "standoff": 15
           },
           "zerolinecolor": "#283442",
           "zerolinewidth": 2
          }
         }
        },
        "title": {
         "text": "Cumulative Stem Bills Introduced, Passed, and Enacted"
        },
        "xaxis": {
         "title": {
          "text": "STEM Bills Introduced per Congress"
         }
        },
        "yaxis": {
         "title": {
          "text": "Bills Enacted"
         }
        }
       }
      },
      "text/html": [
       "<div>                            <div id=\"758b2c2c-d0a9-47dc-9f63-f8f23986205d\" class=\"plotly-graph-div\" style=\"height:525px; width:100%;\"></div>            <script type=\"text/javascript\">                require([\"plotly\"], function(Plotly) {                    window.PLOTLYENV=window.PLOTLYENV || {};                                    if (document.getElementById(\"758b2c2c-d0a9-47dc-9f63-f8f23986205d\")) {                    Plotly.newPlot(                        \"758b2c2c-d0a9-47dc-9f63-f8f23986205d\",                        [{\"customdata\": [[\"No\", 12, 32]], \"hovertemplate\": \"color=116th Congress (2019-2021)<br>Intro_bills=%{x}<br>y=%{y}<br>z=%{z}<br>size=%{marker.size}<br>Split_Gov=%{customdata[0]}<br>enacted_signed_by_pres=%{customdata[1]}<br>enacted_included_in_other_bill=%{customdata[2]}<extra></extra>\", \"legendgroup\": \"116th Congress (2019-2021)\", \"marker\": {\"color\": \"#636efa\", \"size\": 10, \"sizemode\": \"area\", \"sizeref\": 0.3125, \"symbol\": \"circle\"}, \"mode\": \"markers\", \"name\": \"116th Congress (2019-2021)\", \"scene\": \"scene\", \"showlegend\": true, \"type\": \"scatter3d\", \"x\": [421], \"y\": [116.66666666666667], \"z\": [42.42424242424242]}, {\"customdata\": [[\"Yes\", 16, 41]], \"hovertemplate\": \"color=115th Congress (2017-2019)<br>Intro_bills=%{x}<br>y=%{y}<br>z=%{z}<br>size=%{marker.size}<br>Split_Gov=%{customdata[0]}<br>enacted_signed_by_pres=%{customdata[1]}<br>enacted_included_in_other_bill=%{customdata[2]}<extra></extra>\", \"legendgroup\": \"115th Congress (2017-2019)\", \"marker\": {\"color\": \"#EF553B\", \"size\": 10, \"sizemode\": \"area\", \"sizeref\": 0.3125, \"symbol\": \"circle\"}, \"mode\": \"markers\", \"name\": \"115th Congress (2017-2019)\", \"scene\": \"scene\", \"showlegend\": true, \"type\": \"scatter3d\", \"x\": [297], \"y\": [93.75], \"z\": [41.66666666666667]}, {\"customdata\": [[\"No\", 4, 10]], \"hovertemplate\": \"color=114th Congress (2015-2017)<br>Intro_bills=%{x}<br>y=%{y}<br>z=%{z}<br>size=%{marker.size}<br>Split_Gov=%{customdata[0]}<br>enacted_signed_by_pres=%{customdata[1]}<br>enacted_included_in_other_bill=%{customdata[2]}<extra></extra>\", \"legendgroup\": \"114th Congress (2015-2017)\", \"marker\": {\"color\": \"#00cc96\", \"size\": 10, \"sizemode\": \"area\", \"sizeref\": 0.3125, \"symbol\": \"circle\"}, \"mode\": \"markers\", \"name\": \"114th Congress (2015-2017)\", \"scene\": \"scene\", \"showlegend\": true, \"type\": \"scatter3d\", \"x\": [169], \"y\": [75.0], \"z\": [10.714285714285714]}, {\"customdata\": [[\"No\", 6, 11]], \"hovertemplate\": \"color=113th Congress (2013-2015)<br>Intro_bills=%{x}<br>y=%{y}<br>z=%{z}<br>size=%{marker.size}<br>Split_Gov=%{customdata[0]}<br>enacted_signed_by_pres=%{customdata[1]}<br>enacted_included_in_other_bill=%{customdata[2]}<extra></extra>\", \"legendgroup\": \"113th Congress (2013-2015)\", \"marker\": {\"color\": \"#ab63fa\", \"size\": 10, \"sizemode\": \"area\", \"sizeref\": 0.3125, \"symbol\": \"circle\"}, \"mode\": \"markers\", \"name\": \"113th Congress (2013-2015)\", \"scene\": \"scene\", \"showlegend\": true, \"type\": \"scatter3d\", \"x\": [148], \"y\": [33.33333333333333], \"z\": [13.333333333333334]}, {\"customdata\": [[\"No\", 3, 4]], \"hovertemplate\": \"color=112th Congress (2011-2013)<br>Intro_bills=%{x}<br>y=%{y}<br>z=%{z}<br>size=%{marker.size}<br>Split_Gov=%{customdata[0]}<br>enacted_signed_by_pres=%{customdata[1]}<br>enacted_included_in_other_bill=%{customdata[2]}<extra></extra>\", \"legendgroup\": \"112th Congress (2011-2013)\", \"marker\": {\"color\": \"#FFA15A\", \"size\": 10, \"sizemode\": \"area\", \"sizeref\": 0.3125, \"symbol\": \"circle\"}, \"mode\": \"markers\", \"name\": \"112th Congress (2011-2013)\", \"scene\": \"scene\", \"showlegend\": true, \"type\": \"scatter3d\", \"x\": [124], \"y\": [33.33333333333333], \"z\": [12.5]}, {\"customdata\": [[\"Yes\", 14, 20]], \"hovertemplate\": \"color=111th Congress (2009-2010)<br>Intro_bills=%{x}<br>y=%{y}<br>z=%{z}<br>size=%{marker.size}<br>Split_Gov=%{customdata[0]}<br>enacted_signed_by_pres=%{customdata[1]}<br>enacted_included_in_other_bill=%{customdata[2]}<extra></extra>\", \"legendgroup\": \"111th Congress (2009-2010)\", \"marker\": {\"color\": \"#19d3f3\", \"size\": 10, \"sizemode\": \"area\", \"sizeref\": 0.3125, \"symbol\": \"circle\"}, \"mode\": \"markers\", \"name\": \"111th Congress (2009-2010)\", \"scene\": \"scene\", \"showlegend\": true, \"type\": \"scatter3d\", \"x\": [147], \"y\": [21.428571428571427], \"z\": [20.0]}, {\"customdata\": [[\"Yes\", 89, 161]], \"hovertemplate\": \"color=110th Congress (2007-2009)<br>Intro_bills=%{x}<br>y=%{y}<br>z=%{z}<br>size=%{marker.size}<br>Split_Gov=%{customdata[0]}<br>enacted_signed_by_pres=%{customdata[1]}<br>enacted_included_in_other_bill=%{customdata[2]}<extra></extra>\", \"legendgroup\": \"110th Congress (2007-2009)\", \"marker\": {\"color\": \"#FF6692\", \"size\": 10, \"sizemode\": \"area\", \"sizeref\": 0.3125, \"symbol\": \"circle\"}, \"mode\": \"markers\", \"name\": \"110th Congress (2007-2009)\", \"scene\": \"scene\", \"showlegend\": true, \"type\": \"scatter3d\", \"x\": [1850], \"y\": [38.20224719101123], \"z\": [17.346938775510203]}, {\"customdata\": [[\"No\", 100, 117]], \"hovertemplate\": \"color=109th Congress (2005-2006)<br>Intro_bills=%{x}<br>y=%{y}<br>z=%{z}<br>size=%{marker.size}<br>Split_Gov=%{customdata[0]}<br>enacted_signed_by_pres=%{customdata[1]}<br>enacted_included_in_other_bill=%{customdata[2]}<extra></extra>\", \"legendgroup\": \"109th Congress (2005-2006)\", \"marker\": {\"color\": \"#B6E880\", \"size\": 10, \"sizemode\": \"area\", \"sizeref\": 0.3125, \"symbol\": \"circle\"}, \"mode\": \"markers\", \"name\": \"109th Congress (2005-2006)\", \"scene\": \"scene\", \"showlegend\": true, \"type\": \"scatter3d\", \"x\": [2004], \"y\": [46.0], \"z\": [43.39622641509434]}, {\"customdata\": [[\"No\", 128, 150]], \"hovertemplate\": \"color=108th Congress (2003-2004)<br>Intro_bills=%{x}<br>y=%{y}<br>z=%{z}<br>size=%{marker.size}<br>Split_Gov=%{customdata[0]}<br>enacted_signed_by_pres=%{customdata[1]}<br>enacted_included_in_other_bill=%{customdata[2]}<extra></extra>\", \"legendgroup\": \"108th Congress (2003-2004)\", \"marker\": {\"color\": \"#FF97FF\", \"size\": 10, \"sizemode\": \"area\", \"sizeref\": 0.3125, \"symbol\": \"circle\"}, \"mode\": \"markers\", \"name\": \"108th Congress (2003-2004)\", \"scene\": \"scene\", \"showlegend\": true, \"type\": \"scatter3d\", \"x\": [1744], \"y\": [68.75], \"z\": [80.73394495412845]}, {\"customdata\": [[\"No\", 97, 116]], \"hovertemplate\": \"color=107th Congress (2001-2002)<br>Intro_bills=%{x}<br>y=%{y}<br>z=%{z}<br>size=%{marker.size}<br>Split_Gov=%{customdata[0]}<br>enacted_signed_by_pres=%{customdata[1]}<br>enacted_included_in_other_bill=%{customdata[2]}<extra></extra>\", \"legendgroup\": \"107th Congress (2001-2002)\", \"marker\": {\"color\": \"#FECB52\", \"size\": 10, \"sizemode\": \"area\", \"sizeref\": 0.3125, \"symbol\": \"circle\"}, \"mode\": \"markers\", \"name\": \"107th Congress (2001-2002)\", \"scene\": \"scene\", \"showlegend\": true, \"type\": \"scatter3d\", \"x\": [1805], \"y\": [59.79381443298969], \"z\": [57.42574257425742]}, {\"customdata\": [[\"Yes\", 149, 185]], \"hovertemplate\": \"color=106th Congress (1999-2000)<br>Intro_bills=%{x}<br>y=%{y}<br>z=%{z}<br>size=%{marker.size}<br>Split_Gov=%{customdata[0]}<br>enacted_signed_by_pres=%{customdata[1]}<br>enacted_included_in_other_bill=%{customdata[2]}<extra></extra>\", \"legendgroup\": \"106th Congress (1999-2000)\", \"marker\": {\"color\": \"#636efa\", \"size\": 10, \"sizemode\": \"area\", \"sizeref\": 0.3125, \"symbol\": \"circle\"}, \"mode\": \"markers\", \"name\": \"106th Congress (1999-2000)\", \"scene\": \"scene\", \"showlegend\": true, \"type\": \"scatter3d\", \"x\": [1782], \"y\": [43.624161073825505], \"z\": [61.904761904761905]}, {\"customdata\": [[\"Yes\", 125, 150]], \"hovertemplate\": \"color=105th Congress (1997-1998)<br>Intro_bills=%{x}<br>y=%{y}<br>z=%{z}<br>size=%{marker.size}<br>Split_Gov=%{customdata[0]}<br>enacted_signed_by_pres=%{customdata[1]}<br>enacted_included_in_other_bill=%{customdata[2]}<extra></extra>\", \"legendgroup\": \"105th Congress (1997-1998)\", \"marker\": {\"color\": \"#EF553B\", \"size\": 10, \"sizemode\": \"area\", \"sizeref\": 0.3125, \"symbol\": \"circle\"}, \"mode\": \"markers\", \"name\": \"105th Congress (1997-1998)\", \"scene\": \"scene\", \"showlegend\": true, \"type\": \"scatter3d\", \"x\": [1360], \"y\": [47.199999999999996], \"z\": [68.6046511627907]}, {\"customdata\": [[\"Yes\", 94, 111]], \"hovertemplate\": \"color=104th Congress (1995-1996)<br>Intro_bills=%{x}<br>y=%{y}<br>z=%{z}<br>size=%{marker.size}<br>Split_Gov=%{customdata[0]}<br>enacted_signed_by_pres=%{customdata[1]}<br>enacted_included_in_other_bill=%{customdata[2]}<extra></extra>\", \"legendgroup\": \"104th Congress (1995-1996)\", \"marker\": {\"color\": \"#00cc96\", \"size\": 10, \"sizemode\": \"area\", \"sizeref\": 0.3125, \"symbol\": \"circle\"}, \"mode\": \"markers\", \"name\": \"104th Congress (1995-1996)\", \"scene\": \"scene\", \"showlegend\": true, \"type\": \"scatter3d\", \"x\": [1039], \"y\": [30.851063829787233], \"z\": [34.93975903614458]}, {\"customdata\": [[\"No\", 91, 104]], \"hovertemplate\": \"color=103rd Congress (1993-1994)<br>Intro_bills=%{x}<br>y=%{y}<br>z=%{z}<br>size=%{marker.size}<br>Split_Gov=%{customdata[0]}<br>enacted_signed_by_pres=%{customdata[1]}<br>enacted_included_in_other_bill=%{customdata[2]}<extra></extra>\", \"legendgroup\": \"103rd Congress (1993-1994)\", \"marker\": {\"color\": \"#ab63fa\", \"size\": 10, \"sizemode\": \"area\", \"sizeref\": 0.3125, \"symbol\": \"circle\"}, \"mode\": \"markers\", \"name\": \"103rd Congress (1993-1994)\", \"scene\": \"scene\", \"showlegend\": true, \"type\": \"scatter3d\", \"x\": [526], \"y\": [40.65934065934066], \"z\": [47.43589743589743]}, {\"customdata\": [[\"Yes\", 31, 33]], \"hovertemplate\": \"color=102nd Congress (1991-1992)<br>Intro_bills=%{x}<br>y=%{y}<br>z=%{z}<br>size=%{marker.size}<br>Split_Gov=%{customdata[0]}<br>enacted_signed_by_pres=%{customdata[1]}<br>enacted_included_in_other_bill=%{customdata[2]}<extra></extra>\", \"legendgroup\": \"102nd Congress (1991-1992)\", \"marker\": {\"color\": \"#FFA15A\", \"size\": 10, \"sizemode\": \"area\", \"sizeref\": 0.3125, \"symbol\": \"circle\"}, \"mode\": \"markers\", \"name\": \"102nd Congress (1991-1992)\", \"scene\": \"scene\", \"showlegend\": true, \"type\": \"scatter3d\", \"x\": [118], \"y\": [45.16129032258064], \"z\": [77.77777777777779]}, {\"customdata\": [[\"Yes\", 20, 26]], \"hovertemplate\": \"color=101st Congress (1989-1990)<br>Intro_bills=%{x}<br>y=%{y}<br>z=%{z}<br>size=%{marker.size}<br>Split_Gov=%{customdata[0]}<br>enacted_signed_by_pres=%{customdata[1]}<br>enacted_included_in_other_bill=%{customdata[2]}<extra></extra>\", \"legendgroup\": \"101st Congress (1989-1990)\", \"marker\": {\"color\": \"#19d3f3\", \"size\": 10, \"sizemode\": \"area\", \"sizeref\": 0.3125, \"symbol\": \"circle\"}, \"mode\": \"markers\", \"name\": \"101st Congress (1989-1990)\", \"scene\": \"scene\", \"showlegend\": true, \"type\": \"scatter3d\", \"x\": [88], \"y\": [65.0], \"z\": [100.0]}, {\"customdata\": [[\"Yes\", 21, 24]], \"hovertemplate\": \"color=100th Congress (1987-1988)<br>Intro_bills=%{x}<br>y=%{y}<br>z=%{z}<br>size=%{marker.size}<br>Split_Gov=%{customdata[0]}<br>enacted_signed_by_pres=%{customdata[1]}<br>enacted_included_in_other_bill=%{customdata[2]}<extra></extra>\", \"legendgroup\": \"100th Congress (1987-1988)\", \"marker\": {\"color\": \"#FF6692\", \"size\": 10, \"sizemode\": \"area\", \"sizeref\": 0.3125, \"symbol\": \"circle\"}, \"mode\": \"markers\", \"name\": \"100th Congress (1987-1988)\", \"scene\": \"scene\", \"showlegend\": true, \"type\": \"scatter3d\", \"x\": [111], \"y\": [9.523809523809524], \"z\": [33.33333333333333]}, {\"customdata\": [[\"No\", 18, 21]], \"hovertemplate\": \"color=99th Congress (1985-1986)<br>Intro_bills=%{x}<br>y=%{y}<br>z=%{z}<br>size=%{marker.size}<br>Split_Gov=%{customdata[0]}<br>enacted_signed_by_pres=%{customdata[1]}<br>enacted_included_in_other_bill=%{customdata[2]}<extra></extra>\", \"legendgroup\": \"99th Congress (1985-1986)\", \"marker\": {\"color\": \"#B6E880\", \"size\": 10, \"sizemode\": \"area\", \"sizeref\": 0.3125, \"symbol\": \"circle\"}, \"mode\": \"markers\", \"name\": \"99th Congress (1985-1986)\", \"scene\": \"scene\", \"showlegend\": true, \"type\": \"scatter3d\", \"x\": [122], \"y\": [27.77777777777778], \"z\": [125.0]}, {\"customdata\": [[\"No\", 14, 15]], \"hovertemplate\": \"color=98th Congress (1983-1984)<br>Intro_bills=%{x}<br>y=%{y}<br>z=%{z}<br>size=%{marker.size}<br>Split_Gov=%{customdata[0]}<br>enacted_signed_by_pres=%{customdata[1]}<br>enacted_included_in_other_bill=%{customdata[2]}<extra></extra>\", \"legendgroup\": \"98th Congress (1983-1984)\", \"marker\": {\"color\": \"#FF97FF\", \"size\": 10, \"sizemode\": \"area\", \"sizeref\": 0.3125, \"symbol\": \"circle\"}, \"mode\": \"markers\", \"name\": \"98th Congress (1983-1984)\", \"scene\": \"scene\", \"showlegend\": true, \"type\": \"scatter3d\", \"x\": [176], \"y\": [57.14285714285714], \"z\": [114.28571428571428]}, {\"customdata\": [[\"No\", 6, 6]], \"hovertemplate\": \"color=97th Congress (1981-1982)<br>Intro_bills=%{x}<br>y=%{y}<br>z=%{z}<br>size=%{marker.size}<br>Split_Gov=%{customdata[0]}<br>enacted_signed_by_pres=%{customdata[1]}<br>enacted_included_in_other_bill=%{customdata[2]}<extra></extra>\", \"legendgroup\": \"97th Congress (1981-1982)\", \"marker\": {\"color\": \"#FECB52\", \"size\": 10, \"sizemode\": \"area\", \"sizeref\": 0.3125, \"symbol\": \"circle\"}, \"mode\": \"markers\", \"name\": \"97th Congress (1981-1982)\", \"scene\": \"scene\", \"showlegend\": true, \"type\": \"scatter3d\", \"x\": [132], \"y\": [150.0], \"z\": [75.0]}, {\"customdata\": [[\"No\", 21, 25]], \"hovertemplate\": \"color=96th Congress (1979-1980)<br>Intro_bills=%{x}<br>y=%{y}<br>z=%{z}<br>size=%{marker.size}<br>Split_Gov=%{customdata[0]}<br>enacted_signed_by_pres=%{customdata[1]}<br>enacted_included_in_other_bill=%{customdata[2]}<extra></extra>\", \"legendgroup\": \"96th Congress (1979-1980)\", \"marker\": {\"color\": \"#636efa\", \"size\": 10, \"sizemode\": \"area\", \"sizeref\": 0.3125, \"symbol\": \"circle\"}, \"mode\": \"markers\", \"name\": \"96th Congress (1979-1980)\", \"scene\": \"scene\", \"showlegend\": true, \"type\": \"scatter3d\", \"x\": [146], \"y\": [28.57142857142857], \"z\": [60.0]}, {\"customdata\": [[\"No\", 13, 14]], \"hovertemplate\": \"color=95th Congress (1977-1978)<br>Intro_bills=%{x}<br>y=%{y}<br>z=%{z}<br>size=%{marker.size}<br>Split_Gov=%{customdata[0]}<br>enacted_signed_by_pres=%{customdata[1]}<br>enacted_included_in_other_bill=%{customdata[2]}<extra></extra>\", \"legendgroup\": \"95th Congress (1977-1978)\", \"marker\": {\"color\": \"#EF553B\", \"size\": 10, \"sizemode\": \"area\", \"sizeref\": 0.3125, \"symbol\": \"circle\"}, \"mode\": \"markers\", \"name\": \"95th Congress (1977-1978)\", \"scene\": \"scene\", \"showlegend\": true, \"type\": \"scatter3d\", \"x\": [308], \"y\": [15.384615384615385], \"z\": [66.66666666666666]}, {\"customdata\": [[\"Yes\", 11, 12]], \"hovertemplate\": \"color=94th Congress (1975-1976)<br>Intro_bills=%{x}<br>y=%{y}<br>z=%{z}<br>size=%{marker.size}<br>Split_Gov=%{customdata[0]}<br>enacted_signed_by_pres=%{customdata[1]}<br>enacted_included_in_other_bill=%{customdata[2]}<extra></extra>\", \"legendgroup\": \"94th Congress (1975-1976)\", \"marker\": {\"color\": \"#00cc96\", \"size\": 10, \"sizemode\": \"area\", \"sizeref\": 0.3125, \"symbol\": \"circle\"}, \"mode\": \"markers\", \"name\": \"94th Congress (1975-1976)\", \"scene\": \"scene\", \"showlegend\": true, \"type\": \"scatter3d\", \"x\": [215], \"y\": [18.181818181818183], \"z\": [100.0]}, {\"customdata\": [[\"Yes\", 9, 14]], \"hovertemplate\": \"color=93rd Congress (1973-1974)<br>Intro_bills=%{x}<br>y=%{y}<br>z=%{z}<br>size=%{marker.size}<br>Split_Gov=%{customdata[0]}<br>enacted_signed_by_pres=%{customdata[1]}<br>enacted_included_in_other_bill=%{customdata[2]}<extra></extra>\", \"legendgroup\": \"93rd Congress (1973-1974)\", \"marker\": {\"color\": \"#ab63fa\", \"size\": 10, \"sizemode\": \"area\", \"sizeref\": 0.3125, \"symbol\": \"circle\"}, \"mode\": \"markers\", \"name\": \"93rd Congress (1973-1974)\", \"scene\": \"scene\", \"showlegend\": true, \"type\": \"scatter3d\", \"x\": [384], \"y\": [22.22222222222222], \"z\": [100.0]}],                        {\"legend\": {\"itemsizing\": \"constant\", \"title\": {\"text\": \"color\"}, \"tracegroupgap\": 0}, \"margin\": {\"t\": 60}, \"scene\": {\"domain\": {\"x\": [0.0, 1.0], \"y\": [0.0, 1.0]}, \"xaxis\": {\"title\": {\"text\": \"Intro_bills\"}}, \"yaxis\": {\"title\": {\"text\": \"y\"}}, \"zaxis\": {\"title\": {\"text\": \"z\"}}}, \"template\": {\"data\": {\"bar\": [{\"error_x\": {\"color\": \"#f2f5fa\"}, \"error_y\": {\"color\": \"#f2f5fa\"}, \"marker\": {\"line\": {\"color\": \"rgb(17,17,17)\", \"width\": 0.5}}, \"type\": \"bar\"}], \"barpolar\": [{\"marker\": {\"line\": {\"color\": \"rgb(17,17,17)\", \"width\": 0.5}}, \"type\": \"barpolar\"}], \"carpet\": [{\"aaxis\": {\"endlinecolor\": \"#A2B1C6\", \"gridcolor\": \"#506784\", \"linecolor\": \"#506784\", \"minorgridcolor\": \"#506784\", \"startlinecolor\": \"#A2B1C6\"}, \"baxis\": {\"endlinecolor\": \"#A2B1C6\", \"gridcolor\": \"#506784\", \"linecolor\": \"#506784\", \"minorgridcolor\": \"#506784\", \"startlinecolor\": \"#A2B1C6\"}, \"type\": \"carpet\"}], \"choropleth\": [{\"colorbar\": {\"outlinewidth\": 0, \"ticks\": \"\"}, \"type\": \"choropleth\"}], \"contour\": [{\"colorbar\": {\"outlinewidth\": 0, \"ticks\": \"\"}, \"colorscale\": [[0.0, \"#0d0887\"], [0.1111111111111111, \"#46039f\"], [0.2222222222222222, \"#7201a8\"], [0.3333333333333333, \"#9c179e\"], [0.4444444444444444, \"#bd3786\"], [0.5555555555555556, \"#d8576b\"], [0.6666666666666666, \"#ed7953\"], [0.7777777777777778, \"#fb9f3a\"], [0.8888888888888888, \"#fdca26\"], [1.0, \"#f0f921\"]], \"type\": \"contour\"}], \"contourcarpet\": [{\"colorbar\": {\"outlinewidth\": 0, \"ticks\": \"\"}, \"type\": \"contourcarpet\"}], \"heatmap\": [{\"colorbar\": {\"outlinewidth\": 0, \"ticks\": \"\"}, \"colorscale\": [[0.0, \"#0d0887\"], [0.1111111111111111, \"#46039f\"], [0.2222222222222222, \"#7201a8\"], [0.3333333333333333, \"#9c179e\"], [0.4444444444444444, \"#bd3786\"], [0.5555555555555556, \"#d8576b\"], [0.6666666666666666, \"#ed7953\"], [0.7777777777777778, \"#fb9f3a\"], [0.8888888888888888, \"#fdca26\"], [1.0, \"#f0f921\"]], \"type\": \"heatmap\"}], \"heatmapgl\": [{\"colorbar\": {\"outlinewidth\": 0, \"ticks\": \"\"}, \"colorscale\": [[0.0, \"#0d0887\"], [0.1111111111111111, \"#46039f\"], [0.2222222222222222, \"#7201a8\"], [0.3333333333333333, \"#9c179e\"], [0.4444444444444444, \"#bd3786\"], [0.5555555555555556, \"#d8576b\"], [0.6666666666666666, \"#ed7953\"], [0.7777777777777778, \"#fb9f3a\"], [0.8888888888888888, \"#fdca26\"], [1.0, \"#f0f921\"]], \"type\": \"heatmapgl\"}], \"histogram\": [{\"marker\": {\"colorbar\": {\"outlinewidth\": 0, \"ticks\": \"\"}}, \"type\": \"histogram\"}], \"histogram2d\": [{\"colorbar\": {\"outlinewidth\": 0, \"ticks\": \"\"}, \"colorscale\": [[0.0, \"#0d0887\"], [0.1111111111111111, \"#46039f\"], [0.2222222222222222, \"#7201a8\"], [0.3333333333333333, \"#9c179e\"], [0.4444444444444444, \"#bd3786\"], [0.5555555555555556, \"#d8576b\"], [0.6666666666666666, \"#ed7953\"], [0.7777777777777778, \"#fb9f3a\"], [0.8888888888888888, \"#fdca26\"], [1.0, \"#f0f921\"]], \"type\": \"histogram2d\"}], \"histogram2dcontour\": [{\"colorbar\": {\"outlinewidth\": 0, \"ticks\": \"\"}, \"colorscale\": [[0.0, \"#0d0887\"], [0.1111111111111111, \"#46039f\"], [0.2222222222222222, \"#7201a8\"], [0.3333333333333333, \"#9c179e\"], [0.4444444444444444, \"#bd3786\"], [0.5555555555555556, \"#d8576b\"], [0.6666666666666666, \"#ed7953\"], [0.7777777777777778, \"#fb9f3a\"], [0.8888888888888888, \"#fdca26\"], [1.0, \"#f0f921\"]], \"type\": \"histogram2dcontour\"}], \"mesh3d\": [{\"colorbar\": {\"outlinewidth\": 0, \"ticks\": \"\"}, \"type\": \"mesh3d\"}], \"parcoords\": [{\"line\": {\"colorbar\": {\"outlinewidth\": 0, \"ticks\": \"\"}}, \"type\": \"parcoords\"}], \"pie\": [{\"automargin\": true, \"type\": \"pie\"}], \"scatter\": [{\"marker\": {\"line\": {\"color\": \"#283442\"}}, \"type\": \"scatter\"}], \"scatter3d\": [{\"line\": {\"colorbar\": {\"outlinewidth\": 0, \"ticks\": \"\"}}, \"marker\": {\"colorbar\": {\"outlinewidth\": 0, \"ticks\": \"\"}}, \"type\": \"scatter3d\"}], \"scattercarpet\": [{\"marker\": {\"colorbar\": {\"outlinewidth\": 0, \"ticks\": \"\"}}, \"type\": \"scattercarpet\"}], \"scattergeo\": [{\"marker\": {\"colorbar\": {\"outlinewidth\": 0, \"ticks\": \"\"}}, \"type\": \"scattergeo\"}], \"scattergl\": [{\"marker\": {\"line\": {\"color\": \"#283442\"}}, \"type\": \"scattergl\"}], \"scattermapbox\": [{\"marker\": {\"colorbar\": {\"outlinewidth\": 0, \"ticks\": \"\"}}, \"type\": \"scattermapbox\"}], \"scatterpolar\": [{\"marker\": {\"colorbar\": {\"outlinewidth\": 0, \"ticks\": \"\"}}, \"type\": \"scatterpolar\"}], \"scatterpolargl\": [{\"marker\": {\"colorbar\": {\"outlinewidth\": 0, \"ticks\": \"\"}}, \"type\": \"scatterpolargl\"}], \"scatterternary\": [{\"marker\": {\"colorbar\": {\"outlinewidth\": 0, \"ticks\": \"\"}}, \"type\": \"scatterternary\"}], \"surface\": [{\"colorbar\": {\"outlinewidth\": 0, \"ticks\": \"\"}, \"colorscale\": [[0.0, \"#0d0887\"], [0.1111111111111111, \"#46039f\"], [0.2222222222222222, \"#7201a8\"], [0.3333333333333333, \"#9c179e\"], [0.4444444444444444, \"#bd3786\"], [0.5555555555555556, \"#d8576b\"], [0.6666666666666666, \"#ed7953\"], [0.7777777777777778, \"#fb9f3a\"], [0.8888888888888888, \"#fdca26\"], [1.0, \"#f0f921\"]], \"type\": \"surface\"}], \"table\": [{\"cells\": {\"fill\": {\"color\": \"#506784\"}, \"line\": {\"color\": \"rgb(17,17,17)\"}}, \"header\": {\"fill\": {\"color\": \"#2a3f5f\"}, \"line\": {\"color\": \"rgb(17,17,17)\"}}, \"type\": \"table\"}]}, \"layout\": {\"annotationdefaults\": {\"arrowcolor\": \"#f2f5fa\", \"arrowhead\": 0, \"arrowwidth\": 1}, \"coloraxis\": {\"colorbar\": {\"outlinewidth\": 0, \"ticks\": \"\"}}, \"colorscale\": {\"diverging\": [[0, \"#8e0152\"], [0.1, \"#c51b7d\"], [0.2, \"#de77ae\"], [0.3, \"#f1b6da\"], [0.4, \"#fde0ef\"], [0.5, \"#f7f7f7\"], [0.6, \"#e6f5d0\"], [0.7, \"#b8e186\"], [0.8, \"#7fbc41\"], [0.9, \"#4d9221\"], [1, \"#276419\"]], \"sequential\": [[0.0, \"#0d0887\"], [0.1111111111111111, \"#46039f\"], [0.2222222222222222, \"#7201a8\"], [0.3333333333333333, \"#9c179e\"], [0.4444444444444444, \"#bd3786\"], [0.5555555555555556, \"#d8576b\"], [0.6666666666666666, \"#ed7953\"], [0.7777777777777778, \"#fb9f3a\"], [0.8888888888888888, \"#fdca26\"], [1.0, \"#f0f921\"]], \"sequentialminus\": [[0.0, \"#0d0887\"], [0.1111111111111111, \"#46039f\"], [0.2222222222222222, \"#7201a8\"], [0.3333333333333333, \"#9c179e\"], [0.4444444444444444, \"#bd3786\"], [0.5555555555555556, \"#d8576b\"], [0.6666666666666666, \"#ed7953\"], [0.7777777777777778, \"#fb9f3a\"], [0.8888888888888888, \"#fdca26\"], [1.0, \"#f0f921\"]]}, \"colorway\": [\"#636efa\", \"#EF553B\", \"#00cc96\", \"#ab63fa\", \"#FFA15A\", \"#19d3f3\", \"#FF6692\", \"#B6E880\", \"#FF97FF\", \"#FECB52\"], \"font\": {\"color\": \"#f2f5fa\"}, \"geo\": {\"bgcolor\": \"rgb(17,17,17)\", \"lakecolor\": \"rgb(17,17,17)\", \"landcolor\": \"rgb(17,17,17)\", \"showlakes\": true, \"showland\": true, \"subunitcolor\": \"#506784\"}, \"hoverlabel\": {\"align\": \"left\"}, \"hovermode\": \"closest\", \"mapbox\": {\"style\": \"dark\"}, \"paper_bgcolor\": \"rgb(17,17,17)\", \"plot_bgcolor\": \"rgb(17,17,17)\", \"polar\": {\"angularaxis\": {\"gridcolor\": \"#506784\", \"linecolor\": \"#506784\", \"ticks\": \"\"}, \"bgcolor\": \"rgb(17,17,17)\", \"radialaxis\": {\"gridcolor\": \"#506784\", \"linecolor\": \"#506784\", \"ticks\": \"\"}}, \"scene\": {\"xaxis\": {\"backgroundcolor\": \"rgb(17,17,17)\", \"gridcolor\": \"#506784\", \"gridwidth\": 2, \"linecolor\": \"#506784\", \"showbackground\": true, \"ticks\": \"\", \"zerolinecolor\": \"#C8D4E3\"}, \"yaxis\": {\"backgroundcolor\": \"rgb(17,17,17)\", \"gridcolor\": \"#506784\", \"gridwidth\": 2, \"linecolor\": \"#506784\", \"showbackground\": true, \"ticks\": \"\", \"zerolinecolor\": \"#C8D4E3\"}, \"zaxis\": {\"backgroundcolor\": \"rgb(17,17,17)\", \"gridcolor\": \"#506784\", \"gridwidth\": 2, \"linecolor\": \"#506784\", \"showbackground\": true, \"ticks\": \"\", \"zerolinecolor\": \"#C8D4E3\"}}, \"shapedefaults\": {\"line\": {\"color\": \"#f2f5fa\"}}, \"sliderdefaults\": {\"bgcolor\": \"#C8D4E3\", \"bordercolor\": \"rgb(17,17,17)\", \"borderwidth\": 1, \"tickwidth\": 0}, \"ternary\": {\"aaxis\": {\"gridcolor\": \"#506784\", \"linecolor\": \"#506784\", \"ticks\": \"\"}, \"baxis\": {\"gridcolor\": \"#506784\", \"linecolor\": \"#506784\", \"ticks\": \"\"}, \"bgcolor\": \"rgb(17,17,17)\", \"caxis\": {\"gridcolor\": \"#506784\", \"linecolor\": \"#506784\", \"ticks\": \"\"}}, \"title\": {\"x\": 0.05}, \"updatemenudefaults\": {\"bgcolor\": \"#506784\", \"borderwidth\": 0}, \"xaxis\": {\"automargin\": true, \"gridcolor\": \"#283442\", \"linecolor\": \"#506784\", \"ticks\": \"\", \"title\": {\"standoff\": 15}, \"zerolinecolor\": \"#283442\", \"zerolinewidth\": 2}, \"yaxis\": {\"automargin\": true, \"gridcolor\": \"#283442\", \"linecolor\": \"#506784\", \"ticks\": \"\", \"title\": {\"standoff\": 15}, \"zerolinecolor\": \"#283442\", \"zerolinewidth\": 2}}}, \"title\": {\"text\": \"Cumulative Stem Bills Introduced, Passed, and Enacted\"}, \"xaxis\": {\"title\": {\"text\": \"STEM Bills Introduced per Congress\"}}, \"yaxis\": {\"title\": {\"text\": \"Bills Enacted\"}}},                        {\"responsive\": true}                    ).then(function(){\n",
       "                            \n",
       "var gd = document.getElementById('758b2c2c-d0a9-47dc-9f63-f8f23986205d');\n",
       "var x = new MutationObserver(function (mutations, observer) {{\n",
       "        var display = window.getComputedStyle(gd).display;\n",
       "        if (!display || display === 'none') {{\n",
       "            console.log([gd, 'removed!']);\n",
       "            Plotly.purge(gd);\n",
       "            observer.disconnect();\n",
       "        }}\n",
       "}});\n",
       "\n",
       "// Listen for the removal of the full notebook cells\n",
       "var notebookContainer = gd.closest('#notebook-container');\n",
       "if (notebookContainer) {{\n",
       "    x.observe(notebookContainer, {childList: true});\n",
       "}}\n",
       "\n",
       "// Listen for the clearing of the current output cell\n",
       "var outputEl = gd.closest('.output');\n",
       "if (outputEl) {{\n",
       "    x.observe(outputEl, {childList: true});\n",
       "}}\n",
       "\n",
       "                        })                };                });            </script>        </div>"
      ]
     },
     "metadata": {},
     "output_type": "display_data"
    }
   ],
   "source": [
    "fig5 = px.scatter_3d(df, x='Intro_bills', y= senate_enacted_rate, z= house_senate_rate\n",
    "                 ,size=house_senate_rate\n",
    "                 ,hover_data=['Split_Gov', 'enacted_signed_by_pres', 'enacted_included_in_other_bill']\n",
    "                 ,color= congress)\n",
    "fig5.update_traces(marker=dict(size=10))\n",
    "fig5.update_layout(template='plotly_dark')\n",
    "fig5.update_layout(title='Cumulative Stem Bills Introduced, Passed, and Enacted',\n",
    "                xaxis_title = 'STEM Bills Introduced per Congress', \n",
    "                yaxis_title ='Bills Enacted')\n",
    "fig5.show()"
   ]
  },
  {
   "cell_type": "code",
   "execution_count": 19,
   "metadata": {
    "scrolled": true
   },
   "outputs": [
    {
     "name": "stdout",
     "output_type": "stream",
     "text": [
      "Publishing report and associated data - please wait..\n",
      "Report successfully published at https://datapane.com/u/jazmiahenry/reports/bills-introduced/\n"
     ]
    }
   ],
   "source": [
    "import datapane as dp\n",
    "\n",
    "report = dp.Report(dp.Plot(fig1)) \n",
    "report.publish(name='bills_introduced', open=True, visibility='PUBLIC') "
   ]
  },
  {
   "cell_type": "code",
   "execution_count": 21,
   "metadata": {},
   "outputs": [],
   "source": [
    "import chart_studio"
   ]
  },
  {
   "cell_type": "code",
   "execution_count": 27,
   "metadata": {},
   "outputs": [],
   "source": [
    "username = 'jazmiahenry' # your username\n",
    "api_key = 'VzBR0yJvhQJlCLXTQUpy' # your api key - go to profile > settings > regenerate key\n",
    "chart_studio.tools.set_credentials_file(username=username, api_key=api_key)"
   ]
  },
  {
   "cell_type": "code",
   "execution_count": 51,
   "metadata": {},
   "outputs": [
    {
     "data": {
      "text/plain": [
       "'https://plotly.com/~jazmiahenry/21/'"
      ]
     },
     "execution_count": 51,
     "metadata": {},
     "output_type": "execute_result"
    }
   ],
   "source": [
    "import chart_studio.plotly as cs\n",
    "cs.plot(fig5, filename = 'fig5', auto_open=False)"
   ]
  },
  {
   "cell_type": "code",
   "execution_count": null,
   "metadata": {},
   "outputs": [],
   "source": []
  }
 ],
 "metadata": {
  "kernelspec": {
   "display_name": "Python 3",
   "language": "python",
   "name": "python3"
  },
  "language_info": {
   "codemirror_mode": {
    "name": "ipython",
    "version": 3
   },
   "file_extension": ".py",
   "mimetype": "text/x-python",
   "name": "python",
   "nbconvert_exporter": "python",
   "pygments_lexer": "ipython3",
   "version": "3.8.3"
  }
 },
 "nbformat": 4,
 "nbformat_minor": 4
}
